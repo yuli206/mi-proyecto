{
  "nbformat": 4,
  "nbformat_minor": 0,
  "metadata": {
    "colab": {
      "provenance": [],
      "authorship_tag": "ABX9TyOmc5mctaQULDzgiOFzYRv8",
      "include_colab_link": true
    },
    "kernelspec": {
      "name": "python3",
      "display_name": "Python 3"
    },
    "language_info": {
      "name": "python"
    }
  },
  "cells": [
    {
      "cell_type": "markdown",
      "metadata": {
        "id": "view-in-github",
        "colab_type": "text"
      },
      "source": [
        "<a href=\"https://colab.research.google.com/github/yuli206/mi-proyecto/blob/main/Untitled6.ipynb\" target=\"_parent\"><img src=\"https://colab.research.google.com/assets/colab-badge.svg\" alt=\"Open In Colab\"/></a>"
      ]
    },
    {
      "cell_type": "markdown",
      "source": [],
      "metadata": {
        "id": "V0EUB8X4colS"
      }
    },
    {
      "cell_type": "markdown",
      "source": [
        "# Taller Objetos Python\n",
        "#### Materia: Inteligencia Artificial\n",
        "#### Tutora: Lina Maria Castro\n",
        "#### Estudiante: Yuli Esquivel Martinez"
      ],
      "metadata": {
        "id": "XFmq0nLXcq_R"
      }
    },
    {
      "cell_type": "code",
      "execution_count": 41,
      "metadata": {
        "colab": {
          "base_uri": "https://localhost:8080/"
        },
        "id": "cQd-WB16XWiT",
        "outputId": "32892dd1-ced9-4efd-f9bd-73c1b147696e"
      },
      "outputs": [
        {
          "output_type": "stream",
          "name": "stdout",
          "text": [
            "1. ¿Cuál NO es tipo básico en Python?\n",
            "a) Números b) Cadenas c) Conjuntos d) Funciones matemáticas\n",
            "RESPUESTA: d) Funciones matemáticas\n"
          ]
        }
      ],
      "source": [
        "# Pregunta 1\n",
        "print(\"1. ¿Cuál NO es tipo básico en Python?\")\n",
        "print(\"a) Números b) Cadenas c) Conjuntos d) Funciones matemáticas\")\n",
        "print(\"RESPUESTA: d) Funciones matemáticas\")"
      ]
    },
    {
      "cell_type": "code",
      "source": [
        "# Pregunta 2\n",
        "print(\"2. True y False pertenecen al tipo:\")\n",
        "print(\"a) Entero b) Booleano c) Cadena d) Conjunto\")\n",
        "print(\"RESPUESTA: b) Booleano\")"
      ],
      "metadata": {
        "colab": {
          "base_uri": "https://localhost:8080/"
        },
        "id": "-KBFpgyvXq0h",
        "outputId": "59b83e45-6a7e-4313-f8ee-454c88e12e23"
      },
      "execution_count": 4,
      "outputs": [
        {
          "output_type": "stream",
          "name": "stdout",
          "text": [
            "2. True y False pertenecen al tipo:\n",
            "a) Entero b) Booleano c) Cadena d) Conjunto\n",
            "RESPUESTA: b) Booleano\n",
            " CORRECTA\n",
            "\n"
          ]
        }
      ]
    },
    {
      "cell_type": "code",
      "source": [
        "# Pregunta 3\n",
        "print(\"3. ¿Cuál es tipo numérico?\")\n",
        "print(\"a) int, float, complex b) str, int, tuple c) list, set, dict d) bool, tuple, set\")\n",
        "print(\"RESPUESTA: a) int, float, complex\")"
      ],
      "metadata": {
        "id": "YRMwiki6YQsC"
      },
      "execution_count": null,
      "outputs": []
    },
    {
      "cell_type": "code",
      "source": [
        "# Pregunta 4\n",
        "print(\"4. x = (1, 2, 3); print(x[1])\")\n",
        "x = (1, 2, 3)\n",
        "print(\"Resultado:\", x[1])\n",
        "print(\"RESPUESTA: b) 2\")"
      ],
      "metadata": {
        "colab": {
          "base_uri": "https://localhost:8080/"
        },
        "id": "eZfyZHh9Yb_d",
        "outputId": "89068598-377f-46d4-8bd0-8811682d2391"
      },
      "execution_count": 34,
      "outputs": [
        {
          "output_type": "stream",
          "name": "stdout",
          "text": [
            "4. x = (1, 2, 3); print(x[1])\n",
            "Resultado: 2\n",
            "RESPUESTA: b) 2\n",
            " CORRECTA\n",
            "\n"
          ]
        }
      ]
    },
    {
      "cell_type": "code",
      "source": [
        "# Pregunta 5\n",
        "print(\"5. Error en: t = (1,2,3); t[0] = 10\")\n",
        "try:\n",
        "    t = (1, 2, 3)\n",
        "    t[0] = 10\n",
        "    print(\"No hubo error\")\n",
        "except Exception as e:\n",
        "    print(\"Error:\", type(e).__name__)\n",
        "print(\"RESPUESTA: c) Las tuplas son inmutables\")"
      ],
      "metadata": {
        "colab": {
          "base_uri": "https://localhost:8080/"
        },
        "id": "p7qhDZHHYfqT",
        "outputId": "8e1517c5-a2c3-4668-c570-ac127e386b31"
      },
      "execution_count": 5,
      "outputs": [
        {
          "output_type": "stream",
          "name": "stdout",
          "text": [
            "5. Error en: t = (1,2,3); t[0] = 10\n",
            "Error: TypeError\n",
            "RESPUESTA: c) Las tuplas son inmutables\n",
            " CORRECTO\n",
            "\n"
          ]
        }
      ]
    },
    {
      "cell_type": "code",
      "source": [
        "# Pregunta 6\n",
        "print(\"6. s = {1,2,2,3,3}; print(s)\")\n",
        "s = {1, 2, 2, 3, 3}\n",
        "print(\"Resultado:\", s)\n",
        "print(\"RESPUESTA: b) {1, 2, 3}\")\n",
        "print(\" CORRECTO\\n\")"
      ],
      "metadata": {
        "colab": {
          "base_uri": "https://localhost:8080/"
        },
        "id": "azuD2P65YrTd",
        "outputId": "b924239b-01ce-4323-d9e7-2e1c98013f46"
      },
      "execution_count": 33,
      "outputs": [
        {
          "output_type": "stream",
          "name": "stdout",
          "text": [
            "6. s = {1,2,2,3,3}; print(s)\n",
            "Resultado: {1, 2, 3}\n",
            "RESPUESTA: b) {1, 2, 3}\n",
            " CORRECTO\n",
            "\n"
          ]
        }
      ]
    },
    {
      "cell_type": "code",
      "source": [
        "# Pregunta 7\n",
        "print(\"7. palabra = 'Mundo'; print(palabra[1:4])\")\n",
        "palabra = \"Mundo\"\n",
        "print(\"Resultado:\", palabra[1:4])\n",
        "print(\"RESPUESTA: c) 'und'\")"
      ],
      "metadata": {
        "colab": {
          "base_uri": "https://localhost:8080/"
        },
        "id": "Kzs5A0VgYvMl",
        "outputId": "1e2e0b1d-0b22-417f-9f26-cb007669b00c"
      },
      "execution_count": 32,
      "outputs": [
        {
          "output_type": "stream",
          "name": "stdout",
          "text": [
            "7. palabra = 'Mundo'; print(palabra[1:4])\n",
            "Resultado: und\n",
            "RESPUESTA: c) 'und'\n"
          ]
        }
      ]
    },
    {
      "cell_type": "code",
      "source": [
        "# Pregunta 8\n",
        "print(\"8. lista = [10,20,30]; lista.append(40); print(lista)\")\n",
        "lista = [10, 20, 30]\n",
        "lista.append(40)\n",
        "print(\"Resultado:\", lista)\n",
        "print(\"RESPUESTA: b) [10,20,30,40]\")"
      ],
      "metadata": {
        "colab": {
          "base_uri": "https://localhost:8080/"
        },
        "id": "A2QpA_SXYyzx",
        "outputId": "1c034212-809c-4e23-eed6-6455f617e10a"
      },
      "execution_count": 31,
      "outputs": [
        {
          "output_type": "stream",
          "name": "stdout",
          "text": [
            "8. lista = [10,20,30]; lista.append(40); print(lista)\n",
            "Resultado: [10, 20, 30, 40]\n",
            "RESPUESTA: b) [10,20,30,40]\n"
          ]
        }
      ]
    },
    {
      "cell_type": "code",
      "source": [
        "# Pregunta 9\n",
        "print(\"9. dic = {'a':1,'b':2}; print(dic['c'])\")\n",
        "try:\n",
        "    dic = {\"a\": 1, \"b\": 2}\n",
        "    print(dic[\"c\"])\n",
        "except Exception as e:\n",
        "    print(\"Error:\", type(e).__name__)\n",
        "print(\"RESPUESTA: c) Error\")"
      ],
      "metadata": {
        "colab": {
          "base_uri": "https://localhost:8080/"
        },
        "id": "84LbA_ZYY1XF",
        "outputId": "6eea6037-8c79-4a95-f160-7eb34db9ee91"
      },
      "execution_count": 30,
      "outputs": [
        {
          "output_type": "stream",
          "name": "stdout",
          "text": [
            "9. dic = {'a':1,'b':2}; print(dic['c'])\n",
            "Error: KeyError\n",
            "RESPUESTA: c) Error\n"
          ]
        }
      ]
    },
    {
      "cell_type": "code",
      "source": [
        "# Pregunta 10 - CON CÓDIGO EJECUTADO\n",
        "print(\"10. Obtener valor 3 de d = {'x':1,'y':2,'z':3}\")\n",
        "d = {\"x\": 1, \"y\": 2, \"z\": 3}\n",
        "print(\"Resultado de d['z']:\", d[\"z\"])\n",
        "print(\"RESPUESTA: a) d['z']\")\n"
      ],
      "metadata": {
        "colab": {
          "base_uri": "https://localhost:8080/"
        },
        "id": "d63iPX2bY3yO",
        "outputId": "5b2f998d-d2d0-4b1a-dc04-801f66e93e48"
      },
      "execution_count": 28,
      "outputs": [
        {
          "output_type": "stream",
          "name": "stdout",
          "text": [
            "10. Obtener valor 3 de d = {'x':1,'y':2,'z':3}\n",
            "Resultado de d['z']: 3\n",
            "RESPUESTA: a) d['z']\n"
          ]
        }
      ]
    },
    {
      "cell_type": "code",
      "source": [
        "# Pregunta 11\n",
        "print(\"11. print(type(3.0))\")\n",
        "print(\"Resultado:\", type(3.0))\n",
        "print(\"RESPUESTA: b) float\")\n"
      ],
      "metadata": {
        "colab": {
          "base_uri": "https://localhost:8080/"
        },
        "id": "jp_OpVumaOch",
        "outputId": "b34fe483-f6cf-4fe4-ecb4-0237edc1ae3c"
      },
      "execution_count": 27,
      "outputs": [
        {
          "output_type": "stream",
          "name": "stdout",
          "text": [
            "11. print(type(3.0))\n",
            "Resultado: <class 'float'>\n",
            "RESPUESTA: b) float\n"
          ]
        }
      ]
    },
    {
      "cell_type": "code",
      "source": [
        "# Pregunta 12\n",
        "print(\"12. x = [1,2,3]; y = x; y.append(4); print(x)\")\n",
        "x = [1, 2, 3]\n",
        "y = x\n",
        "y.append(4)\n",
        "print(\"Resultado:\", x)\n",
        "print(\"RESPUESTA: b) [1,2,3,4]\")\n"
      ],
      "metadata": {
        "colab": {
          "base_uri": "https://localhost:8080/"
        },
        "id": "w00_GSd1aQ91",
        "outputId": "1ea5e167-c30c-42b5-8e0f-69e43337d9ba"
      },
      "execution_count": 26,
      "outputs": [
        {
          "output_type": "stream",
          "name": "stdout",
          "text": [
            "12. x = [1,2,3]; y = x; y.append(4); print(x)\n",
            "Resultado: [1, 2, 3, 4]\n",
            "RESPUESTA: b) [1,2,3,4]\n"
          ]
        }
      ]
    },
    {
      "cell_type": "code",
      "source": [
        "# Pregunta 13\n",
        "print(\"13. numeros = ['10','20','30']; resultado = ','.join(numeros)\")\n",
        "numeros = [\"10\", \"20\", \"30\"]\n",
        "resultado = \",\".join(numeros)\n",
        "print(\"Resultado:\", resultado)\n",
        "print(\"RESPUESTA: b) '10,20,30'\")\n"
      ],
      "metadata": {
        "colab": {
          "base_uri": "https://localhost:8080/"
        },
        "id": "jy4Z7zEvaTmJ",
        "outputId": "3ff6de5c-b4ee-47cd-abbd-15736a10d1a0"
      },
      "execution_count": 25,
      "outputs": [
        {
          "output_type": "stream",
          "name": "stdout",
          "text": [
            "13. numeros = ['10','20','30']; resultado = ','.join(numeros)\n",
            "Resultado: 10,20,30\n",
            "RESPUESTA: b) '10,20,30'\n"
          ]
        }
      ]
    },
    {
      "cell_type": "code",
      "source": [
        "# Pregunta 14\n",
        "print(\"14. Convertir conjunto a lista: s = {1,2,3}\")\n",
        "s = {1, 2, 3}\n",
        "print(\"list(s) =\", list(s))\n",
        "print(\"RESPUESTA: a) list(s)\")\n"
      ],
      "metadata": {
        "colab": {
          "base_uri": "https://localhost:8080/"
        },
        "id": "Yf2QIsoZaVus",
        "outputId": "3a8915be-85ad-4913-8d9c-8add4110597f"
      },
      "execution_count": 24,
      "outputs": [
        {
          "output_type": "stream",
          "name": "stdout",
          "text": [
            "14. Convertir conjunto a lista: s = {1,2,3}\n",
            "list(s) = [1, 2, 3]\n",
            "RESPUESTA: a) list(s)\n"
          ]
        }
      ]
    },
    {
      "cell_type": "code",
      "source": [
        "# Pregunta 15\n",
        "print(\"15. cadena = 'Hola'; print(cadena * 3)\")\n",
        "cadena = \"Hola\"\n",
        "print(\"Resultado:\", cadena * 3)\n",
        "print(\"RESPUESTA: b) 'HolaHolaHola'\")\n"
      ],
      "metadata": {
        "colab": {
          "base_uri": "https://localhost:8080/"
        },
        "id": "cpb_NE6zaYUL",
        "outputId": "ec9887aa-028e-4c7b-fded-a989515dd0f2"
      },
      "execution_count": 23,
      "outputs": [
        {
          "output_type": "stream",
          "name": "stdout",
          "text": [
            "15. cadena = 'Hola'; print(cadena * 3)\n",
            "Resultado: HolaHolaHola\n",
            "RESPUESTA: b) 'HolaHolaHola'\n"
          ]
        }
      ]
    },
    {
      "cell_type": "code",
      "source": [
        "# Pregunta 16\n",
        "print(\"16. lista = [10,20,30]; print(lista[-1])\")\n",
        "lista = [10, 20, 30]\n",
        "print(\"Resultado:\", lista[-1])\n",
        "print(\"RESPUESTA: c) 30\")\n"
      ],
      "metadata": {
        "colab": {
          "base_uri": "https://localhost:8080/"
        },
        "id": "bQ70h-JKabQN",
        "outputId": "cbaf549c-956b-45d3-bb70-fb03b83ab589"
      },
      "execution_count": 22,
      "outputs": [
        {
          "output_type": "stream",
          "name": "stdout",
          "text": [
            "16. lista = [10,20,30]; print(lista[-1])\n",
            "Resultado: 30\n",
            "RESPUESTA: c) 30\n"
          ]
        }
      ]
    },
    {
      "cell_type": "code",
      "source": [
        "# Pregunta 17\n",
        "print(\"17. precios = [1200,500,3400,800]; precios.sort()\")\n",
        "precios = [1200, 500, 3400, 800]\n",
        "precios.sort()\n",
        "print(\"Resultado:\", precios)\n",
        "print(\"RESPUESTA: a) [500,800,1200,3400]\")\n"
      ],
      "metadata": {
        "colab": {
          "base_uri": "https://localhost:8080/"
        },
        "id": "WNA9gndMahqA",
        "outputId": "2f9b749e-ac1a-4aac-e3b4-56546806b766"
      },
      "execution_count": 21,
      "outputs": [
        {
          "output_type": "stream",
          "name": "stdout",
          "text": [
            "17. precios = [1200,500,3400,800]; precios.sort()\n",
            "Resultado: [500, 800, 1200, 3400]\n",
            "RESPUESTA: a) [500,800,1200,3400]\n"
          ]
        }
      ]
    },
    {
      "cell_type": "code",
      "source": [
        "# Pregunta 18\n",
        "print(\"18. conjunto = {1,2,3}; print(conjunto[0])\")\n",
        "try:\n",
        "    conjunto = {1, 2, 3}\n",
        "    print(conjunto[0])\n",
        "except Exception as e:\n",
        "    print(\"Error:\", type(e).__name__)\n",
        "print(\"RESPUESTA: a) Los conjuntos no son indexables\")\n"
      ],
      "metadata": {
        "colab": {
          "base_uri": "https://localhost:8080/"
        },
        "id": "svdBkxykalQ0",
        "outputId": "1d56542a-d375-4e2f-f640-988af0d42b75"
      },
      "execution_count": 20,
      "outputs": [
        {
          "output_type": "stream",
          "name": "stdout",
          "text": [
            "18. conjunto = {1,2,3}; print(conjunto[0])\n",
            "Error: TypeError\n",
            "RESPUESTA: a) Los conjuntos no son indexables\n"
          ]
        }
      ]
    },
    {
      "cell_type": "code",
      "source": [
        "# Pregunta 19\n",
        "print(\"19. len({'a':1,'b':2,'c':3})\")\n",
        "print(\"Resultado:\", len({\"a\": 1, \"b\": 2, \"c\": 3}))\n",
        "print(\"RESPUESTA: b) 3\")\n"
      ],
      "metadata": {
        "colab": {
          "base_uri": "https://localhost:8080/"
        },
        "id": "g2hLqdx9anRy",
        "outputId": "8dc6b76e-24a0-42ce-a0d1-2036eb02b94c"
      },
      "execution_count": 19,
      "outputs": [
        {
          "output_type": "stream",
          "name": "stdout",
          "text": [
            "19. len({'a':1,'b':2,'c':3})\n",
            "Resultado: 3\n",
            "RESPUESTA: b) 3\n"
          ]
        }
      ]
    },
    {
      "cell_type": "code",
      "source": [
        "# Pregunta 20\n",
        "print(\"20. lista = [1,2,3]; print(lista * 2)\")\n",
        "lista = [1, 2, 3]\n",
        "print(\"Resultado:\", lista * 2)\n",
        "print(\"RESPUESTA: a) [1,2,3,1,2,3]\")"
      ],
      "metadata": {
        "colab": {
          "base_uri": "https://localhost:8080/"
        },
        "id": "WStWm6Y3ap67",
        "outputId": "ba14b1a7-c714-4a4c-ceb8-01f7e8f77e9d"
      },
      "execution_count": 18,
      "outputs": [
        {
          "output_type": "stream",
          "name": "stdout",
          "text": [
            "20. lista = [1,2,3]; print(lista * 2)\n",
            "Resultado: [1, 2, 3, 1, 2, 3]\n",
            "RESPUESTA: a) [1,2,3,1,2,3]\n"
          ]
        }
      ]
    },
    {
      "cell_type": "code",
      "source": [
        "# Pregunta 21\n",
        "print(\"21. d = {'a':1}; d['a'] = 100; print(d)\")\n",
        "d = {\"a\": 1}\n",
        "d[\"a\"] = 100\n",
        "print(\"Resultado:\", d)\n",
        "print(\"RESPUESTA: b) {'a':100}\")"
      ],
      "metadata": {
        "colab": {
          "base_uri": "https://localhost:8080/"
        },
        "id": "DiUIzSDHasFh",
        "outputId": "2f2668c5-9c15-4516-bc4c-a8930cc085ae"
      },
      "execution_count": 17,
      "outputs": [
        {
          "output_type": "stream",
          "name": "stdout",
          "text": [
            "21. d = {'a':1}; d['a'] = 100; print(d)\n",
            "Resultado: {'a': 100}\n",
            "RESPUESTA: b) {'a':100}\n"
          ]
        }
      ]
    },
    {
      "cell_type": "code",
      "source": [
        "# Pregunta 22\n",
        "print(\"22. print('python'.upper())\")\n",
        "print(\"Resultado:\", \"python\".upper())\n",
        "print(\"RESPUESTA: a) PYTHON\")"
      ],
      "metadata": {
        "colab": {
          "base_uri": "https://localhost:8080/"
        },
        "id": "3SgulnOrauiJ",
        "outputId": "6a4d13e2-8c5c-465f-911e-4c10b018e815"
      },
      "execution_count": 16,
      "outputs": [
        {
          "output_type": "stream",
          "name": "stdout",
          "text": [
            "22. print('python'.upper())\n",
            "Resultado: PYTHON\n",
            "RESPUESTA: a) PYTHON\n"
          ]
        }
      ]
    },
    {
      "cell_type": "code",
      "source": [
        "# Pregunta 23\n",
        "print(\"23. s = {1,2,3}; s.add(5)\")\n",
        "s = {1, 2, 3}\n",
        "s.add(5)\n",
        "print(\"Resultado:\", s)\n",
        "print(\"RESPUESTA: a) add\")"
      ],
      "metadata": {
        "colab": {
          "base_uri": "https://localhost:8080/"
        },
        "id": "TwRN2JPhawl3",
        "outputId": "f2160926-7e2c-4cab-81a1-ff35cffce39d"
      },
      "execution_count": 15,
      "outputs": [
        {
          "output_type": "stream",
          "name": "stdout",
          "text": [
            "23. s = {1,2,3}; s.add(5)\n",
            "Resultado: {1, 2, 3, 5}\n",
            "RESPUESTA: a) add\n"
          ]
        }
      ]
    },
    {
      "cell_type": "code",
      "source": [
        "# Pregunta 24\n",
        "print(\"24. d = {'x':10,'y':20}; print('x' in d)\")\n",
        "d = {\"x\": 10, \"y\": 20}\n",
        "print(\"Resultado:\", \"x\" in d)\n",
        "print(\"RESPUESTA: b) True\")"
      ],
      "metadata": {
        "colab": {
          "base_uri": "https://localhost:8080/"
        },
        "id": "--HDu26wa0Sb",
        "outputId": "ada4d984-f2f2-4cb5-8bd6-3f2257003cbf"
      },
      "execution_count": 14,
      "outputs": [
        {
          "output_type": "stream",
          "name": "stdout",
          "text": [
            "24. d = {'x':10,'y':20}; print('x' in d)\n",
            "Resultado: True\n",
            "RESPUESTA: b) True\n"
          ]
        }
      ]
    },
    {
      "cell_type": "code",
      "source": [
        "# Pregunta 25\n",
        "print(\"25. print([1,2,3] == [1,2,3])\")\n",
        "print(\"Resultado:\", [1, 2, 3] == [1, 2, 3])\n",
        "print(\"RESPUESTA: a) True\")"
      ],
      "metadata": {
        "colab": {
          "base_uri": "https://localhost:8080/"
        },
        "id": "kMh5fg-Ia2AQ",
        "outputId": "93ac994e-0e71-464d-c1b8-8ccea634164f"
      },
      "execution_count": 13,
      "outputs": [
        {
          "output_type": "stream",
          "name": "stdout",
          "text": [
            "25. print([1,2,3] == [1,2,3])\n",
            "Resultado: True\n",
            "RESPUESTA: a) True\n"
          ]
        }
      ]
    },
    {
      "cell_type": "code",
      "source": [
        "# Pregunta 26\n",
        "print(\"26. for i in range(5): print(i)\")\n",
        "print(\"Resultado:\")\n",
        "for i in range(5):\n",
        "    print(i, end=\" \")\n",
        "print(\"\\nRESPUESTA: c) 0 1 2 3 4\")"
      ],
      "metadata": {
        "colab": {
          "base_uri": "https://localhost:8080/"
        },
        "id": "Dr961d0Da2y7",
        "outputId": "24b89b48-56fa-4bb2-f2ae-c1620b54c5cb"
      },
      "execution_count": 12,
      "outputs": [
        {
          "output_type": "stream",
          "name": "stdout",
          "text": [
            "26. for i in range(5): print(i)\n",
            "Resultado:\n",
            "0 1 2 3 4 \n",
            "RESPUESTA: c) 0 1 2 3 4\n"
          ]
        }
      ]
    },
    {
      "cell_type": "code",
      "source": [
        "# Pregunta 27\n",
        "print(\"27. s = {1,2,3}; s.remove(4)\")\n",
        "try:\n",
        "    s = {1, 2, 3}\n",
        "    s.remove(4)\n",
        "    print(\"No hubo error\")\n",
        "except Exception as e:\n",
        "    print(\"Error:\", type(e).__name__)\n",
        "print(\"RESPUESTA: c) Lanza un error\")"
      ],
      "metadata": {
        "colab": {
          "base_uri": "https://localhost:8080/"
        },
        "id": "D_yfc4Fxa44W",
        "outputId": "d8529b93-f664-498b-e1d6-55c729a1a44b"
      },
      "execution_count": 11,
      "outputs": [
        {
          "output_type": "stream",
          "name": "stdout",
          "text": [
            "27. s = {1,2,3}; s.remove(4)\n",
            "Error: KeyError\n",
            "RESPUESTA: c) Lanza un error\n"
          ]
        }
      ]
    },
    {
      "cell_type": "code",
      "source": [
        "# Pregunta 28\n",
        "print(\"28. texto = 'Colombia México Perú Chile'; países = texto.split()\")\n",
        "texto = \"Colombia México Perú Chile\"\n",
        "países = texto.split()\n",
        "print(\"Resultado:\", países)\n",
        "print(\"RESPUESTA: b) ['Colombia','México','Perú','Chile']\")"
      ],
      "metadata": {
        "colab": {
          "base_uri": "https://localhost:8080/"
        },
        "id": "DTvnK-FCa67S",
        "outputId": "6d12530d-9325-4565-e55d-f8cad7a26175"
      },
      "execution_count": 10,
      "outputs": [
        {
          "output_type": "stream",
          "name": "stdout",
          "text": [
            "28. texto = 'Colombia México Perú Chile'; países = texto.split()\n",
            "Resultado: ['Colombia', 'México', 'Perú', 'Chile']\n",
            "RESPUESTA: b) ['Colombia','México','Perú','Chile']\n"
          ]
        }
      ]
    },
    {
      "cell_type": "code",
      "source": [
        "# Pregunta 29\n",
        "print(\"29. ventas = '1000;2500;3200;4500'; valores = ventas.split(';')\")\n",
        "ventas = \"1000;2500;3200;4500\"\n",
        "valores = ventas.split(\";\")\n",
        "print(\"Resultado:\", valores)\n",
        "print(\"RESPUESTA: a) ['1000','2500','3200','4500']\")"
      ],
      "metadata": {
        "colab": {
          "base_uri": "https://localhost:8080/"
        },
        "id": "c6YHaAmga89X",
        "outputId": "c9d782a2-fef7-402a-c9b7-52656d26698a"
      },
      "execution_count": 9,
      "outputs": [
        {
          "output_type": "stream",
          "name": "stdout",
          "text": [
            "29. ventas = '1000;2500;3200;4500'; valores = ventas.split(';')\n",
            "Resultado: ['1000', '2500', '3200', '4500']\n",
            "RESPUESTA: a) ['1000','2500','3200','4500']\n"
          ]
        }
      ]
    },
    {
      "cell_type": "code",
      "source": [
        "# Pregunta 30\n",
        "print(\"30. palabras = ['Economía','Mercados','Exportaciones']; texto = '-'.join(palabras)\")\n",
        "palabras = [\"Economía\", \"Mercados\", \"Exportaciones\"]\n",
        "texto = \"-\".join(palabras)\n",
        "print(\"Resultado:\", texto)\n",
        "print(\"RESPUESTA: b) 'Economía-Mercados-Exportaciones'\")"
      ],
      "metadata": {
        "colab": {
          "base_uri": "https://localhost:8080/"
        },
        "id": "_hvxfgXea_Ol",
        "outputId": "fa43566b-4fdc-4aec-aa50-881e83295a1e"
      },
      "execution_count": 8,
      "outputs": [
        {
          "output_type": "stream",
          "name": "stdout",
          "text": [
            "30. palabras = ['Economía','Mercados','Exportaciones']; texto = '-'.join(palabras)\n",
            "Resultado: Economía-Mercados-Exportaciones\n",
            "RESPUESTA: b) 'Economía-Mercados-Exportaciones'\n"
          ]
        }
      ]
    },
    {
      "cell_type": "code",
      "source": [
        "# Pregunta 31\n",
        "print(\"31. empresas = ['Amazon','Google','Microsoft','Apple']; empresas.sort()\")\n",
        "empresas = [\"Amazon\", \"Google\", \"Microsoft\", \"Apple\"]\n",
        "empresas.sort()\n",
        "print(\"Resultado:\", empresas)\n",
        "print(\"RESPUESTA: a) ['Amazon','Apple','Google','Microsoft']\")"
      ],
      "metadata": {
        "colab": {
          "base_uri": "https://localhost:8080/"
        },
        "id": "hAJt1p0ubBeQ",
        "outputId": "efb74c62-0b0c-4d30-fdb6-9546b13514f3"
      },
      "execution_count": 7,
      "outputs": [
        {
          "output_type": "stream",
          "name": "stdout",
          "text": [
            "31. empresas = ['Amazon','Google','Microsoft','Apple']; empresas.sort()\n",
            "Resultado: ['Amazon', 'Apple', 'Google', 'Microsoft']\n",
            "RESPUESTA: a) ['Amazon','Apple','Google','Microsoft']\n"
          ]
        }
      ]
    },
    {
      "cell_type": "code",
      "source": [
        "# Pregunta 32\n",
        "print(\"32. numeros = list(range(2,10,2))\")\n",
        "numeros = list(range(2, 10, 2))\n",
        "print(\"Resultado:\", numeros)\n",
        "print(\"RESPUESTA: a) [2,4,6,8]\")"
      ],
      "metadata": {
        "colab": {
          "base_uri": "https://localhost:8080/"
        },
        "id": "z8cqrcTDbD2l",
        "outputId": "32fdef45-1ac1-45bd-92e2-4955fe7faf79"
      },
      "execution_count": 6,
      "outputs": [
        {
          "output_type": "stream",
          "name": "stdout",
          "text": [
            "32. numeros = list(range(2,10,2))\n",
            "Resultado: [2, 4, 6, 8]\n",
            "RESPUESTA: a) [2,4,6,8]\n"
          ]
        }
      ]
    },
    {
      "cell_type": "markdown",
      "source": [],
      "metadata": {
        "id": "5bF56StwXYZH"
      }
    }
  ]
}