{
  "nbformat": 4,
  "nbformat_minor": 0,
  "metadata": {
    "colab": {
      "provenance": [],
      "authorship_tag": "ABX9TyMLD5iA/sYXoT42GVZxNWnL",
      "include_colab_link": true
    },
    "kernelspec": {
      "name": "python3",
      "display_name": "Python 3"
    },
    "language_info": {
      "name": "python"
    }
  },
  "cells": [
    {
      "cell_type": "markdown",
      "metadata": {
        "id": "view-in-github",
        "colab_type": "text"
      },
      "source": [
        "<a href=\"https://colab.research.google.com/github/yuli206/mi-proyecto/blob/main/Untitled6.ipynb\" target=\"_parent\"><img src=\"https://colab.research.google.com/assets/colab-badge.svg\" alt=\"Open In Colab\"/></a>"
      ]
    },
    {
      "cell_type": "markdown",
      "source": [],
      "metadata": {
        "id": "V0EUB8X4colS"
      }
    },
    {
      "cell_type": "markdown",
      "source": [
        "# Taller Objetos Python\n",
        "#### Materia: Inteligencia Artificial\n",
        "#### Tutora: Lina Maria Castro\n",
        "#### Estudiante: Yuli Esquivel Martinez"
      ],
      "metadata": {
        "id": "XFmq0nLXcq_R"
      }
    },
    {
      "cell_type": "code",
      "execution_count": 43,
      "metadata": {
        "colab": {
          "base_uri": "https://localhost:8080/"
        },
        "id": "cQd-WB16XWiT",
        "outputId": "a36fb763-33c3-454f-c092-af26ec72a8e1"
      },
      "outputs": [
        {
          "output_type": "stream",
          "name": "stdout",
          "text": [
            "1. ¿Cuál NO es tipo básico en Python?\n",
            "a) Números b) Cadenas c) Conjuntos d) Funciones matemáticas\n",
            "RESPUESTA: d) Funciones matemáticas\n"
          ]
        }
      ],
      "source": [
        "# Pregunta 1\n",
        "print(\"1. ¿Cuál NO es tipo básico en Python?\")\n",
        "print(\"a) Números b) Cadenas c) Conjuntos d) Funciones matemáticas\")\n",
        "print(\"RESPUESTA: d) Funciones matemáticas\")"
      ]
    },
    {
      "cell_type": "code",
      "source": [
        "# Pregunta 2\n",
        "print(\"2. True y False pertenecen al tipo:\")\n",
        "print(\"a) Entero b) Booleano c) Cadena d) Conjunto\")\n",
        "print(\"RESPUESTA: b) Booleano\")"
      ],
      "metadata": {
        "colab": {
          "base_uri": "https://localhost:8080/"
        },
        "id": "-KBFpgyvXq0h",
        "outputId": "f3ab7e5a-caf2-4d21-c926-4615246b3ce3"
      },
      "execution_count": 44,
      "outputs": [
        {
          "output_type": "stream",
          "name": "stdout",
          "text": [
            "2. True y False pertenecen al tipo:\n",
            "a) Entero b) Booleano c) Cadena d) Conjunto\n",
            "RESPUESTA: b) Booleano\n"
          ]
        }
      ]
    },
    {
      "cell_type": "code",
      "source": [
        "# Pregunta 3\n",
        "print(\"3. ¿Cuál es tipo numérico?\")\n",
        "print(\"a) int, float, complex b) str, int, tuple c) list, set, dict d) bool, tuple, set\")\n",
        "print(\"RESPUESTA: a) int, float, complex\")"
      ],
      "metadata": {
        "colab": {
          "base_uri": "https://localhost:8080/"
        },
        "id": "YRMwiki6YQsC",
        "outputId": "533c3178-2910-4986-d76e-882ff23258ec"
      },
      "execution_count": 45,
      "outputs": [
        {
          "output_type": "stream",
          "name": "stdout",
          "text": [
            "3. ¿Cuál es tipo numérico?\n",
            "a) int, float, complex b) str, int, tuple c) list, set, dict d) bool, tuple, set\n",
            "RESPUESTA: a) int, float, complex\n"
          ]
        }
      ]
    },
    {
      "cell_type": "code",
      "source": [
        "# Pregunta 4\n",
        "print(\"4. x = (1, 2, 3); print(x[1])\")\n",
        "x = (1, 2, 3)\n",
        "print(\"Resultado:\", x[1])\n",
        "print(\"RESPUESTA: b) 2\")"
      ],
      "metadata": {
        "colab": {
          "base_uri": "https://localhost:8080/"
        },
        "id": "eZfyZHh9Yb_d",
        "outputId": "f47a54b4-87f6-4b62-8ab5-eb2a68b28807"
      },
      "execution_count": 46,
      "outputs": [
        {
          "output_type": "stream",
          "name": "stdout",
          "text": [
            "4. x = (1, 2, 3); print(x[1])\n",
            "Resultado: 2\n",
            "RESPUESTA: b) 2\n"
          ]
        }
      ]
    },
    {
      "cell_type": "code",
      "source": [
        "# Pregunta 5\n",
        "print(\"5. Error en: t = (1,2,3); t[0] = 10\")\n",
        "try:\n",
        "    t = (1, 2, 3)\n",
        "    t[0] = 10\n",
        "    print(\"No hubo error\")\n",
        "except Exception as e:\n",
        "    print(\"Error:\", type(e).__name__)\n",
        "print(\"RESPUESTA: c) Las tuplas son inmutables\")"
      ],
      "metadata": {
        "colab": {
          "base_uri": "https://localhost:8080/"
        },
        "id": "p7qhDZHHYfqT",
        "outputId": "5209fd5b-0a10-4f33-9aba-d271698a9c7a"
      },
      "execution_count": 47,
      "outputs": [
        {
          "output_type": "stream",
          "name": "stdout",
          "text": [
            "5. Error en: t = (1,2,3); t[0] = 10\n",
            "Error: TypeError\n",
            "RESPUESTA: c) Las tuplas son inmutables\n"
          ]
        }
      ]
    },
    {
      "cell_type": "code",
      "source": [
        "# Pregunta 6\n",
        "print(\"6. s = {1,2,2,3,3}; print(s)\")\n",
        "s = {1, 2, 2, 3, 3}\n",
        "print(\"Resultado:\", s)\n",
        "print(\"RESPUESTA: b) {1, 2, 3}\")"
      ],
      "metadata": {
        "colab": {
          "base_uri": "https://localhost:8080/"
        },
        "id": "azuD2P65YrTd",
        "outputId": "cb9acc89-b067-414c-c4a3-1c06ba0667d3"
      },
      "execution_count": 50,
      "outputs": [
        {
          "output_type": "stream",
          "name": "stdout",
          "text": [
            "6. s = {1,2,2,3,3}; print(s)\n",
            "Resultado: {1, 2, 3}\n",
            "RESPUESTA: b) {1, 2, 3}\n"
          ]
        }
      ]
    },
    {
      "cell_type": "code",
      "source": [
        "# Pregunta 7\n",
        "print(\"7. palabra = 'Mundo'; print(palabra[1:4])\")\n",
        "palabra = \"Mundo\"\n",
        "print(\"Resultado:\", palabra[1:4])\n",
        "print(\"RESPUESTA: c) 'und'\")"
      ],
      "metadata": {
        "colab": {
          "base_uri": "https://localhost:8080/"
        },
        "id": "Kzs5A0VgYvMl",
        "outputId": "88da0eda-fc33-4115-ada0-5a78bae12a75"
      },
      "execution_count": 51,
      "outputs": [
        {
          "output_type": "stream",
          "name": "stdout",
          "text": [
            "7. palabra = 'Mundo'; print(palabra[1:4])\n",
            "Resultado: und\n",
            "RESPUESTA: c) 'und'\n"
          ]
        }
      ]
    },
    {
      "cell_type": "code",
      "source": [
        "# Pregunta 8\n",
        "print(\"8. lista = [10,20,30]; lista.append(40); print(lista)\")\n",
        "lista = [10, 20, 30]\n",
        "lista.append(40)\n",
        "print(\"Resultado:\", lista)\n",
        "print(\"RESPUESTA: b) [10,20,30,40]\")"
      ],
      "metadata": {
        "colab": {
          "base_uri": "https://localhost:8080/"
        },
        "id": "A2QpA_SXYyzx",
        "outputId": "2f43d153-157c-4647-cea0-ccfac4b46244"
      },
      "execution_count": 52,
      "outputs": [
        {
          "output_type": "stream",
          "name": "stdout",
          "text": [
            "8. lista = [10,20,30]; lista.append(40); print(lista)\n",
            "Resultado: [10, 20, 30, 40]\n",
            "RESPUESTA: b) [10,20,30,40]\n"
          ]
        }
      ]
    },
    {
      "cell_type": "code",
      "source": [
        "# Pregunta 9\n",
        "print(\"9. dic = {'a':1,'b':2}; print(dic['c'])\")\n",
        "try:\n",
        "    dic = {\"a\": 1, \"b\": 2}\n",
        "    print(dic[\"c\"])\n",
        "except Exception as e:\n",
        "    print(\"Error:\", type(e).__name__)\n",
        "print(\"RESPUESTA: c) Error\")"
      ],
      "metadata": {
        "colab": {
          "base_uri": "https://localhost:8080/"
        },
        "id": "84LbA_ZYY1XF",
        "outputId": "c02a574b-f23f-4576-a0be-61cb0d7d49ed"
      },
      "execution_count": 53,
      "outputs": [
        {
          "output_type": "stream",
          "name": "stdout",
          "text": [
            "9. dic = {'a':1,'b':2}; print(dic['c'])\n",
            "Error: KeyError\n",
            "RESPUESTA: c) Error\n"
          ]
        }
      ]
    },
    {
      "cell_type": "code",
      "source": [
        "# Pregunta 10 - CON CÓDIGO EJECUTADO\n",
        "print(\"10. Obtener valor 3 de d = {'x':1,'y':2,'z':3}\")\n",
        "d = {\"x\": 1, \"y\": 2, \"z\": 3}\n",
        "print(\"Resultado de d['z']:\", d[\"z\"])\n",
        "print(\"RESPUESTA: a) d['z']\")\n"
      ],
      "metadata": {
        "colab": {
          "base_uri": "https://localhost:8080/"
        },
        "id": "d63iPX2bY3yO",
        "outputId": "b50195ca-41e6-4805-d482-c1decc73feba"
      },
      "execution_count": 54,
      "outputs": [
        {
          "output_type": "stream",
          "name": "stdout",
          "text": [
            "10. Obtener valor 3 de d = {'x':1,'y':2,'z':3}\n",
            "Resultado de d['z']: 3\n",
            "RESPUESTA: a) d['z']\n"
          ]
        }
      ]
    },
    {
      "cell_type": "code",
      "source": [
        "# Pregunta 11\n",
        "print(\"11. print(type(3.0))\")\n",
        "print(\"Resultado:\", type(3.0))\n",
        "print(\"RESPUESTA: b) float\")\n"
      ],
      "metadata": {
        "colab": {
          "base_uri": "https://localhost:8080/"
        },
        "id": "jp_OpVumaOch",
        "outputId": "3bf1fd32-7b2d-4e9d-c6fb-e884ad6ec6c2"
      },
      "execution_count": 55,
      "outputs": [
        {
          "output_type": "stream",
          "name": "stdout",
          "text": [
            "11. print(type(3.0))\n",
            "Resultado: <class 'float'>\n",
            "RESPUESTA: b) float\n"
          ]
        }
      ]
    },
    {
      "cell_type": "code",
      "source": [
        "# Pregunta 12\n",
        "print(\"12. x = [1,2,3]; y = x; y.append(4); print(x)\")\n",
        "x = [1, 2, 3]\n",
        "y = x\n",
        "y.append(4)\n",
        "print(\"Resultado:\", x)\n",
        "print(\"RESPUESTA: b) [1,2,3,4]\")\n"
      ],
      "metadata": {
        "colab": {
          "base_uri": "https://localhost:8080/"
        },
        "id": "w00_GSd1aQ91",
        "outputId": "bc99862b-1ca3-4ad3-a0d4-b04a4b62b68b"
      },
      "execution_count": 56,
      "outputs": [
        {
          "output_type": "stream",
          "name": "stdout",
          "text": [
            "12. x = [1,2,3]; y = x; y.append(4); print(x)\n",
            "Resultado: [1, 2, 3, 4]\n",
            "RESPUESTA: b) [1,2,3,4]\n"
          ]
        }
      ]
    },
    {
      "cell_type": "code",
      "source": [
        "# Pregunta 13\n",
        "print(\"13. numeros = ['10','20','30']; resultado = ','.join(numeros)\")\n",
        "numeros = [\"10\", \"20\", \"30\"]\n",
        "resultado = \",\".join(numeros)\n",
        "print(\"Resultado:\", resultado)\n",
        "print(\"RESPUESTA: b) '10,20,30'\")\n"
      ],
      "metadata": {
        "colab": {
          "base_uri": "https://localhost:8080/"
        },
        "id": "jy4Z7zEvaTmJ",
        "outputId": "80f718b8-7477-4175-b951-34d5154d0e7d"
      },
      "execution_count": 57,
      "outputs": [
        {
          "output_type": "stream",
          "name": "stdout",
          "text": [
            "13. numeros = ['10','20','30']; resultado = ','.join(numeros)\n",
            "Resultado: 10,20,30\n",
            "RESPUESTA: b) '10,20,30'\n"
          ]
        }
      ]
    },
    {
      "cell_type": "code",
      "source": [
        "# Pregunta 14\n",
        "print(\"14. Convertir conjunto a lista: s = {1,2,3}\")\n",
        "s = {1, 2, 3}\n",
        "print(\"list(s) =\", list(s))\n",
        "print(\"RESPUESTA: a) list(s)\")"
      ],
      "metadata": {
        "colab": {
          "base_uri": "https://localhost:8080/"
        },
        "id": "Yf2QIsoZaVus",
        "outputId": "df6b1af6-7628-44b5-921a-299eb0efb285"
      },
      "execution_count": 58,
      "outputs": [
        {
          "output_type": "stream",
          "name": "stdout",
          "text": [
            "14. Convertir conjunto a lista: s = {1,2,3}\n",
            "list(s) = [1, 2, 3]\n",
            "RESPUESTA: a) list(s)\n"
          ]
        }
      ]
    },
    {
      "cell_type": "code",
      "source": [
        "# Pregunta 15\n",
        "print(\"15. cadena = 'Hola'; print(cadena * 3)\")\n",
        "cadena = \"Hola\"\n",
        "print(\"Resultado:\", cadena * 3)\n",
        "print(\"RESPUESTA: b) 'HolaHolaHola'\")"
      ],
      "metadata": {
        "colab": {
          "base_uri": "https://localhost:8080/"
        },
        "id": "cpb_NE6zaYUL",
        "outputId": "f04d794a-a2b0-40ff-a4ad-2520c3857096"
      },
      "execution_count": 59,
      "outputs": [
        {
          "output_type": "stream",
          "name": "stdout",
          "text": [
            "15. cadena = 'Hola'; print(cadena * 3)\n",
            "Resultado: HolaHolaHola\n",
            "RESPUESTA: b) 'HolaHolaHola'\n"
          ]
        }
      ]
    },
    {
      "cell_type": "code",
      "source": [
        "# Pregunta 16\n",
        "print(\"16. lista = [10,20,30]; print(lista[-1])\")\n",
        "lista = [10, 20, 30]\n",
        "print(\"Resultado:\", lista[-1])\n",
        "print(\"RESPUESTA: c) 30\")"
      ],
      "metadata": {
        "colab": {
          "base_uri": "https://localhost:8080/"
        },
        "id": "bQ70h-JKabQN",
        "outputId": "ca31c419-ebaf-4199-f475-8f002e413e2b"
      },
      "execution_count": 60,
      "outputs": [
        {
          "output_type": "stream",
          "name": "stdout",
          "text": [
            "16. lista = [10,20,30]; print(lista[-1])\n",
            "Resultado: 30\n",
            "RESPUESTA: c) 30\n"
          ]
        }
      ]
    },
    {
      "cell_type": "code",
      "source": [
        "# Pregunta 17\n",
        "print(\"17. precios = [1200,500,3400,800]; precios.sort()\")\n",
        "precios = [1200, 500, 3400, 800]\n",
        "precios.sort()\n",
        "print(\"Resultado:\", precios)\n",
        "print(\"RESPUESTA: a) [500,800,1200,3400]\")"
      ],
      "metadata": {
        "colab": {
          "base_uri": "https://localhost:8080/"
        },
        "id": "WNA9gndMahqA",
        "outputId": "e30ae3de-619c-4a92-f7fe-88dc44621df5"
      },
      "execution_count": 61,
      "outputs": [
        {
          "output_type": "stream",
          "name": "stdout",
          "text": [
            "17. precios = [1200,500,3400,800]; precios.sort()\n",
            "Resultado: [500, 800, 1200, 3400]\n",
            "RESPUESTA: a) [500,800,1200,3400]\n"
          ]
        }
      ]
    },
    {
      "cell_type": "code",
      "source": [
        "# Pregunta 18\n",
        "print(\"18. conjunto = {1,2,3}; print(conjunto[0])\")\n",
        "try:\n",
        "    conjunto = {1, 2, 3}\n",
        "    print(conjunto[0])\n",
        "except Exception as e:\n",
        "    print(\"Error:\", type(e).__name__)\n",
        "print(\"RESPUESTA: a) Los conjuntos no son indexables\")"
      ],
      "metadata": {
        "colab": {
          "base_uri": "https://localhost:8080/"
        },
        "id": "svdBkxykalQ0",
        "outputId": "52bf530a-38b0-4179-c9b2-d161f0aad82b"
      },
      "execution_count": 62,
      "outputs": [
        {
          "output_type": "stream",
          "name": "stdout",
          "text": [
            "18. conjunto = {1,2,3}; print(conjunto[0])\n",
            "Error: TypeError\n",
            "RESPUESTA: a) Los conjuntos no son indexables\n"
          ]
        }
      ]
    },
    {
      "cell_type": "code",
      "source": [
        "# Pregunta 19\n",
        "print(\"19. len({'a':1,'b':2,'c':3})\")\n",
        "print(\"Resultado:\", len({\"a\": 1, \"b\": 2, \"c\": 3}))\n",
        "print(\"RESPUESTA: b) 3\")"
      ],
      "metadata": {
        "colab": {
          "base_uri": "https://localhost:8080/"
        },
        "id": "g2hLqdx9anRy",
        "outputId": "c4e73e3b-57c0-4c23-d67d-91c1badb5809"
      },
      "execution_count": 63,
      "outputs": [
        {
          "output_type": "stream",
          "name": "stdout",
          "text": [
            "19. len({'a':1,'b':2,'c':3})\n",
            "Resultado: 3\n",
            "RESPUESTA: b) 3\n"
          ]
        }
      ]
    },
    {
      "cell_type": "code",
      "source": [
        "# Pregunta 20\n",
        "print(\"20. lista = [1,2,3]; print(lista * 2)\")\n",
        "lista = [1, 2, 3]\n",
        "print(\"Resultado:\", lista * 2)\n",
        "print(\"RESPUESTA: a) [1,2,3,1,2,3]\")"
      ],
      "metadata": {
        "colab": {
          "base_uri": "https://localhost:8080/"
        },
        "id": "WStWm6Y3ap67",
        "outputId": "0792098f-7691-4b62-ca6a-0185443a5144"
      },
      "execution_count": 64,
      "outputs": [
        {
          "output_type": "stream",
          "name": "stdout",
          "text": [
            "20. lista = [1,2,3]; print(lista * 2)\n",
            "Resultado: [1, 2, 3, 1, 2, 3]\n",
            "RESPUESTA: a) [1,2,3,1,2,3]\n"
          ]
        }
      ]
    },
    {
      "cell_type": "code",
      "source": [
        "# Pregunta 21\n",
        "print(\"21. d = {'a':1}; d['a'] = 100; print(d)\")\n",
        "d = {\"a\": 1}\n",
        "d[\"a\"] = 100\n",
        "print(\"Resultado:\", d)\n",
        "print(\"RESPUESTA: b) {'a':100}\")"
      ],
      "metadata": {
        "colab": {
          "base_uri": "https://localhost:8080/"
        },
        "id": "DiUIzSDHasFh",
        "outputId": "1586833b-a376-44dd-d9b6-97e3c34c70b2"
      },
      "execution_count": 65,
      "outputs": [
        {
          "output_type": "stream",
          "name": "stdout",
          "text": [
            "21. d = {'a':1}; d['a'] = 100; print(d)\n",
            "Resultado: {'a': 100}\n",
            "RESPUESTA: b) {'a':100}\n"
          ]
        }
      ]
    },
    {
      "cell_type": "code",
      "source": [
        "# Pregunta 22\n",
        "print(\"22. print('python'.upper())\")\n",
        "print(\"Resultado:\", \"python\".upper())\n",
        "print(\"RESPUESTA: a) PYTHON\")"
      ],
      "metadata": {
        "colab": {
          "base_uri": "https://localhost:8080/"
        },
        "id": "3SgulnOrauiJ",
        "outputId": "26325a82-eb2c-4b6c-905b-ae679083b67e"
      },
      "execution_count": 66,
      "outputs": [
        {
          "output_type": "stream",
          "name": "stdout",
          "text": [
            "22. print('python'.upper())\n",
            "Resultado: PYTHON\n",
            "RESPUESTA: a) PYTHON\n"
          ]
        }
      ]
    },
    {
      "cell_type": "code",
      "source": [
        "# Pregunta 23\n",
        "print(\"23. s = {1,2,3}; s.add(5)\")\n",
        "s = {1, 2, 3}\n",
        "s.add(5)\n",
        "print(\"Resultado:\", s)\n",
        "print(\"RESPUESTA: a) add\")"
      ],
      "metadata": {
        "colab": {
          "base_uri": "https://localhost:8080/"
        },
        "id": "TwRN2JPhawl3",
        "outputId": "ab450b4b-8a3c-44ce-edfa-6b9d7eaa052a"
      },
      "execution_count": 67,
      "outputs": [
        {
          "output_type": "stream",
          "name": "stdout",
          "text": [
            "23. s = {1,2,3}; s.add(5)\n",
            "Resultado: {1, 2, 3, 5}\n",
            "RESPUESTA: a) add\n"
          ]
        }
      ]
    },
    {
      "cell_type": "code",
      "source": [
        "# Pregunta 24\n",
        "print(\"24. d = {'x':10,'y':20}; print('x' in d)\")\n",
        "d = {\"x\": 10, \"y\": 20}\n",
        "print(\"Resultado:\", \"x\" in d)\n",
        "print(\"RESPUESTA: b) True\")"
      ],
      "metadata": {
        "colab": {
          "base_uri": "https://localhost:8080/"
        },
        "id": "--HDu26wa0Sb",
        "outputId": "886f6b95-56ef-46c2-fcb1-bb603c827d48"
      },
      "execution_count": 69,
      "outputs": [
        {
          "output_type": "stream",
          "name": "stdout",
          "text": [
            "24. d = {'x':10,'y':20}; print('x' in d)\n",
            "Resultado: True\n",
            "RESPUESTA: b) True\n"
          ]
        }
      ]
    },
    {
      "cell_type": "code",
      "source": [
        "# Pregunta 25\n",
        "print(\"25. print([1,2,3] == [1,2,3])\")\n",
        "print(\"Resultado:\", [1, 2, 3] == [1, 2, 3])\n",
        "print(\"RESPUESTA: a) True\")"
      ],
      "metadata": {
        "colab": {
          "base_uri": "https://localhost:8080/"
        },
        "id": "kMh5fg-Ia2AQ",
        "outputId": "26e0b067-b7c3-4b97-8592-bf2f2db15288"
      },
      "execution_count": 68,
      "outputs": [
        {
          "output_type": "stream",
          "name": "stdout",
          "text": [
            "25. print([1,2,3] == [1,2,3])\n",
            "Resultado: True\n",
            "RESPUESTA: a) True\n"
          ]
        }
      ]
    },
    {
      "cell_type": "code",
      "source": [
        "# Pregunta 26\n",
        "print(\"26. for i in range(5): print(i)\")\n",
        "print(\"Resultado:\")\n",
        "for i in range(5):\n",
        "    print(i, end=\" \")\n",
        "print(\"\\nRESPUESTA: c) 0 1 2 3 4\")"
      ],
      "metadata": {
        "colab": {
          "base_uri": "https://localhost:8080/"
        },
        "id": "Dr961d0Da2y7",
        "outputId": "739ffffd-6dc9-481d-9391-2835da928d4c"
      },
      "execution_count": 70,
      "outputs": [
        {
          "output_type": "stream",
          "name": "stdout",
          "text": [
            "26. for i in range(5): print(i)\n",
            "Resultado:\n",
            "0 1 2 3 4 \n",
            "RESPUESTA: c) 0 1 2 3 4\n"
          ]
        }
      ]
    },
    {
      "cell_type": "code",
      "source": [
        "# Pregunta 27\n",
        "print(\"27. s = {1,2,3}; s.remove(4)\")\n",
        "try:\n",
        "    s = {1, 2, 3}\n",
        "    s.remove(4)\n",
        "    print(\"No hubo error\")\n",
        "except Exception as e:\n",
        "    print(\"Error:\", type(e).__name__)\n",
        "print(\"RESPUESTA: c) Lanza un error\")"
      ],
      "metadata": {
        "colab": {
          "base_uri": "https://localhost:8080/"
        },
        "id": "D_yfc4Fxa44W",
        "outputId": "439d61bd-09d7-4809-bd2b-3d0ffc96f1c3"
      },
      "execution_count": 71,
      "outputs": [
        {
          "output_type": "stream",
          "name": "stdout",
          "text": [
            "27. s = {1,2,3}; s.remove(4)\n",
            "Error: KeyError\n",
            "RESPUESTA: c) Lanza un error\n"
          ]
        }
      ]
    },
    {
      "cell_type": "code",
      "source": [
        "# Pregunta 28\n",
        "print(\"28. texto = 'Colombia México Perú Chile'; países = texto.split()\")\n",
        "texto = \"Colombia México Perú Chile\"\n",
        "países = texto.split()\n",
        "print(\"Resultado:\", países)\n",
        "print(\"RESPUESTA: b) ['Colombia','México','Perú','Chile']\")"
      ],
      "metadata": {
        "colab": {
          "base_uri": "https://localhost:8080/"
        },
        "id": "DTvnK-FCa67S",
        "outputId": "6d12530d-9325-4565-e55d-f8cad7a26175"
      },
      "execution_count": 10,
      "outputs": [
        {
          "output_type": "stream",
          "name": "stdout",
          "text": [
            "28. texto = 'Colombia México Perú Chile'; países = texto.split()\n",
            "Resultado: ['Colombia', 'México', 'Perú', 'Chile']\n",
            "RESPUESTA: b) ['Colombia','México','Perú','Chile']\n"
          ]
        }
      ]
    },
    {
      "cell_type": "code",
      "source": [
        "# Pregunta 29\n",
        "print(\"29. ventas = '1000;2500;3200;4500'; valores = ventas.split(';')\")\n",
        "ventas = \"1000;2500;3200;4500\"\n",
        "valores = ventas.split(\";\")\n",
        "print(\"Resultado:\", valores)\n",
        "print(\"RESPUESTA: a) ['1000','2500','3200','4500']\")"
      ],
      "metadata": {
        "colab": {
          "base_uri": "https://localhost:8080/"
        },
        "id": "c6YHaAmga89X",
        "outputId": "c9d782a2-fef7-402a-c9b7-52656d26698a"
      },
      "execution_count": 9,
      "outputs": [
        {
          "output_type": "stream",
          "name": "stdout",
          "text": [
            "29. ventas = '1000;2500;3200;4500'; valores = ventas.split(';')\n",
            "Resultado: ['1000', '2500', '3200', '4500']\n",
            "RESPUESTA: a) ['1000','2500','3200','4500']\n"
          ]
        }
      ]
    },
    {
      "cell_type": "code",
      "source": [
        "# Pregunta 30\n",
        "print(\"30. palabras = ['Economía','Mercados','Exportaciones']; texto = '-'.join(palabras)\")\n",
        "palabras = [\"Economía\", \"Mercados\", \"Exportaciones\"]\n",
        "texto = \"-\".join(palabras)\n",
        "print(\"Resultado:\", texto)\n",
        "print(\"RESPUESTA: b) 'Economía-Mercados-Exportaciones'\")"
      ],
      "metadata": {
        "colab": {
          "base_uri": "https://localhost:8080/"
        },
        "id": "_hvxfgXea_Ol",
        "outputId": "fa43566b-4fdc-4aec-aa50-881e83295a1e"
      },
      "execution_count": 8,
      "outputs": [
        {
          "output_type": "stream",
          "name": "stdout",
          "text": [
            "30. palabras = ['Economía','Mercados','Exportaciones']; texto = '-'.join(palabras)\n",
            "Resultado: Economía-Mercados-Exportaciones\n",
            "RESPUESTA: b) 'Economía-Mercados-Exportaciones'\n"
          ]
        }
      ]
    },
    {
      "cell_type": "code",
      "source": [
        "# Pregunta 31\n",
        "print(\"31. empresas = ['Amazon','Google','Microsoft','Apple']; empresas.sort()\")\n",
        "empresas = [\"Amazon\", \"Google\", \"Microsoft\", \"Apple\"]\n",
        "empresas.sort()\n",
        "print(\"Resultado:\", empresas)\n",
        "print(\"RESPUESTA: a) ['Amazon','Apple','Google','Microsoft']\")"
      ],
      "metadata": {
        "colab": {
          "base_uri": "https://localhost:8080/"
        },
        "id": "hAJt1p0ubBeQ",
        "outputId": "efb74c62-0b0c-4d30-fdb6-9546b13514f3"
      },
      "execution_count": 7,
      "outputs": [
        {
          "output_type": "stream",
          "name": "stdout",
          "text": [
            "31. empresas = ['Amazon','Google','Microsoft','Apple']; empresas.sort()\n",
            "Resultado: ['Amazon', 'Apple', 'Google', 'Microsoft']\n",
            "RESPUESTA: a) ['Amazon','Apple','Google','Microsoft']\n"
          ]
        }
      ]
    },
    {
      "cell_type": "code",
      "source": [
        "# Pregunta 32\n",
        "print(\"32. numeros = list(range(2,10,2))\")\n",
        "numeros = list(range(2, 10, 2))\n",
        "print(\"Resultado:\", numeros)\n",
        "print(\"RESPUESTA: a) [2,4,6,8]\")"
      ],
      "metadata": {
        "colab": {
          "base_uri": "https://localhost:8080/"
        },
        "id": "z8cqrcTDbD2l",
        "outputId": "32fdef45-1ac1-45bd-92e2-4955fe7faf79"
      },
      "execution_count": 6,
      "outputs": [
        {
          "output_type": "stream",
          "name": "stdout",
          "text": [
            "32. numeros = list(range(2,10,2))\n",
            "Resultado: [2, 4, 6, 8]\n",
            "RESPUESTA: a) [2,4,6,8]\n"
          ]
        }
      ]
    },
    {
      "cell_type": "markdown",
      "source": [],
      "metadata": {
        "id": "5bF56StwXYZH"
      }
    }
  ]
}