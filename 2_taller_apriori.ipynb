{
  "cells": [
    {
      "cell_type": "markdown",
      "metadata": {
        "id": "view-in-github",
        "colab_type": "text"
      },
      "source": [
        "<a href=\"https://colab.research.google.com/github/yuli206/mi-proyecto/blob/main/2_taller_apriori.ipynb\" target=\"_parent\"><img src=\"https://colab.research.google.com/assets/colab-badge.svg\" alt=\"Open In Colab\"/></a>"
      ]
    },
    {
      "cell_type": "markdown",
      "source": [
        "<a href=\"https://colab.research.google.com/github/LinaMariaCastro/curso-ia-para-economia/blob/main/clases/4_Aprendizaje_no_supervisado/2_Solucion_Taller_Apriori.ipynb\" target=\"_parent\"><img src=\"https://colab.research.google.com/assets/colab-badge.svg\" alt=\"Open In Colab\"/></a>\n",
        "\n"
      ],
      "metadata": {
        "id": "DHNQuIqAmvl5"
      }
    },
    {
      "cell_type": "markdown",
      "source": [
        "# **Inteligencia Artificial con Aplicaciones en Economía I**\n",
        "\n",
        "- 👩‍🏫 **Profesora:** [Lina María Castro](https://www.linkedin.com/in/lina-maria-castro)  \n",
        "- 📧 **Email:** [lmcastroco@gmail.com](mailto:lmcastroco@gmail.com)  \n",
        "- 🎓 **Universidad:** Universidad Externado de Colombia - Facultad de Economía"
      ],
      "metadata": {
        "id": "5iiwfbXCQv5D"
      }
    },
    {
      "cell_type": "markdown",
      "source": [
        "# **Taller: Análisis de Patrones de Consumo Internacional con Apriori**"
      ],
      "metadata": {
        "id": "0rfIMoBmE1Ap"
      }
    },
    {
      "cell_type": "markdown",
      "source": [
        "**IMPORTANTE**: Guarda una copia de este notebook en tu Google Drive o computador."
      ],
      "metadata": {
        "id": "0dQjQRRI-Jwh"
      }
    },
    {
      "cell_type": "markdown",
      "source": [
        "**Taller en parejas**"
      ],
      "metadata": {
        "id": "q_CzcRIty0sF"
      }
    },
    {
      "cell_type": "markdown",
      "source": [
        "**Nombres estudiantes:**\n",
        "\n",
        "-\n",
        "-"
      ],
      "metadata": {
        "id": "NyfFoG84-DmF"
      }
    },
    {
      "cell_type": "markdown",
      "source": [
        "**Forma de entrega**\n",
        "\n",
        "Jupyter Notebook publicado en su cuenta de Github con el nombre “Taller_Apriori_apellidos_estudiantes.ipynb”.\n",
        "\n",
        "**Plazo de entrega**\n",
        "\n",
        "Hoy, 16 de octubre, máximo a las 11:59 p.m., debes enviar link del notebook al correo lina.castro6@uexternado.edu.co, de lo contrario, no será tenido en cuenta.\n",
        "\n",
        "**Instrucciones Generales**\n",
        "\n",
        "Completa el código en las celdas marcadas con `### TU CÓDIGO AQUÍ ###`. Puedes añadir más celdas si lo requieres."
      ],
      "metadata": {
        "id": "KcbzsUiz025j"
      }
    },
    {
      "cell_type": "markdown",
      "source": [
        "**Caso de Estudio: Consultoría para el PNUD**\n",
        "\n",
        "**Contexto:** Una firma multinacional de e-commerce, \"Global Retail Inc.\", te ha contratado como consultor de datos. La empresa opera en múltiples países y ha notado que sus ventas y la efectividad de sus campañas de marketing varían significativamente entre regiones. Su hipótesis es que los patrones de compra y las asociaciones de productos son diferentes en cada mercado.\n",
        "\n",
        "**Tu Misión:** Analizar el historial de transacciones de la empresa para descubrir y comparar las reglas de asociación de productos para dos de sus mercados más grandes: el Reino Unido y Alemania. Tu objetivo final es entregar recomendaciones de negocio accionables (ej. estrategias de cross-selling, promociones personalizadas) basadas en los patrones de consumo que descubras en cada país.\n",
        "\n",
        "**Dataset:** Online Retail Data Set del repositorio de UCI. Encuentra mayor información en: https://archive.ics.uci.edu/dataset/352/online+retail"
      ],
      "metadata": {
        "id": "fIYF9RZrFx0F"
      }
    },
    {
      "cell_type": "markdown",
      "source": [
        "## Ejercicio 1: Configuración Inicial, Carga y Exploración de Datos"
      ],
      "metadata": {
        "id": "M35O8HzlGna7"
      }
    },
    {
      "cell_type": "markdown",
      "source": [
        "1.1 Importa las librerías necesarias"
      ],
      "metadata": {
        "id": "tx670zdlNtvQ"
      }
    },
    {
      "cell_type": "code",
      "source": [
        "### TU CÓDIGO AQUÍ ###\n",
        "import pandas as pd\n",
        "from mlxtend.frequent_patterns import apriori\n",
        "from mlxtend.frequent_patterns import association_rules\n",
        "import warnings\n",
        "warnings.filterwarnings('ignore')"
      ],
      "metadata": {
        "id": "z8OKVbSJE3-k"
      },
      "execution_count": null,
      "outputs": []
    },
    {
      "cell_type": "code",
      "source": [
        "# Configuraciones de visualización\n",
        "pd.options.display.max_columns = None\n",
        "pd.options.display.float_format = '{:,.2f}'.format"
      ],
      "metadata": {
        "id": "UphwYfZpGXsk"
      },
      "execution_count": null,
      "outputs": []
    },
    {
      "cell_type": "markdown",
      "source": [
        "1.2 Carga el dataset \"retail_top30_products.csv\" que se encuentra en el repositorio del curso, carpeta \"datasets\"."
      ],
      "metadata": {
        "id": "CMbWKnltN_50"
      }
    },
    {
      "cell_type": "code",
      "execution_count": null,
      "metadata": {
        "id": "KYRaLbXlMc_c"
      },
      "outputs": [],
      "source": [
        "datasate=pd.read_csv('/content/retail_top30_products.csv')"
      ]
    },
    {
      "cell_type": "code",
      "source": [
        "print(\"datasate\")\n",
        "print(datasate.shape)"
      ],
      "metadata": {
        "id": "196LBPXYyeNu",
        "colab": {
          "base_uri": "https://localhost:8080/"
        },
        "outputId": "192dec9d-edbb-4f23-a52b-fa5e77ff6913"
      },
      "execution_count": null,
      "outputs": [
        {
          "output_type": "stream",
          "name": "stdout",
          "text": [
            "datasate\n",
            "(40530, 8)\n"
          ]
        }
      ]
    },
    {
      "cell_type": "code",
      "source": [
        "print(\"\\nInformación general del DataFrame:\")\n",
        "datasate.info()"
      ],
      "metadata": {
        "id": "OrfRrLb3yhNG",
        "colab": {
          "base_uri": "https://localhost:8080/"
        },
        "outputId": "7371f432-1421-4ac4-b427-863fbc336c9e"
      },
      "execution_count": null,
      "outputs": [
        {
          "output_type": "stream",
          "name": "stdout",
          "text": [
            "\n",
            "Información general del DataFrame:\n",
            "<class 'pandas.core.frame.DataFrame'>\n",
            "RangeIndex: 40530 entries, 0 to 40529\n",
            "Data columns (total 8 columns):\n",
            " #   Column       Non-Null Count  Dtype  \n",
            "---  ------       --------------  -----  \n",
            " 0   InvoiceNo    40530 non-null  object \n",
            " 1   StockCode    40530 non-null  object \n",
            " 2   Description  40530 non-null  object \n",
            " 3   Quantity     40530 non-null  int64  \n",
            " 4   InvoiceDate  40530 non-null  object \n",
            " 5   UnitPrice    40530 non-null  float64\n",
            " 6   CustomerID   33004 non-null  float64\n",
            " 7   Country      40530 non-null  object \n",
            "dtypes: float64(2), int64(1), object(5)\n",
            "memory usage: 2.5+ MB\n"
          ]
        }
      ]
    },
    {
      "cell_type": "markdown",
      "source": [
        "1.3 Revisa si hay valores nulos en alguna columna y cuántos son"
      ],
      "metadata": {
        "id": "BRmQ0Z34OiP4"
      }
    },
    {
      "cell_type": "code",
      "source": [
        "if datasate.isnull().any().any():\n",
        "    print(\"Hay valores nulos en el DataFrame.\")\n",
        "else:\n",
        "    print(\"No hay valores nulos en el DataFrame.\")\n",
        "print(\"la cantidad de nulos es:\")\n",
        "datasate.isnull().sum()"
      ],
      "metadata": {
        "id": "luFSwi1X6sPx",
        "colab": {
          "base_uri": "https://localhost:8080/",
          "height": 369
        },
        "outputId": "686d3c05-f307-4c16-9830-64b72741d03e"
      },
      "execution_count": null,
      "outputs": [
        {
          "output_type": "stream",
          "name": "stdout",
          "text": [
            "Hay valores nulos en el DataFrame.\n",
            "la cantidad de nulos es:\n"
          ]
        },
        {
          "output_type": "execute_result",
          "data": {
            "text/plain": [
              "InvoiceNo         0\n",
              "StockCode         0\n",
              "Description       0\n",
              "Quantity          0\n",
              "InvoiceDate       0\n",
              "UnitPrice         0\n",
              "CustomerID     7526\n",
              "Country           0\n",
              "dtype: int64"
            ],
            "text/html": [
              "<div>\n",
              "<style scoped>\n",
              "    .dataframe tbody tr th:only-of-type {\n",
              "        vertical-align: middle;\n",
              "    }\n",
              "\n",
              "    .dataframe tbody tr th {\n",
              "        vertical-align: top;\n",
              "    }\n",
              "\n",
              "    .dataframe thead th {\n",
              "        text-align: right;\n",
              "    }\n",
              "</style>\n",
              "<table border=\"1\" class=\"dataframe\">\n",
              "  <thead>\n",
              "    <tr style=\"text-align: right;\">\n",
              "      <th></th>\n",
              "      <th>0</th>\n",
              "    </tr>\n",
              "  </thead>\n",
              "  <tbody>\n",
              "    <tr>\n",
              "      <th>InvoiceNo</th>\n",
              "      <td>0</td>\n",
              "    </tr>\n",
              "    <tr>\n",
              "      <th>StockCode</th>\n",
              "      <td>0</td>\n",
              "    </tr>\n",
              "    <tr>\n",
              "      <th>Description</th>\n",
              "      <td>0</td>\n",
              "    </tr>\n",
              "    <tr>\n",
              "      <th>Quantity</th>\n",
              "      <td>0</td>\n",
              "    </tr>\n",
              "    <tr>\n",
              "      <th>InvoiceDate</th>\n",
              "      <td>0</td>\n",
              "    </tr>\n",
              "    <tr>\n",
              "      <th>UnitPrice</th>\n",
              "      <td>0</td>\n",
              "    </tr>\n",
              "    <tr>\n",
              "      <th>CustomerID</th>\n",
              "      <td>7526</td>\n",
              "    </tr>\n",
              "    <tr>\n",
              "      <th>Country</th>\n",
              "      <td>0</td>\n",
              "    </tr>\n",
              "  </tbody>\n",
              "</table>\n",
              "</div><br><label><b>dtype:</b> int64</label>"
            ]
          },
          "metadata": {},
          "execution_count": 14
        }
      ]
    },
    {
      "cell_type": "markdown",
      "source": [
        "1.4 Genera las estadísticas descriptivas de las variables numéricas"
      ],
      "metadata": {
        "id": "CxckL193Ooze"
      }
    },
    {
      "cell_type": "code",
      "source": [
        "### TU CÓDIGO AQUÍ ###\n",
        "datasate.describe()"
      ],
      "metadata": {
        "id": "MxivjnRq6Rqr",
        "colab": {
          "base_uri": "https://localhost:8080/",
          "height": 300
        },
        "outputId": "9c1dd687-ede1-4eb8-c930-ed74c1ae90f7"
      },
      "execution_count": null,
      "outputs": [
        {
          "output_type": "execute_result",
          "data": {
            "text/plain": [
              "       Quantity  UnitPrice  CustomerID\n",
              "count 40,530.00  40,530.00   33,004.00\n",
              "mean      11.38       4.64   15,225.76\n",
              "std       40.69      57.76    1,729.80\n",
              "min   -1,930.00       0.00   12,347.00\n",
              "25%        2.00       1.65   13,767.00\n",
              "50%        5.00       2.95   15,080.00\n",
              "75%       10.00       4.95   16,745.00\n",
              "max    2,880.00   8,142.75   18,283.00"
            ],
            "text/html": [
              "\n",
              "  <div id=\"df-220b7b38-2310-4841-8fdf-43a697cffd02\" class=\"colab-df-container\">\n",
              "    <div>\n",
              "<style scoped>\n",
              "    .dataframe tbody tr th:only-of-type {\n",
              "        vertical-align: middle;\n",
              "    }\n",
              "\n",
              "    .dataframe tbody tr th {\n",
              "        vertical-align: top;\n",
              "    }\n",
              "\n",
              "    .dataframe thead th {\n",
              "        text-align: right;\n",
              "    }\n",
              "</style>\n",
              "<table border=\"1\" class=\"dataframe\">\n",
              "  <thead>\n",
              "    <tr style=\"text-align: right;\">\n",
              "      <th></th>\n",
              "      <th>Quantity</th>\n",
              "      <th>UnitPrice</th>\n",
              "      <th>CustomerID</th>\n",
              "    </tr>\n",
              "  </thead>\n",
              "  <tbody>\n",
              "    <tr>\n",
              "      <th>count</th>\n",
              "      <td>40,530.00</td>\n",
              "      <td>40,530.00</td>\n",
              "      <td>33,004.00</td>\n",
              "    </tr>\n",
              "    <tr>\n",
              "      <th>mean</th>\n",
              "      <td>11.38</td>\n",
              "      <td>4.64</td>\n",
              "      <td>15,225.76</td>\n",
              "    </tr>\n",
              "    <tr>\n",
              "      <th>std</th>\n",
              "      <td>40.69</td>\n",
              "      <td>57.76</td>\n",
              "      <td>1,729.80</td>\n",
              "    </tr>\n",
              "    <tr>\n",
              "      <th>min</th>\n",
              "      <td>-1,930.00</td>\n",
              "      <td>0.00</td>\n",
              "      <td>12,347.00</td>\n",
              "    </tr>\n",
              "    <tr>\n",
              "      <th>25%</th>\n",
              "      <td>2.00</td>\n",
              "      <td>1.65</td>\n",
              "      <td>13,767.00</td>\n",
              "    </tr>\n",
              "    <tr>\n",
              "      <th>50%</th>\n",
              "      <td>5.00</td>\n",
              "      <td>2.95</td>\n",
              "      <td>15,080.00</td>\n",
              "    </tr>\n",
              "    <tr>\n",
              "      <th>75%</th>\n",
              "      <td>10.00</td>\n",
              "      <td>4.95</td>\n",
              "      <td>16,745.00</td>\n",
              "    </tr>\n",
              "    <tr>\n",
              "      <th>max</th>\n",
              "      <td>2,880.00</td>\n",
              "      <td>8,142.75</td>\n",
              "      <td>18,283.00</td>\n",
              "    </tr>\n",
              "  </tbody>\n",
              "</table>\n",
              "</div>\n",
              "    <div class=\"colab-df-buttons\">\n",
              "\n",
              "  <div class=\"colab-df-container\">\n",
              "    <button class=\"colab-df-convert\" onclick=\"convertToInteractive('df-220b7b38-2310-4841-8fdf-43a697cffd02')\"\n",
              "            title=\"Convert this dataframe to an interactive table.\"\n",
              "            style=\"display:none;\">\n",
              "\n",
              "  <svg xmlns=\"http://www.w3.org/2000/svg\" height=\"24px\" viewBox=\"0 -960 960 960\">\n",
              "    <path d=\"M120-120v-720h720v720H120Zm60-500h600v-160H180v160Zm220 220h160v-160H400v160Zm0 220h160v-160H400v160ZM180-400h160v-160H180v160Zm440 0h160v-160H620v160ZM180-180h160v-160H180v160Zm440 0h160v-160H620v160Z\"/>\n",
              "  </svg>\n",
              "    </button>\n",
              "\n",
              "  <style>\n",
              "    .colab-df-container {\n",
              "      display:flex;\n",
              "      gap: 12px;\n",
              "    }\n",
              "\n",
              "    .colab-df-convert {\n",
              "      background-color: #E8F0FE;\n",
              "      border: none;\n",
              "      border-radius: 50%;\n",
              "      cursor: pointer;\n",
              "      display: none;\n",
              "      fill: #1967D2;\n",
              "      height: 32px;\n",
              "      padding: 0 0 0 0;\n",
              "      width: 32px;\n",
              "    }\n",
              "\n",
              "    .colab-df-convert:hover {\n",
              "      background-color: #E2EBFA;\n",
              "      box-shadow: 0px 1px 2px rgba(60, 64, 67, 0.3), 0px 1px 3px 1px rgba(60, 64, 67, 0.15);\n",
              "      fill: #174EA6;\n",
              "    }\n",
              "\n",
              "    .colab-df-buttons div {\n",
              "      margin-bottom: 4px;\n",
              "    }\n",
              "\n",
              "    [theme=dark] .colab-df-convert {\n",
              "      background-color: #3B4455;\n",
              "      fill: #D2E3FC;\n",
              "    }\n",
              "\n",
              "    [theme=dark] .colab-df-convert:hover {\n",
              "      background-color: #434B5C;\n",
              "      box-shadow: 0px 1px 3px 1px rgba(0, 0, 0, 0.15);\n",
              "      filter: drop-shadow(0px 1px 2px rgba(0, 0, 0, 0.3));\n",
              "      fill: #FFFFFF;\n",
              "    }\n",
              "  </style>\n",
              "\n",
              "    <script>\n",
              "      const buttonEl =\n",
              "        document.querySelector('#df-220b7b38-2310-4841-8fdf-43a697cffd02 button.colab-df-convert');\n",
              "      buttonEl.style.display =\n",
              "        google.colab.kernel.accessAllowed ? 'block' : 'none';\n",
              "\n",
              "      async function convertToInteractive(key) {\n",
              "        const element = document.querySelector('#df-220b7b38-2310-4841-8fdf-43a697cffd02');\n",
              "        const dataTable =\n",
              "          await google.colab.kernel.invokeFunction('convertToInteractive',\n",
              "                                                    [key], {});\n",
              "        if (!dataTable) return;\n",
              "\n",
              "        const docLinkHtml = 'Like what you see? Visit the ' +\n",
              "          '<a target=\"_blank\" href=https://colab.research.google.com/notebooks/data_table.ipynb>data table notebook</a>'\n",
              "          + ' to learn more about interactive tables.';\n",
              "        element.innerHTML = '';\n",
              "        dataTable['output_type'] = 'display_data';\n",
              "        await google.colab.output.renderOutput(dataTable, element);\n",
              "        const docLink = document.createElement('div');\n",
              "        docLink.innerHTML = docLinkHtml;\n",
              "        element.appendChild(docLink);\n",
              "      }\n",
              "    </script>\n",
              "  </div>\n",
              "\n",
              "\n",
              "    <div id=\"df-6858ec2f-53e5-46e3-99d6-04a182fd3d6b\">\n",
              "      <button class=\"colab-df-quickchart\" onclick=\"quickchart('df-6858ec2f-53e5-46e3-99d6-04a182fd3d6b')\"\n",
              "                title=\"Suggest charts\"\n",
              "                style=\"display:none;\">\n",
              "\n",
              "<svg xmlns=\"http://www.w3.org/2000/svg\" height=\"24px\"viewBox=\"0 0 24 24\"\n",
              "     width=\"24px\">\n",
              "    <g>\n",
              "        <path d=\"M19 3H5c-1.1 0-2 .9-2 2v14c0 1.1.9 2 2 2h14c1.1 0 2-.9 2-2V5c0-1.1-.9-2-2-2zM9 17H7v-7h2v7zm4 0h-2V7h2v10zm4 0h-2v-4h2v4z\"/>\n",
              "    </g>\n",
              "</svg>\n",
              "      </button>\n",
              "\n",
              "<style>\n",
              "  .colab-df-quickchart {\n",
              "      --bg-color: #E8F0FE;\n",
              "      --fill-color: #1967D2;\n",
              "      --hover-bg-color: #E2EBFA;\n",
              "      --hover-fill-color: #174EA6;\n",
              "      --disabled-fill-color: #AAA;\n",
              "      --disabled-bg-color: #DDD;\n",
              "  }\n",
              "\n",
              "  [theme=dark] .colab-df-quickchart {\n",
              "      --bg-color: #3B4455;\n",
              "      --fill-color: #D2E3FC;\n",
              "      --hover-bg-color: #434B5C;\n",
              "      --hover-fill-color: #FFFFFF;\n",
              "      --disabled-bg-color: #3B4455;\n",
              "      --disabled-fill-color: #666;\n",
              "  }\n",
              "\n",
              "  .colab-df-quickchart {\n",
              "    background-color: var(--bg-color);\n",
              "    border: none;\n",
              "    border-radius: 50%;\n",
              "    cursor: pointer;\n",
              "    display: none;\n",
              "    fill: var(--fill-color);\n",
              "    height: 32px;\n",
              "    padding: 0;\n",
              "    width: 32px;\n",
              "  }\n",
              "\n",
              "  .colab-df-quickchart:hover {\n",
              "    background-color: var(--hover-bg-color);\n",
              "    box-shadow: 0 1px 2px rgba(60, 64, 67, 0.3), 0 1px 3px 1px rgba(60, 64, 67, 0.15);\n",
              "    fill: var(--button-hover-fill-color);\n",
              "  }\n",
              "\n",
              "  .colab-df-quickchart-complete:disabled,\n",
              "  .colab-df-quickchart-complete:disabled:hover {\n",
              "    background-color: var(--disabled-bg-color);\n",
              "    fill: var(--disabled-fill-color);\n",
              "    box-shadow: none;\n",
              "  }\n",
              "\n",
              "  .colab-df-spinner {\n",
              "    border: 2px solid var(--fill-color);\n",
              "    border-color: transparent;\n",
              "    border-bottom-color: var(--fill-color);\n",
              "    animation:\n",
              "      spin 1s steps(1) infinite;\n",
              "  }\n",
              "\n",
              "  @keyframes spin {\n",
              "    0% {\n",
              "      border-color: transparent;\n",
              "      border-bottom-color: var(--fill-color);\n",
              "      border-left-color: var(--fill-color);\n",
              "    }\n",
              "    20% {\n",
              "      border-color: transparent;\n",
              "      border-left-color: var(--fill-color);\n",
              "      border-top-color: var(--fill-color);\n",
              "    }\n",
              "    30% {\n",
              "      border-color: transparent;\n",
              "      border-left-color: var(--fill-color);\n",
              "      border-top-color: var(--fill-color);\n",
              "      border-right-color: var(--fill-color);\n",
              "    }\n",
              "    40% {\n",
              "      border-color: transparent;\n",
              "      border-right-color: var(--fill-color);\n",
              "      border-top-color: var(--fill-color);\n",
              "    }\n",
              "    60% {\n",
              "      border-color: transparent;\n",
              "      border-right-color: var(--fill-color);\n",
              "    }\n",
              "    80% {\n",
              "      border-color: transparent;\n",
              "      border-right-color: var(--fill-color);\n",
              "      border-bottom-color: var(--fill-color);\n",
              "    }\n",
              "    90% {\n",
              "      border-color: transparent;\n",
              "      border-bottom-color: var(--fill-color);\n",
              "    }\n",
              "  }\n",
              "</style>\n",
              "\n",
              "      <script>\n",
              "        async function quickchart(key) {\n",
              "          const quickchartButtonEl =\n",
              "            document.querySelector('#' + key + ' button');\n",
              "          quickchartButtonEl.disabled = true;  // To prevent multiple clicks.\n",
              "          quickchartButtonEl.classList.add('colab-df-spinner');\n",
              "          try {\n",
              "            const charts = await google.colab.kernel.invokeFunction(\n",
              "                'suggestCharts', [key], {});\n",
              "          } catch (error) {\n",
              "            console.error('Error during call to suggestCharts:', error);\n",
              "          }\n",
              "          quickchartButtonEl.classList.remove('colab-df-spinner');\n",
              "          quickchartButtonEl.classList.add('colab-df-quickchart-complete');\n",
              "        }\n",
              "        (() => {\n",
              "          let quickchartButtonEl =\n",
              "            document.querySelector('#df-6858ec2f-53e5-46e3-99d6-04a182fd3d6b button');\n",
              "          quickchartButtonEl.style.display =\n",
              "            google.colab.kernel.accessAllowed ? 'block' : 'none';\n",
              "        })();\n",
              "      </script>\n",
              "    </div>\n",
              "\n",
              "    </div>\n",
              "  </div>\n"
            ],
            "application/vnd.google.colaboratory.intrinsic+json": {
              "type": "dataframe",
              "summary": "{\n  \"name\": \"datasate\",\n  \"rows\": 8,\n  \"fields\": [\n    {\n      \"column\": \"Quantity\",\n      \"properties\": {\n        \"dtype\": \"number\",\n        \"std\": 14337.321109745713,\n        \"min\": -1930.0,\n        \"max\": 40530.0,\n        \"num_unique_values\": 8,\n        \"samples\": [\n          11.37944732297064,\n          5.0,\n          40530.0\n        ],\n        \"semantic_type\": \"\",\n        \"description\": \"\"\n      }\n    },\n    {\n      \"column\": \"UnitPrice\",\n      \"properties\": {\n        \"dtype\": \"number\",\n        \"std\": 14202.529723746742,\n        \"min\": 0.0,\n        \"max\": 40530.0,\n        \"num_unique_values\": 8,\n        \"samples\": [\n          4.639034542314335,\n          2.95,\n          40530.0\n        ],\n        \"semantic_type\": \"\",\n        \"description\": \"\"\n      }\n    },\n    {\n      \"column\": \"CustomerID\",\n      \"properties\": {\n        \"dtype\": \"number\",\n        \"std\": 8601.537047456075,\n        \"min\": 1729.7952500437482,\n        \"max\": 33004.0,\n        \"num_unique_values\": 8,\n        \"samples\": [\n          15225.759513998304,\n          15080.0,\n          33004.0\n        ],\n        \"semantic_type\": \"\",\n        \"description\": \"\"\n      }\n    }\n  ]\n}"
            }
          },
          "metadata": {},
          "execution_count": 15
        }
      ]
    },
    {
      "cell_type": "markdown",
      "source": [
        "1.5 Observando las salidas del ejercicio anterior, ¿qué problemas potenciales identificas en las columnas Description, CustomerID y Quantity? ¿Ves algo inusual en los precios (UnitPrice)?"
      ],
      "metadata": {
        "id": "Z1hOgV3Myw3i"
      }
    },
    {
      "cell_type": "markdown",
      "source": [
        "# RTA\n",
        "En cuanto a cutomer ID podemos decir que tenemos problemas en cuanto a los datos porque no están completos al observarse valores nulos, hay 33004 clientes pero el dataset tiene 40530 filas.\n",
        "\n",
        "Se puede decir que para la variable quantity hay datos atípicos ya que la media y los cuartiles son valores muy pequeños a comparacion del maximo y muy grandes a comparacion del minimo, que ademas es un valor negativo.\n",
        "\n",
        "En cuanto a UnitPrice resulta extraño tener un precio de cero que ademas es el precio minimo, tambien que exista un precio maximo de mas de ocho mil cuando el resto d eprecios parece ubicarse en rangos pequeños\n",
        "\n",
        "Podemos observar que en la columna no parece tener problemas potenciales dado que tiene datos completos y no repetidos, para verificarlo notese que:"
      ],
      "metadata": {
        "id": "nVuwufe3NlZU"
      }
    },
    {
      "cell_type": "code",
      "source": [
        "print('demos un visstazo a los datos')\n",
        "datasate.head()"
      ],
      "metadata": {
        "colab": {
          "base_uri": "https://localhost:8080/",
          "height": 206
        },
        "id": "-0cAGmjRMfqF",
        "outputId": "18864847-0894-4942-fca0-01bb0dd3ca02"
      },
      "execution_count": null,
      "outputs": [
        {
          "output_type": "execute_result",
          "data": {
            "text/plain": [
              "  InvoiceNo StockCode                         Description  Quantity  \\\n",
              "0    536365    85123A  WHITE HANGING HEART T-LIGHT HOLDER         6   \n",
              "1    536367     84879       ASSORTED COLOUR BIRD ORNAMENT        32   \n",
              "2    536368     22960            JAM MAKING SET WITH JARS         6   \n",
              "3    536370     22727           ALARM CLOCK BAKELIKE RED         24   \n",
              "4    536370      POST                             POSTAGE         3   \n",
              "\n",
              "           InvoiceDate  UnitPrice  CustomerID         Country  \n",
              "0  2010-12-01 08:26:00       2.55   17,850.00  United Kingdom  \n",
              "1  2010-12-01 08:34:00       1.69   13,047.00  United Kingdom  \n",
              "2  2010-12-01 08:34:00       4.25   13,047.00  United Kingdom  \n",
              "3  2010-12-01 08:45:00       3.75   12,583.00          France  \n",
              "4  2010-12-01 08:45:00      18.00   12,583.00          France  "
            ],
            "text/html": [
              "\n",
              "  <div id=\"df-307d529e-bd14-439e-b42e-453d6242cc1c\" class=\"colab-df-container\">\n",
              "    <div>\n",
              "<style scoped>\n",
              "    .dataframe tbody tr th:only-of-type {\n",
              "        vertical-align: middle;\n",
              "    }\n",
              "\n",
              "    .dataframe tbody tr th {\n",
              "        vertical-align: top;\n",
              "    }\n",
              "\n",
              "    .dataframe thead th {\n",
              "        text-align: right;\n",
              "    }\n",
              "</style>\n",
              "<table border=\"1\" class=\"dataframe\">\n",
              "  <thead>\n",
              "    <tr style=\"text-align: right;\">\n",
              "      <th></th>\n",
              "      <th>InvoiceNo</th>\n",
              "      <th>StockCode</th>\n",
              "      <th>Description</th>\n",
              "      <th>Quantity</th>\n",
              "      <th>InvoiceDate</th>\n",
              "      <th>UnitPrice</th>\n",
              "      <th>CustomerID</th>\n",
              "      <th>Country</th>\n",
              "    </tr>\n",
              "  </thead>\n",
              "  <tbody>\n",
              "    <tr>\n",
              "      <th>0</th>\n",
              "      <td>536365</td>\n",
              "      <td>85123A</td>\n",
              "      <td>WHITE HANGING HEART T-LIGHT HOLDER</td>\n",
              "      <td>6</td>\n",
              "      <td>2010-12-01 08:26:00</td>\n",
              "      <td>2.55</td>\n",
              "      <td>17,850.00</td>\n",
              "      <td>United Kingdom</td>\n",
              "    </tr>\n",
              "    <tr>\n",
              "      <th>1</th>\n",
              "      <td>536367</td>\n",
              "      <td>84879</td>\n",
              "      <td>ASSORTED COLOUR BIRD ORNAMENT</td>\n",
              "      <td>32</td>\n",
              "      <td>2010-12-01 08:34:00</td>\n",
              "      <td>1.69</td>\n",
              "      <td>13,047.00</td>\n",
              "      <td>United Kingdom</td>\n",
              "    </tr>\n",
              "    <tr>\n",
              "      <th>2</th>\n",
              "      <td>536368</td>\n",
              "      <td>22960</td>\n",
              "      <td>JAM MAKING SET WITH JARS</td>\n",
              "      <td>6</td>\n",
              "      <td>2010-12-01 08:34:00</td>\n",
              "      <td>4.25</td>\n",
              "      <td>13,047.00</td>\n",
              "      <td>United Kingdom</td>\n",
              "    </tr>\n",
              "    <tr>\n",
              "      <th>3</th>\n",
              "      <td>536370</td>\n",
              "      <td>22727</td>\n",
              "      <td>ALARM CLOCK BAKELIKE RED</td>\n",
              "      <td>24</td>\n",
              "      <td>2010-12-01 08:45:00</td>\n",
              "      <td>3.75</td>\n",
              "      <td>12,583.00</td>\n",
              "      <td>France</td>\n",
              "    </tr>\n",
              "    <tr>\n",
              "      <th>4</th>\n",
              "      <td>536370</td>\n",
              "      <td>POST</td>\n",
              "      <td>POSTAGE</td>\n",
              "      <td>3</td>\n",
              "      <td>2010-12-01 08:45:00</td>\n",
              "      <td>18.00</td>\n",
              "      <td>12,583.00</td>\n",
              "      <td>France</td>\n",
              "    </tr>\n",
              "  </tbody>\n",
              "</table>\n",
              "</div>\n",
              "    <div class=\"colab-df-buttons\">\n",
              "\n",
              "  <div class=\"colab-df-container\">\n",
              "    <button class=\"colab-df-convert\" onclick=\"convertToInteractive('df-307d529e-bd14-439e-b42e-453d6242cc1c')\"\n",
              "            title=\"Convert this dataframe to an interactive table.\"\n",
              "            style=\"display:none;\">\n",
              "\n",
              "  <svg xmlns=\"http://www.w3.org/2000/svg\" height=\"24px\" viewBox=\"0 -960 960 960\">\n",
              "    <path d=\"M120-120v-720h720v720H120Zm60-500h600v-160H180v160Zm220 220h160v-160H400v160Zm0 220h160v-160H400v160ZM180-400h160v-160H180v160Zm440 0h160v-160H620v160ZM180-180h160v-160H180v160Zm440 0h160v-160H620v160Z\"/>\n",
              "  </svg>\n",
              "    </button>\n",
              "\n",
              "  <style>\n",
              "    .colab-df-container {\n",
              "      display:flex;\n",
              "      gap: 12px;\n",
              "    }\n",
              "\n",
              "    .colab-df-convert {\n",
              "      background-color: #E8F0FE;\n",
              "      border: none;\n",
              "      border-radius: 50%;\n",
              "      cursor: pointer;\n",
              "      display: none;\n",
              "      fill: #1967D2;\n",
              "      height: 32px;\n",
              "      padding: 0 0 0 0;\n",
              "      width: 32px;\n",
              "    }\n",
              "\n",
              "    .colab-df-convert:hover {\n",
              "      background-color: #E2EBFA;\n",
              "      box-shadow: 0px 1px 2px rgba(60, 64, 67, 0.3), 0px 1px 3px 1px rgba(60, 64, 67, 0.15);\n",
              "      fill: #174EA6;\n",
              "    }\n",
              "\n",
              "    .colab-df-buttons div {\n",
              "      margin-bottom: 4px;\n",
              "    }\n",
              "\n",
              "    [theme=dark] .colab-df-convert {\n",
              "      background-color: #3B4455;\n",
              "      fill: #D2E3FC;\n",
              "    }\n",
              "\n",
              "    [theme=dark] .colab-df-convert:hover {\n",
              "      background-color: #434B5C;\n",
              "      box-shadow: 0px 1px 3px 1px rgba(0, 0, 0, 0.15);\n",
              "      filter: drop-shadow(0px 1px 2px rgba(0, 0, 0, 0.3));\n",
              "      fill: #FFFFFF;\n",
              "    }\n",
              "  </style>\n",
              "\n",
              "    <script>\n",
              "      const buttonEl =\n",
              "        document.querySelector('#df-307d529e-bd14-439e-b42e-453d6242cc1c button.colab-df-convert');\n",
              "      buttonEl.style.display =\n",
              "        google.colab.kernel.accessAllowed ? 'block' : 'none';\n",
              "\n",
              "      async function convertToInteractive(key) {\n",
              "        const element = document.querySelector('#df-307d529e-bd14-439e-b42e-453d6242cc1c');\n",
              "        const dataTable =\n",
              "          await google.colab.kernel.invokeFunction('convertToInteractive',\n",
              "                                                    [key], {});\n",
              "        if (!dataTable) return;\n",
              "\n",
              "        const docLinkHtml = 'Like what you see? Visit the ' +\n",
              "          '<a target=\"_blank\" href=https://colab.research.google.com/notebooks/data_table.ipynb>data table notebook</a>'\n",
              "          + ' to learn more about interactive tables.';\n",
              "        element.innerHTML = '';\n",
              "        dataTable['output_type'] = 'display_data';\n",
              "        await google.colab.output.renderOutput(dataTable, element);\n",
              "        const docLink = document.createElement('div');\n",
              "        docLink.innerHTML = docLinkHtml;\n",
              "        element.appendChild(docLink);\n",
              "      }\n",
              "    </script>\n",
              "  </div>\n",
              "\n",
              "\n",
              "    <div id=\"df-9f10aa9b-8fc7-43f2-9981-69b10f1df81f\">\n",
              "      <button class=\"colab-df-quickchart\" onclick=\"quickchart('df-9f10aa9b-8fc7-43f2-9981-69b10f1df81f')\"\n",
              "                title=\"Suggest charts\"\n",
              "                style=\"display:none;\">\n",
              "\n",
              "<svg xmlns=\"http://www.w3.org/2000/svg\" height=\"24px\"viewBox=\"0 0 24 24\"\n",
              "     width=\"24px\">\n",
              "    <g>\n",
              "        <path d=\"M19 3H5c-1.1 0-2 .9-2 2v14c0 1.1.9 2 2 2h14c1.1 0 2-.9 2-2V5c0-1.1-.9-2-2-2zM9 17H7v-7h2v7zm4 0h-2V7h2v10zm4 0h-2v-4h2v4z\"/>\n",
              "    </g>\n",
              "</svg>\n",
              "      </button>\n",
              "\n",
              "<style>\n",
              "  .colab-df-quickchart {\n",
              "      --bg-color: #E8F0FE;\n",
              "      --fill-color: #1967D2;\n",
              "      --hover-bg-color: #E2EBFA;\n",
              "      --hover-fill-color: #174EA6;\n",
              "      --disabled-fill-color: #AAA;\n",
              "      --disabled-bg-color: #DDD;\n",
              "  }\n",
              "\n",
              "  [theme=dark] .colab-df-quickchart {\n",
              "      --bg-color: #3B4455;\n",
              "      --fill-color: #D2E3FC;\n",
              "      --hover-bg-color: #434B5C;\n",
              "      --hover-fill-color: #FFFFFF;\n",
              "      --disabled-bg-color: #3B4455;\n",
              "      --disabled-fill-color: #666;\n",
              "  }\n",
              "\n",
              "  .colab-df-quickchart {\n",
              "    background-color: var(--bg-color);\n",
              "    border: none;\n",
              "    border-radius: 50%;\n",
              "    cursor: pointer;\n",
              "    display: none;\n",
              "    fill: var(--fill-color);\n",
              "    height: 32px;\n",
              "    padding: 0;\n",
              "    width: 32px;\n",
              "  }\n",
              "\n",
              "  .colab-df-quickchart:hover {\n",
              "    background-color: var(--hover-bg-color);\n",
              "    box-shadow: 0 1px 2px rgba(60, 64, 67, 0.3), 0 1px 3px 1px rgba(60, 64, 67, 0.15);\n",
              "    fill: var(--button-hover-fill-color);\n",
              "  }\n",
              "\n",
              "  .colab-df-quickchart-complete:disabled,\n",
              "  .colab-df-quickchart-complete:disabled:hover {\n",
              "    background-color: var(--disabled-bg-color);\n",
              "    fill: var(--disabled-fill-color);\n",
              "    box-shadow: none;\n",
              "  }\n",
              "\n",
              "  .colab-df-spinner {\n",
              "    border: 2px solid var(--fill-color);\n",
              "    border-color: transparent;\n",
              "    border-bottom-color: var(--fill-color);\n",
              "    animation:\n",
              "      spin 1s steps(1) infinite;\n",
              "  }\n",
              "\n",
              "  @keyframes spin {\n",
              "    0% {\n",
              "      border-color: transparent;\n",
              "      border-bottom-color: var(--fill-color);\n",
              "      border-left-color: var(--fill-color);\n",
              "    }\n",
              "    20% {\n",
              "      border-color: transparent;\n",
              "      border-left-color: var(--fill-color);\n",
              "      border-top-color: var(--fill-color);\n",
              "    }\n",
              "    30% {\n",
              "      border-color: transparent;\n",
              "      border-left-color: var(--fill-color);\n",
              "      border-top-color: var(--fill-color);\n",
              "      border-right-color: var(--fill-color);\n",
              "    }\n",
              "    40% {\n",
              "      border-color: transparent;\n",
              "      border-right-color: var(--fill-color);\n",
              "      border-top-color: var(--fill-color);\n",
              "    }\n",
              "    60% {\n",
              "      border-color: transparent;\n",
              "      border-right-color: var(--fill-color);\n",
              "    }\n",
              "    80% {\n",
              "      border-color: transparent;\n",
              "      border-right-color: var(--fill-color);\n",
              "      border-bottom-color: var(--fill-color);\n",
              "    }\n",
              "    90% {\n",
              "      border-color: transparent;\n",
              "      border-bottom-color: var(--fill-color);\n",
              "    }\n",
              "  }\n",
              "</style>\n",
              "\n",
              "      <script>\n",
              "        async function quickchart(key) {\n",
              "          const quickchartButtonEl =\n",
              "            document.querySelector('#' + key + ' button');\n",
              "          quickchartButtonEl.disabled = true;  // To prevent multiple clicks.\n",
              "          quickchartButtonEl.classList.add('colab-df-spinner');\n",
              "          try {\n",
              "            const charts = await google.colab.kernel.invokeFunction(\n",
              "                'suggestCharts', [key], {});\n",
              "          } catch (error) {\n",
              "            console.error('Error during call to suggestCharts:', error);\n",
              "          }\n",
              "          quickchartButtonEl.classList.remove('colab-df-spinner');\n",
              "          quickchartButtonEl.classList.add('colab-df-quickchart-complete');\n",
              "        }\n",
              "        (() => {\n",
              "          let quickchartButtonEl =\n",
              "            document.querySelector('#df-9f10aa9b-8fc7-43f2-9981-69b10f1df81f button');\n",
              "          quickchartButtonEl.style.display =\n",
              "            google.colab.kernel.accessAllowed ? 'block' : 'none';\n",
              "        })();\n",
              "      </script>\n",
              "    </div>\n",
              "\n",
              "    </div>\n",
              "  </div>\n"
            ],
            "application/vnd.google.colaboratory.intrinsic+json": {
              "type": "dataframe",
              "variable_name": "datasate",
              "summary": "{\n  \"name\": \"datasate\",\n  \"rows\": 40530,\n  \"fields\": [\n    {\n      \"column\": \"InvoiceNo\",\n      \"properties\": {\n        \"dtype\": \"category\",\n        \"num_unique_values\": 13362,\n        \"samples\": [\n          \"536973\",\n          \"555501\",\n          \"542381\"\n        ],\n        \"semantic_type\": \"\",\n        \"description\": \"\"\n      }\n    },\n    {\n      \"column\": \"StockCode\",\n      \"properties\": {\n        \"dtype\": \"category\",\n        \"num_unique_values\": 31,\n        \"samples\": [\n          \"22993\",\n          \"85099B\",\n          \"22666\"\n        ],\n        \"semantic_type\": \"\",\n        \"description\": \"\"\n      }\n    },\n    {\n      \"column\": \"Description\",\n      \"properties\": {\n        \"dtype\": \"category\",\n        \"num_unique_values\": 30,\n        \"samples\": [\n          \"LUNCH BAG SUKI DESIGN \",\n          \"JUMBO BAG RED RETROSPOT\",\n          \"RECIPE BOX PANTRY YELLOW DESIGN\"\n        ],\n        \"semantic_type\": \"\",\n        \"description\": \"\"\n      }\n    },\n    {\n      \"column\": \"Quantity\",\n      \"properties\": {\n        \"dtype\": \"number\",\n        \"std\": 40,\n        \"min\": -1930,\n        \"max\": 2880,\n        \"num_unique_values\": 214,\n        \"samples\": [\n          40,\n          -112,\n          38\n        ],\n        \"semantic_type\": \"\",\n        \"description\": \"\"\n      }\n    },\n    {\n      \"column\": \"InvoiceDate\",\n      \"properties\": {\n        \"dtype\": \"object\",\n        \"num_unique_values\": 12697,\n        \"samples\": [\n          \"2011-09-02 12:51:00\",\n          \"2011-01-31 10:43:00\",\n          \"2011-05-06 10:16:00\"\n        ],\n        \"semantic_type\": \"\",\n        \"description\": \"\"\n      }\n    },\n    {\n      \"column\": \"UnitPrice\",\n      \"properties\": {\n        \"dtype\": \"number\",\n        \"std\": 57.760567894623485,\n        \"min\": 0.0,\n        \"max\": 8142.75,\n        \"num_unique_values\": 195,\n        \"samples\": [\n          10.34,\n          4.21,\n          37.5\n        ],\n        \"semantic_type\": \"\",\n        \"description\": \"\"\n      }\n    },\n    {\n      \"column\": \"CustomerID\",\n      \"properties\": {\n        \"dtype\": \"number\",\n        \"std\": 1729.7952500437482,\n        \"min\": 12347.0,\n        \"max\": 18283.0,\n        \"num_unique_values\": 3417,\n        \"samples\": [\n          12770.0,\n          13461.0,\n          15570.0\n        ],\n        \"semantic_type\": \"\",\n        \"description\": \"\"\n      }\n    },\n    {\n      \"column\": \"Country\",\n      \"properties\": {\n        \"dtype\": \"category\",\n        \"num_unique_values\": 36,\n        \"samples\": [\n          \"RSA\",\n          \"Iceland\",\n          \"Canada\"\n        ],\n        \"semantic_type\": \"\",\n        \"description\": \"\"\n      }\n    }\n  ]\n}"
            }
          },
          "metadata": {},
          "execution_count": 16
        }
      ]
    },
    {
      "cell_type": "code",
      "source": [
        "print('los productos son los siguiente y no están repetidos')\n",
        "datasate['Description'].unique()"
      ],
      "metadata": {
        "colab": {
          "base_uri": "https://localhost:8080/"
        },
        "id": "gu7zPuM0NG41",
        "outputId": "ebc1cf3e-97e2-47a8-e2c1-2286736de70d"
      },
      "execution_count": null,
      "outputs": [
        {
          "output_type": "execute_result",
          "data": {
            "text/plain": [
              "array(['WHITE HANGING HEART T-LIGHT HOLDER',\n",
              "       'ASSORTED COLOUR BIRD ORNAMENT', 'JAM MAKING SET WITH JARS',\n",
              "       'ALARM CLOCK BAKELIKE RED ', 'POSTAGE',\n",
              "       \"PAPER CHAIN KIT 50'S CHRISTMAS \",\n",
              "       'WOODEN PICTURE FRAME WHITE FINISH', 'JUMBO BAG PINK POLKADOT',\n",
              "       'LUNCH BAG RED RETROSPOT', 'PACK OF 72 RETROSPOT CAKE CASES',\n",
              "       'JUMBO STORAGE BAG SUKI', 'JAM MAKING SET PRINTED',\n",
              "       'JUMBO SHOPPER VINTAGE RED PAISLEY',\n",
              "       'NATURAL SLATE HEART CHALKBOARD ', 'HEART OF WICKER SMALL',\n",
              "       'JUMBO BAG RED RETROSPOT', 'LUNCH BAG SPACEBOY DESIGN ',\n",
              "       'LUNCH BAG PINK POLKADOT', 'LUNCH BAG CARS BLUE',\n",
              "       'LUNCH BAG  BLACK SKULL.', 'REGENCY CAKESTAND 3 TIER',\n",
              "       'ROSES REGENCY TEACUP AND SAUCER ',\n",
              "       'GREEN REGENCY TEACUP AND SAUCER',\n",
              "       'RECIPE BOX PANTRY YELLOW DESIGN', 'PARTY BUNTING',\n",
              "       'SET OF 3 CAKE TINS PANTRY DESIGN ',\n",
              "       'SET OF 4 PANTRY JELLY MOULDS', 'LUNCH BAG SUKI DESIGN ',\n",
              "       'LUNCH BAG APPLE DESIGN', 'SPOTTY BUNTING'], dtype=object)"
            ]
          },
          "metadata": {},
          "execution_count": 18
        }
      ]
    },
    {
      "cell_type": "markdown",
      "source": [
        "## Ejercicio 2: Limpieza y Preprocesamiento de Datos"
      ],
      "metadata": {
        "id": "dtJB9TCPzHay"
      }
    },
    {
      "cell_type": "markdown",
      "source": [
        "Los datos del mundo real rara vez son perfectos. Antes de cualquier análisis, debemos \"sanear\" nuestro dataset. Completa el código en cada paso según las instrucciones."
      ],
      "metadata": {
        "id": "P6VAx2GRzLMN"
      }
    },
    {
      "cell_type": "markdown",
      "source": [
        "2.1 **Manejo de Valores Nulos**: Las transacciones sin un CustomerID no son útiles para nosotros, ya que no podemos agrupar las compras de un cliente específico."
      ],
      "metadata": {
        "id": "_pwltoB1zT0W"
      }
    },
    {
      "cell_type": "code",
      "source": [
        "# TAREA: Elimina todas las filas donde 'CustomerID' es nulo.\n",
        "### TU CÓDIGO AQUÍ ###\n"
      ],
      "metadata": {
        "id": "U-sj4by7zc7D"
      },
      "execution_count": null,
      "outputs": []
    },
    {
      "cell_type": "code",
      "source": [
        "# El tipo de dato de CustomerID debe ser entero\n",
        "### TU CÓDIGO AQUÍ ###\n"
      ],
      "metadata": {
        "id": "eE2uAM_CzeQX"
      },
      "execution_count": null,
      "outputs": []
    },
    {
      "cell_type": "markdown",
      "source": [
        "2.2 **Limpieza de Descripciones de Productos** Las descripciones pueden tener espacios en blanco al inicio o al final que podrían hacer que un mismo producto se cuente como dos diferentes."
      ],
      "metadata": {
        "id": "692DcQzY0BPf"
      }
    },
    {
      "cell_type": "code",
      "source": [
        "# TAREA: Limpia la columna 'Description' eliminando espacios extra al inicio y al final.\n",
        "### TU CÓDIGO AQUÍ ###\n"
      ],
      "metadata": {
        "id": "sMIVCo1xHBkW"
      },
      "execution_count": null,
      "outputs": []
    },
    {
      "cell_type": "markdown",
      "source": [
        "2.3 **Filtrado de Transacciones Anómalas**: Las facturas (InvoiceNo) que empiezan con 'C' indican una cancelación. Estas no son compras reales y deben ser eliminadas. Del mismo modo, las cantidades (Quantity) negativas representan devoluciones."
      ],
      "metadata": {
        "id": "IVstEafz0Izp"
      }
    },
    {
      "cell_type": "code",
      "source": [
        "# TAREA: Elimina las filas que correspondan a cancelaciones.\n",
        "### TU CÓDIGO AQUÍ ###\n"
      ],
      "metadata": {
        "id": "DelzC1r173Dl"
      },
      "execution_count": null,
      "outputs": []
    },
    {
      "cell_type": "code",
      "source": [
        "# TAREA: Elimina las filas con cantidades negativas.\n",
        "### TU CÓDIGO AQUÍ ###\n"
      ],
      "metadata": {
        "id": "3N3k0nRr0JIY"
      },
      "execution_count": null,
      "outputs": []
    },
    {
      "cell_type": "code",
      "source": [
        "# NO MODIFICAR ESTA CELDA\n",
        "assert df_limpio['Quantity'].min() > 0, \"Error: Todavía hay cantidades negativas.\"\n",
        "assert df_limpio['CustomerID'].isnull().sum() == 0, \"Error: Aún hay valores nulos en CustomerID.\"\n",
        "assert df_limpio[df_limpio['InvoiceNo'].str.contains('C')].empty, \"Error: Todavía hay facturas de cancelación.\"\n",
        "print(\"¡La limpieza básica ha sido exitosa!\")"
      ],
      "metadata": {
        "id": "aESz8rfa0eXf"
      },
      "execution_count": null,
      "outputs": []
    },
    {
      "cell_type": "markdown",
      "source": [
        "## Ejercicio 3: Análisis Comparativo por País"
      ],
      "metadata": {
        "id": "dhIoMfZbHRWd"
      }
    },
    {
      "cell_type": "markdown",
      "source": [
        "Ahora que los datos están limpios, vamos a segmentarlos y a aplicar el algoritmo Apriori para encontrar los patrones de compra en el Reino Unido y Alemania."
      ],
      "metadata": {
        "id": "bJwjCIjB0nXg"
      }
    },
    {
      "cell_type": "markdown",
      "source": [
        "**Preparación de la Cesta de Mercado (Función)**\n",
        "\n",
        "La siguiente función toma un dataframe, lo agrupa por factura y descripción, y lo transforma en el formato de matriz binaria que necesita el algoritmo Apriori. Estudia esta función, no necesitas modificarla."
      ],
      "metadata": {
        "id": "O5KneUa30s11"
      }
    },
    {
      "cell_type": "code",
      "source": [
        "# NO MODIFICAR ESTA CELDA\n",
        "def preparar_cesta(dataframe, pais):\n",
        "    \"\"\"Filtra por país y prepara la matriz de transacciones.\"\"\"\n",
        "\n",
        "    # Filtrar por el país de interés\n",
        "    df_pais = dataframe[dataframe['Country'] == pais]\n",
        "\n",
        "    # Crear la cesta: agrupar productos por factura\n",
        "    cesta = (df_pais.groupby(['InvoiceNo', 'Description'])['Quantity']\n",
        "             .sum().unstack().reset_index().fillna(0)\n",
        "             .set_index('InvoiceNo'))\n",
        "\n",
        "    # Convertir todas las cantidades positivas a 1 y todo lo demás a 0\n",
        "    def encode_units(x):\n",
        "        if x <= 0:\n",
        "            return 0\n",
        "        if x >= 1:\n",
        "            return 1\n",
        "\n",
        "    cesta_encoded = cesta.applymap(encode_units)\n",
        "    return cesta_encoded"
      ],
      "metadata": {
        "id": "h4yMVnI706-4"
      },
      "execution_count": null,
      "outputs": []
    },
    {
      "cell_type": "markdown",
      "source": [
        "3.1 Análisis para el Reino Unido (United Kingdom)"
      ],
      "metadata": {
        "id": "5lCQgW_Gw4GZ"
      }
    },
    {
      "cell_type": "code",
      "source": [
        "# TAREA: Usa la función preparar_cesta para obtener la matriz de transacciones del Reino Unido.\n",
        "### TU CÓDIGO AQUÍ ###\n"
      ],
      "metadata": {
        "id": "bLs61PokHby6"
      },
      "execution_count": null,
      "outputs": []
    },
    {
      "cell_type": "code",
      "source": [
        "# TAREA: Aplica el algoritmo apriori para encontrar itemsets con un soporte mínimo de 2%.\n",
        "### TU CÓDIGO AQUÍ ###\n"
      ],
      "metadata": {
        "id": "JC0fCoyj1b0f"
      },
      "execution_count": null,
      "outputs": []
    },
    {
      "cell_type": "code",
      "source": [
        "# TAREA: Genera las reglas de asociación. Queremos reglas con un Lift mayor a 3.\n",
        "### TU CÓDIGO AQUÍ ###\n"
      ],
      "metadata": {
        "id": "l7FjceUa1fJH"
      },
      "execution_count": null,
      "outputs": []
    },
    {
      "cell_type": "code",
      "source": [
        "# Ordena las reglas por Lift y Confianza de mayor a menor\n",
        "### TU CÓDIGO AQUÍ ###\n"
      ],
      "metadata": {
        "id": "m5kCHUCc1kHB"
      },
      "execution_count": null,
      "outputs": []
    },
    {
      "cell_type": "markdown",
      "source": [
        "3.3 Observa las 3 reglas con el Lift más alto para el Reino Unido (1, 3 y 5). **Interprétalas:** ¿Qué te dicen estas asociaciones? ¿Qué tipo de productos son?"
      ],
      "metadata": {
        "id": "cAGw2_yV1sxd"
      }
    },
    {
      "cell_type": "markdown",
      "source": [
        "3.4 Interpreta el Soporte para el antecedente y el consecuente, la Confianza y el Lift"
      ],
      "metadata": {
        "id": "69bisfMiTkBJ"
      }
    },
    {
      "cell_type": "markdown",
      "source": [
        "3.5 **Recomendación de Negocio:** Basado en estas reglas, ¿qué promoción o estrategia de venta específica podrías sugerir para el mercado del Reino Unido?"
      ],
      "metadata": {
        "id": "rl2T5pW-3Wh6"
      }
    },
    {
      "cell_type": "markdown",
      "source": [
        "3.6 Análisis para Alemania (Germany)"
      ],
      "metadata": {
        "id": "wz2wb9vF17lw"
      }
    },
    {
      "cell_type": "code",
      "source": [
        "# TAREA: Usa la función preparar_cesta para obtener la matriz de transacciones de Alemania.\n",
        "### TU CÓDIGO AQUÍ ###\n"
      ],
      "metadata": {
        "id": "0PxydrOH18j_"
      },
      "execution_count": null,
      "outputs": []
    },
    {
      "cell_type": "code",
      "source": [
        "# TAREA: Aplica el algoritmo apriori con un soporte mínimo del 2%.\n",
        "### TU CÓDIGO AQUÍ ###\n"
      ],
      "metadata": {
        "id": "Kw4X54GI1-zH"
      },
      "execution_count": null,
      "outputs": []
    },
    {
      "cell_type": "code",
      "source": [
        "# TAREA: Genera las reglas de asociación con un Lift mayor a 3.\n",
        "### TU CÓDIGO AQUÍ ###\n"
      ],
      "metadata": {
        "id": "GTlIxDKe2B6E"
      },
      "execution_count": null,
      "outputs": []
    },
    {
      "cell_type": "code",
      "source": [
        "# Ordena las reglas por Lift y Confianza de mayor a menor\n",
        "### TU CÓDIGO AQUÍ ###\n"
      ],
      "metadata": {
        "id": "i-vSQNmU2Fbu"
      },
      "execution_count": null,
      "outputs": []
    },
    {
      "cell_type": "markdown",
      "source": [
        "3.7 Observa las 3 reglas con el Lift más alto para Alemania (1, 3 y 5). **Interprétalas:** ¿Qué patrones de consumo específicos del mercado alemán revelan estas reglas? ¿Son diferentes a los del Reino Unido?\n",
        "\n"
      ],
      "metadata": {
        "id": "L2QuMMj72KRc"
      }
    },
    {
      "cell_type": "markdown",
      "source": [
        "3.8 Interpreta el Soporte para el antecedente y el consecuente, la Confianza y el Lift"
      ],
      "metadata": {
        "id": "VjXuys6oS0Iq"
      }
    },
    {
      "cell_type": "markdown",
      "source": [
        "3.9 **Recomendación de Negocio:** ¿Qué campaña de marketing (diferente a la del Reino Unido) podrías diseñar para los clientes alemanes?"
      ],
      "metadata": {
        "id": "QPJgf2JY3AAX"
      }
    }
  ],
  "metadata": {
    "kernelspec": {
      "display_name": "Python 3",
      "language": "python",
      "name": "python3"
    },
    "language_info": {
      "codemirror_mode": {
        "name": "ipython",
        "version": 3
      },
      "file_extension": ".py",
      "mimetype": "text/x-python",
      "name": "python",
      "nbconvert_exporter": "python",
      "pygments_lexer": "ipython3",
      "version": "3.8.8"
    },
    "colab": {
      "provenance": [],
      "include_colab_link": true
    }
  },
  "nbformat": 4,
  "nbformat_minor": 0
}