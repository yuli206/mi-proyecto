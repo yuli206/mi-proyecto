{
  "cells": [
    {
      "cell_type": "markdown",
      "metadata": {
        "id": "view-in-github",
        "colab_type": "text"
      },
      "source": [
        "<a href=\"https://colab.research.google.com/github/yuli206/mi-proyecto/blob/main/Parte_Practica_Preparacion_y_Limpieza_Datos.ipynb\" target=\"_parent\"><img src=\"https://colab.research.google.com/assets/colab-badge.svg\" alt=\"Open In Colab\"/></a>"
      ]
    },
    {
      "cell_type": "markdown",
      "source": [
        "# **Inteligencia Artificial con Aplicaciones en Economía I**\n",
        "\n",
        "- 👩‍🏫 **Profesora:** [Lina María Castro](https://www.linkedin.com/in/lina-maria-castro)  \n",
        "- 📧 **Email:** [lmcastroco@gmail.com](mailto:lmcastroco@gmail.com)  \n",
        "- 🎓 **Universidad:** Universidad Externado de Colombia - Facultad de Economía"
      ],
      "metadata": {
        "id": "UxY55o_PQ7jE"
      }
    },
    {
      "cell_type": "markdown",
      "source": [
        "# **Parte práctica parcial: Preparación y limpieza de datos**🧹"
      ],
      "metadata": {
        "id": "fgMCFLbQBIu0"
      }
    },
    {
      "cell_type": "markdown",
      "source": [
        "**IMPORTANTE**: Guarda una copia de este notebook en tu Google Drive o computador."
      ],
      "metadata": {
        "id": "0dQjQRRI-Jwh"
      }
    },
    {
      "cell_type": "markdown",
      "source": [
        "**Nombre estudiante:**"
      ],
      "metadata": {
        "id": "NyfFoG84-DmF"
      }
    },
    {
      "cell_type": "markdown",
      "source": [
        "**Forma de entrega**\n",
        "\n",
        "Jupyter Notebook publicado en su cuenta de Github con el nombre “Practica_limpieza_nombre_apellido_estudiante.ipynb”. Máximo a las 9 a.m., debes enviar link del notebook al correo lina.castro6@uexternado.edu.co, de lo contrario, no será tenido en cuenta.\n",
        "\n",
        "**Instrucciones Generales**\n",
        "\n",
        "- Puedes utilizar tus apuntes y notebooks y entrar al repositorio del curso. Sin embargo, **NO puedes utilizar IA para desarrollar tus respuestas**. **En caso de descubrir que estás usando IA** para el desarrollo de los ejercicios, **tu nota** de este segundo parcial **será cero**.\n",
        "- Completa el código en las celdas marcadas con `### TU CÓDIGO AQUÍ ###`. Puedes añadir más celdas si lo requieres.\n",
        "- Después de cada punto, ejecuta la celda de `assert` que se proporciona. Si no aparece ningún error, ¡tu respuesta es correcta!\n",
        "- No modifiques las celdas de `assert` ni las celdas de Markdown."
      ],
      "metadata": {
        "id": "KcbzsUiz025j"
      }
    },
    {
      "cell_type": "markdown",
      "metadata": {
        "id": "002f12a4"
      },
      "source": [
        "**Objetivos de Aprendizaje**\n",
        "\n",
        "1. **Aplicar técnicas de importación y consolidación de múltiples fuentes de datos** utilizando la librería `pandas`.\n",
        "2.  **Ejecutar un proceso completo de limpieza de datos**, incluyendo el manejo de valores nulos, duplicados y la estandarización de tipos de datos.\n",
        "3.  **Preparar un conjunto de datos real (GEIH del DANE)** para un análisis económico, sentando las bases para futuros modelos de machine learning."
      ]
    },
    {
      "cell_type": "markdown",
      "source": [
        "# Ejercicio 1: Importar y unir datos (20%)"
      ],
      "metadata": {
        "id": "kcMQs_MlILnO"
      }
    },
    {
      "cell_type": "markdown",
      "source": [
        "El DANE publica los microdatos de la GEIH mensualmente. Tu primera tarea es cargar los datos de los primeros seis meses de 2025 y armar una sola base."
      ],
      "metadata": {
        "id": "beUGc16pTUmd"
      }
    },
    {
      "cell_type": "markdown",
      "source": [
        "**Los archivos necesarios los encuentras en el repositorio del curso, carpeta \"datasets\", carpeta \"geih_2025\".**"
      ],
      "metadata": {
        "id": "VfgbpHxErNbB"
      }
    },
    {
      "cell_type": "markdown",
      "source": [
        "1. Usa un ciclo \"for\" para abrir los archivos CSV, ten en cuenta que estas bases usan como separador \";\" y encoding='latin1'. La variable 'DPTO' y 'RAMA4D_R4' debes cargarlas como string."
      ],
      "metadata": {
        "id": "uFLrypnkZinJ"
      }
    },
    {
      "cell_type": "code",
      "source": [
        "import numpy as np\n",
        "import pandas as pd"
      ],
      "metadata": {
        "id": "m7PjlEvOBM6D"
      },
      "execution_count": 17,
      "outputs": []
    },
    {
      "cell_type": "code",
      "source": [
        "#lista con los archivos\n",
        "archivos = [\n",
        "     \"df_abr.csv\",\n",
        "    \"df_ene.csv\",\n",
        "    \"df_feb.csv\",\n",
        "    \"df_jun.csv\",\n",
        "    \"df_mar (1).csv\",\n",
        "    \"df_may.csv\"]"
      ],
      "metadata": {
        "id": "XSt45TzJ_kds"
      },
      "execution_count": 18,
      "outputs": []
    },
    {
      "cell_type": "code",
      "source": [
        "lista_dfs = []\n",
        "for archivo in archivos:\n",
        "    df=pd.read_csv(archivo,\n",
        "        sep=\";\",\n",
        "        encoding=\"latin1\",converters={\"DPTO\": str, \"RAMA4D_R4\": str})\n",
        "\n",
        "    lista_dfs.append(df)\n",
        "\n",
        ""
      ],
      "metadata": {
        "id": "kwoRqmNeDPDb",
        "outputId": "1f638730-5fd3-4667-9312-041905ba8905",
        "colab": {
          "base_uri": "https://localhost:8080/"
        }
      },
      "execution_count": 20,
      "outputs": [
        {
          "output_type": "stream",
          "name": "stderr",
          "text": [
            "/tmp/ipython-input-440996676.py:3: DtypeWarning: Columns (71,132,176,188,190,201) have mixed types. Specify dtype option on import or set low_memory=False.\n",
            "  df=pd.read_csv(archivo,\n",
            "/tmp/ipython-input-440996676.py:3: DtypeWarning: Columns (71,132,176,185,190,201) have mixed types. Specify dtype option on import or set low_memory=False.\n",
            "  df=pd.read_csv(archivo,\n",
            "/tmp/ipython-input-440996676.py:3: DtypeWarning: Columns (71,132,176,188,190,201) have mixed types. Specify dtype option on import or set low_memory=False.\n",
            "  df=pd.read_csv(archivo,\n",
            "/tmp/ipython-input-440996676.py:3: DtypeWarning: Columns (71,132,176,188,190,201) have mixed types. Specify dtype option on import or set low_memory=False.\n",
            "  df=pd.read_csv(archivo,\n",
            "/tmp/ipython-input-440996676.py:3: DtypeWarning: Columns (71,132,176,185,188,190,201) have mixed types. Specify dtype option on import or set low_memory=False.\n",
            "  df=pd.read_csv(archivo,\n",
            "/tmp/ipython-input-440996676.py:3: DtypeWarning: Columns (71,132,176,188,190,201) have mixed types. Specify dtype option on import or set low_memory=False.\n",
            "  df=pd.read_csv(archivo,\n"
          ]
        }
      ]
    },
    {
      "cell_type": "markdown",
      "source": [
        "2. Une todos los dataframes para obtener una base de la GEIH con toda la información de enero a junio de 2025. El nuevo dataframe debe llamarse `df_geih`"
      ],
      "metadata": {
        "id": "V4mnzdvxZknq"
      }
    },
    {
      "cell_type": "code",
      "source": [
        "### TU CÓDIGO AQUÍ ###\n",
        "\n",
        "df_geih = pd.concat(lista_dfs, ignore_index=True)\n",
        "df_geih.head(3)"
      ],
      "metadata": {
        "id": "nUC83l_JZtNE",
        "outputId": "55ae9ede-4bf4-4129-e57a-f6b506aeec18",
        "colab": {
          "base_uri": "https://localhost:8080/",
          "height": 192
        }
      },
      "execution_count": 26,
      "outputs": [
        {
          "output_type": "execute_result",
          "data": {
            "text/plain": [
              "    PERIODO  MES   PER  DIRECTORIO  SECUENCIA_P  ORDEN  HOGAR  REGIS  AREA  \\\n",
              "0  20250417    4  2025     8173631            1      1      1     10   NaN   \n",
              "1  20250417    4  2025     8173631            1      2      1     10   NaN   \n",
              "2  20250417    4  2025     8173631            1      3      1     10   NaN   \n",
              "\n",
              "   CLASE  ...  P1881 P1881S1  P1882  P7240  P7240S1  OCI   INGLABO  RAMA2D_R4  \\\n",
              "0      2  ...   14.0     NaN    NaN    3.0      NaN  1.0  700000.0       56.0   \n",
              "1      2  ...    1.0     NaN   50.0    3.0      NaN  1.0  320000.0       45.0   \n",
              "2      2  ...    NaN     NaN    NaN    NaN      NaN  NaN       NaN        NaN   \n",
              "\n",
              "   RAMA4D_R4  OFICIO_C8  \n",
              "0       5619     9411.0  \n",
              "1       4541     9112.0  \n",
              "2                   NaN  \n",
              "\n",
              "[3 rows x 245 columns]"
            ],
            "text/html": [
              "\n",
              "  <div id=\"df-b61afc5c-3345-436f-8a8f-5db04d521041\" class=\"colab-df-container\">\n",
              "    <div>\n",
              "<style scoped>\n",
              "    .dataframe tbody tr th:only-of-type {\n",
              "        vertical-align: middle;\n",
              "    }\n",
              "\n",
              "    .dataframe tbody tr th {\n",
              "        vertical-align: top;\n",
              "    }\n",
              "\n",
              "    .dataframe thead th {\n",
              "        text-align: right;\n",
              "    }\n",
              "</style>\n",
              "<table border=\"1\" class=\"dataframe\">\n",
              "  <thead>\n",
              "    <tr style=\"text-align: right;\">\n",
              "      <th></th>\n",
              "      <th>PERIODO</th>\n",
              "      <th>MES</th>\n",
              "      <th>PER</th>\n",
              "      <th>DIRECTORIO</th>\n",
              "      <th>SECUENCIA_P</th>\n",
              "      <th>ORDEN</th>\n",
              "      <th>HOGAR</th>\n",
              "      <th>REGIS</th>\n",
              "      <th>AREA</th>\n",
              "      <th>CLASE</th>\n",
              "      <th>...</th>\n",
              "      <th>P1881</th>\n",
              "      <th>P1881S1</th>\n",
              "      <th>P1882</th>\n",
              "      <th>P7240</th>\n",
              "      <th>P7240S1</th>\n",
              "      <th>OCI</th>\n",
              "      <th>INGLABO</th>\n",
              "      <th>RAMA2D_R4</th>\n",
              "      <th>RAMA4D_R4</th>\n",
              "      <th>OFICIO_C8</th>\n",
              "    </tr>\n",
              "  </thead>\n",
              "  <tbody>\n",
              "    <tr>\n",
              "      <th>0</th>\n",
              "      <td>20250417</td>\n",
              "      <td>4</td>\n",
              "      <td>2025</td>\n",
              "      <td>8173631</td>\n",
              "      <td>1</td>\n",
              "      <td>1</td>\n",
              "      <td>1</td>\n",
              "      <td>10</td>\n",
              "      <td>NaN</td>\n",
              "      <td>2</td>\n",
              "      <td>...</td>\n",
              "      <td>14.0</td>\n",
              "      <td>NaN</td>\n",
              "      <td>NaN</td>\n",
              "      <td>3.0</td>\n",
              "      <td>NaN</td>\n",
              "      <td>1.0</td>\n",
              "      <td>700000.0</td>\n",
              "      <td>56.0</td>\n",
              "      <td>5619</td>\n",
              "      <td>9411.0</td>\n",
              "    </tr>\n",
              "    <tr>\n",
              "      <th>1</th>\n",
              "      <td>20250417</td>\n",
              "      <td>4</td>\n",
              "      <td>2025</td>\n",
              "      <td>8173631</td>\n",
              "      <td>1</td>\n",
              "      <td>2</td>\n",
              "      <td>1</td>\n",
              "      <td>10</td>\n",
              "      <td>NaN</td>\n",
              "      <td>2</td>\n",
              "      <td>...</td>\n",
              "      <td>1.0</td>\n",
              "      <td>NaN</td>\n",
              "      <td>50.0</td>\n",
              "      <td>3.0</td>\n",
              "      <td>NaN</td>\n",
              "      <td>1.0</td>\n",
              "      <td>320000.0</td>\n",
              "      <td>45.0</td>\n",
              "      <td>4541</td>\n",
              "      <td>9112.0</td>\n",
              "    </tr>\n",
              "    <tr>\n",
              "      <th>2</th>\n",
              "      <td>20250417</td>\n",
              "      <td>4</td>\n",
              "      <td>2025</td>\n",
              "      <td>8173631</td>\n",
              "      <td>1</td>\n",
              "      <td>3</td>\n",
              "      <td>1</td>\n",
              "      <td>10</td>\n",
              "      <td>NaN</td>\n",
              "      <td>2</td>\n",
              "      <td>...</td>\n",
              "      <td>NaN</td>\n",
              "      <td>NaN</td>\n",
              "      <td>NaN</td>\n",
              "      <td>NaN</td>\n",
              "      <td>NaN</td>\n",
              "      <td>NaN</td>\n",
              "      <td>NaN</td>\n",
              "      <td>NaN</td>\n",
              "      <td></td>\n",
              "      <td>NaN</td>\n",
              "    </tr>\n",
              "  </tbody>\n",
              "</table>\n",
              "<p>3 rows × 245 columns</p>\n",
              "</div>\n",
              "    <div class=\"colab-df-buttons\">\n",
              "\n",
              "  <div class=\"colab-df-container\">\n",
              "    <button class=\"colab-df-convert\" onclick=\"convertToInteractive('df-b61afc5c-3345-436f-8a8f-5db04d521041')\"\n",
              "            title=\"Convert this dataframe to an interactive table.\"\n",
              "            style=\"display:none;\">\n",
              "\n",
              "  <svg xmlns=\"http://www.w3.org/2000/svg\" height=\"24px\" viewBox=\"0 -960 960 960\">\n",
              "    <path d=\"M120-120v-720h720v720H120Zm60-500h600v-160H180v160Zm220 220h160v-160H400v160Zm0 220h160v-160H400v160ZM180-400h160v-160H180v160Zm440 0h160v-160H620v160ZM180-180h160v-160H180v160Zm440 0h160v-160H620v160Z\"/>\n",
              "  </svg>\n",
              "    </button>\n",
              "\n",
              "  <style>\n",
              "    .colab-df-container {\n",
              "      display:flex;\n",
              "      gap: 12px;\n",
              "    }\n",
              "\n",
              "    .colab-df-convert {\n",
              "      background-color: #E8F0FE;\n",
              "      border: none;\n",
              "      border-radius: 50%;\n",
              "      cursor: pointer;\n",
              "      display: none;\n",
              "      fill: #1967D2;\n",
              "      height: 32px;\n",
              "      padding: 0 0 0 0;\n",
              "      width: 32px;\n",
              "    }\n",
              "\n",
              "    .colab-df-convert:hover {\n",
              "      background-color: #E2EBFA;\n",
              "      box-shadow: 0px 1px 2px rgba(60, 64, 67, 0.3), 0px 1px 3px 1px rgba(60, 64, 67, 0.15);\n",
              "      fill: #174EA6;\n",
              "    }\n",
              "\n",
              "    .colab-df-buttons div {\n",
              "      margin-bottom: 4px;\n",
              "    }\n",
              "\n",
              "    [theme=dark] .colab-df-convert {\n",
              "      background-color: #3B4455;\n",
              "      fill: #D2E3FC;\n",
              "    }\n",
              "\n",
              "    [theme=dark] .colab-df-convert:hover {\n",
              "      background-color: #434B5C;\n",
              "      box-shadow: 0px 1px 3px 1px rgba(0, 0, 0, 0.15);\n",
              "      filter: drop-shadow(0px 1px 2px rgba(0, 0, 0, 0.3));\n",
              "      fill: #FFFFFF;\n",
              "    }\n",
              "  </style>\n",
              "\n",
              "    <script>\n",
              "      const buttonEl =\n",
              "        document.querySelector('#df-b61afc5c-3345-436f-8a8f-5db04d521041 button.colab-df-convert');\n",
              "      buttonEl.style.display =\n",
              "        google.colab.kernel.accessAllowed ? 'block' : 'none';\n",
              "\n",
              "      async function convertToInteractive(key) {\n",
              "        const element = document.querySelector('#df-b61afc5c-3345-436f-8a8f-5db04d521041');\n",
              "        const dataTable =\n",
              "          await google.colab.kernel.invokeFunction('convertToInteractive',\n",
              "                                                    [key], {});\n",
              "        if (!dataTable) return;\n",
              "\n",
              "        const docLinkHtml = 'Like what you see? Visit the ' +\n",
              "          '<a target=\"_blank\" href=https://colab.research.google.com/notebooks/data_table.ipynb>data table notebook</a>'\n",
              "          + ' to learn more about interactive tables.';\n",
              "        element.innerHTML = '';\n",
              "        dataTable['output_type'] = 'display_data';\n",
              "        await google.colab.output.renderOutput(dataTable, element);\n",
              "        const docLink = document.createElement('div');\n",
              "        docLink.innerHTML = docLinkHtml;\n",
              "        element.appendChild(docLink);\n",
              "      }\n",
              "    </script>\n",
              "  </div>\n",
              "\n",
              "\n",
              "    <div id=\"df-4b8e4744-bc86-405f-8e7e-45052227550d\">\n",
              "      <button class=\"colab-df-quickchart\" onclick=\"quickchart('df-4b8e4744-bc86-405f-8e7e-45052227550d')\"\n",
              "                title=\"Suggest charts\"\n",
              "                style=\"display:none;\">\n",
              "\n",
              "<svg xmlns=\"http://www.w3.org/2000/svg\" height=\"24px\"viewBox=\"0 0 24 24\"\n",
              "     width=\"24px\">\n",
              "    <g>\n",
              "        <path d=\"M19 3H5c-1.1 0-2 .9-2 2v14c0 1.1.9 2 2 2h14c1.1 0 2-.9 2-2V5c0-1.1-.9-2-2-2zM9 17H7v-7h2v7zm4 0h-2V7h2v10zm4 0h-2v-4h2v4z\"/>\n",
              "    </g>\n",
              "</svg>\n",
              "      </button>\n",
              "\n",
              "<style>\n",
              "  .colab-df-quickchart {\n",
              "      --bg-color: #E8F0FE;\n",
              "      --fill-color: #1967D2;\n",
              "      --hover-bg-color: #E2EBFA;\n",
              "      --hover-fill-color: #174EA6;\n",
              "      --disabled-fill-color: #AAA;\n",
              "      --disabled-bg-color: #DDD;\n",
              "  }\n",
              "\n",
              "  [theme=dark] .colab-df-quickchart {\n",
              "      --bg-color: #3B4455;\n",
              "      --fill-color: #D2E3FC;\n",
              "      --hover-bg-color: #434B5C;\n",
              "      --hover-fill-color: #FFFFFF;\n",
              "      --disabled-bg-color: #3B4455;\n",
              "      --disabled-fill-color: #666;\n",
              "  }\n",
              "\n",
              "  .colab-df-quickchart {\n",
              "    background-color: var(--bg-color);\n",
              "    border: none;\n",
              "    border-radius: 50%;\n",
              "    cursor: pointer;\n",
              "    display: none;\n",
              "    fill: var(--fill-color);\n",
              "    height: 32px;\n",
              "    padding: 0;\n",
              "    width: 32px;\n",
              "  }\n",
              "\n",
              "  .colab-df-quickchart:hover {\n",
              "    background-color: var(--hover-bg-color);\n",
              "    box-shadow: 0 1px 2px rgba(60, 64, 67, 0.3), 0 1px 3px 1px rgba(60, 64, 67, 0.15);\n",
              "    fill: var(--button-hover-fill-color);\n",
              "  }\n",
              "\n",
              "  .colab-df-quickchart-complete:disabled,\n",
              "  .colab-df-quickchart-complete:disabled:hover {\n",
              "    background-color: var(--disabled-bg-color);\n",
              "    fill: var(--disabled-fill-color);\n",
              "    box-shadow: none;\n",
              "  }\n",
              "\n",
              "  .colab-df-spinner {\n",
              "    border: 2px solid var(--fill-color);\n",
              "    border-color: transparent;\n",
              "    border-bottom-color: var(--fill-color);\n",
              "    animation:\n",
              "      spin 1s steps(1) infinite;\n",
              "  }\n",
              "\n",
              "  @keyframes spin {\n",
              "    0% {\n",
              "      border-color: transparent;\n",
              "      border-bottom-color: var(--fill-color);\n",
              "      border-left-color: var(--fill-color);\n",
              "    }\n",
              "    20% {\n",
              "      border-color: transparent;\n",
              "      border-left-color: var(--fill-color);\n",
              "      border-top-color: var(--fill-color);\n",
              "    }\n",
              "    30% {\n",
              "      border-color: transparent;\n",
              "      border-left-color: var(--fill-color);\n",
              "      border-top-color: var(--fill-color);\n",
              "      border-right-color: var(--fill-color);\n",
              "    }\n",
              "    40% {\n",
              "      border-color: transparent;\n",
              "      border-right-color: var(--fill-color);\n",
              "      border-top-color: var(--fill-color);\n",
              "    }\n",
              "    60% {\n",
              "      border-color: transparent;\n",
              "      border-right-color: var(--fill-color);\n",
              "    }\n",
              "    80% {\n",
              "      border-color: transparent;\n",
              "      border-right-color: var(--fill-color);\n",
              "      border-bottom-color: var(--fill-color);\n",
              "    }\n",
              "    90% {\n",
              "      border-color: transparent;\n",
              "      border-bottom-color: var(--fill-color);\n",
              "    }\n",
              "  }\n",
              "</style>\n",
              "\n",
              "      <script>\n",
              "        async function quickchart(key) {\n",
              "          const quickchartButtonEl =\n",
              "            document.querySelector('#' + key + ' button');\n",
              "          quickchartButtonEl.disabled = true;  // To prevent multiple clicks.\n",
              "          quickchartButtonEl.classList.add('colab-df-spinner');\n",
              "          try {\n",
              "            const charts = await google.colab.kernel.invokeFunction(\n",
              "                'suggestCharts', [key], {});\n",
              "          } catch (error) {\n",
              "            console.error('Error during call to suggestCharts:', error);\n",
              "          }\n",
              "          quickchartButtonEl.classList.remove('colab-df-spinner');\n",
              "          quickchartButtonEl.classList.add('colab-df-quickchart-complete');\n",
              "        }\n",
              "        (() => {\n",
              "          let quickchartButtonEl =\n",
              "            document.querySelector('#df-4b8e4744-bc86-405f-8e7e-45052227550d button');\n",
              "          quickchartButtonEl.style.display =\n",
              "            google.colab.kernel.accessAllowed ? 'block' : 'none';\n",
              "        })();\n",
              "      </script>\n",
              "    </div>\n",
              "\n",
              "    </div>\n",
              "  </div>\n"
            ],
            "application/vnd.google.colaboratory.intrinsic+json": {
              "type": "dataframe",
              "variable_name": "df_geih"
            }
          },
          "metadata": {},
          "execution_count": 26
        }
      ]
    },
    {
      "cell_type": "markdown",
      "source": [
        "3. Reinicia el índice de `df_geih`. Asegúrate de que el índice antiguo no se añada como una nueva columna."
      ],
      "metadata": {
        "id": "2KfW20d-ZrNV"
      }
    },
    {
      "cell_type": "code",
      "source": [
        "### TU CÓDIGO AQUÍ ###\n",
        "df_geih = pd.concat(lista_dfs, ignore_index=True)\n",
        "df_geih.reset_index(drop=True, inplace=True)\n",
        "\n",
        "df_geih.head()"
      ],
      "metadata": {
        "id": "wqFvg5vCZtyk",
        "outputId": "fce307a5-f8fe-4143-d5b1-51b670b207b5",
        "colab": {
          "base_uri": "https://localhost:8080/",
          "height": 255
        }
      },
      "execution_count": 28,
      "outputs": [
        {
          "output_type": "execute_result",
          "data": {
            "text/plain": [
              "    PERIODO  MES   PER  DIRECTORIO  SECUENCIA_P  ORDEN  HOGAR  REGIS  AREA  \\\n",
              "0  20250417    4  2025     8173631            1      1      1     10   NaN   \n",
              "1  20250417    4  2025     8173631            1      2      1     10   NaN   \n",
              "2  20250417    4  2025     8173631            1      3      1     10   NaN   \n",
              "3  20250417    4  2025     8173631            1      4      1     10   NaN   \n",
              "4  20250417    4  2025     8173631            1      5      1     10   NaN   \n",
              "\n",
              "   CLASE  ...  P1881 P1881S1  P1882  P7240  P7240S1  OCI   INGLABO  RAMA2D_R4  \\\n",
              "0      2  ...   14.0     NaN    NaN    3.0      NaN  1.0  700000.0       56.0   \n",
              "1      2  ...    1.0     NaN   50.0    3.0      NaN  1.0  320000.0       45.0   \n",
              "2      2  ...    NaN     NaN    NaN    NaN      NaN  NaN       NaN        NaN   \n",
              "3      2  ...    NaN     NaN    NaN    NaN      NaN  NaN       NaN        NaN   \n",
              "4      2  ...    NaN     NaN    NaN    NaN      NaN  NaN       NaN        NaN   \n",
              "\n",
              "   RAMA4D_R4  OFICIO_C8  \n",
              "0       5619     9411.0  \n",
              "1       4541     9112.0  \n",
              "2                   NaN  \n",
              "3                   NaN  \n",
              "4                   NaN  \n",
              "\n",
              "[5 rows x 245 columns]"
            ],
            "text/html": [
              "\n",
              "  <div id=\"df-1195ed6e-3097-4bc6-b92e-99985c2c36c1\" class=\"colab-df-container\">\n",
              "    <div>\n",
              "<style scoped>\n",
              "    .dataframe tbody tr th:only-of-type {\n",
              "        vertical-align: middle;\n",
              "    }\n",
              "\n",
              "    .dataframe tbody tr th {\n",
              "        vertical-align: top;\n",
              "    }\n",
              "\n",
              "    .dataframe thead th {\n",
              "        text-align: right;\n",
              "    }\n",
              "</style>\n",
              "<table border=\"1\" class=\"dataframe\">\n",
              "  <thead>\n",
              "    <tr style=\"text-align: right;\">\n",
              "      <th></th>\n",
              "      <th>PERIODO</th>\n",
              "      <th>MES</th>\n",
              "      <th>PER</th>\n",
              "      <th>DIRECTORIO</th>\n",
              "      <th>SECUENCIA_P</th>\n",
              "      <th>ORDEN</th>\n",
              "      <th>HOGAR</th>\n",
              "      <th>REGIS</th>\n",
              "      <th>AREA</th>\n",
              "      <th>CLASE</th>\n",
              "      <th>...</th>\n",
              "      <th>P1881</th>\n",
              "      <th>P1881S1</th>\n",
              "      <th>P1882</th>\n",
              "      <th>P7240</th>\n",
              "      <th>P7240S1</th>\n",
              "      <th>OCI</th>\n",
              "      <th>INGLABO</th>\n",
              "      <th>RAMA2D_R4</th>\n",
              "      <th>RAMA4D_R4</th>\n",
              "      <th>OFICIO_C8</th>\n",
              "    </tr>\n",
              "  </thead>\n",
              "  <tbody>\n",
              "    <tr>\n",
              "      <th>0</th>\n",
              "      <td>20250417</td>\n",
              "      <td>4</td>\n",
              "      <td>2025</td>\n",
              "      <td>8173631</td>\n",
              "      <td>1</td>\n",
              "      <td>1</td>\n",
              "      <td>1</td>\n",
              "      <td>10</td>\n",
              "      <td>NaN</td>\n",
              "      <td>2</td>\n",
              "      <td>...</td>\n",
              "      <td>14.0</td>\n",
              "      <td>NaN</td>\n",
              "      <td>NaN</td>\n",
              "      <td>3.0</td>\n",
              "      <td>NaN</td>\n",
              "      <td>1.0</td>\n",
              "      <td>700000.0</td>\n",
              "      <td>56.0</td>\n",
              "      <td>5619</td>\n",
              "      <td>9411.0</td>\n",
              "    </tr>\n",
              "    <tr>\n",
              "      <th>1</th>\n",
              "      <td>20250417</td>\n",
              "      <td>4</td>\n",
              "      <td>2025</td>\n",
              "      <td>8173631</td>\n",
              "      <td>1</td>\n",
              "      <td>2</td>\n",
              "      <td>1</td>\n",
              "      <td>10</td>\n",
              "      <td>NaN</td>\n",
              "      <td>2</td>\n",
              "      <td>...</td>\n",
              "      <td>1.0</td>\n",
              "      <td>NaN</td>\n",
              "      <td>50.0</td>\n",
              "      <td>3.0</td>\n",
              "      <td>NaN</td>\n",
              "      <td>1.0</td>\n",
              "      <td>320000.0</td>\n",
              "      <td>45.0</td>\n",
              "      <td>4541</td>\n",
              "      <td>9112.0</td>\n",
              "    </tr>\n",
              "    <tr>\n",
              "      <th>2</th>\n",
              "      <td>20250417</td>\n",
              "      <td>4</td>\n",
              "      <td>2025</td>\n",
              "      <td>8173631</td>\n",
              "      <td>1</td>\n",
              "      <td>3</td>\n",
              "      <td>1</td>\n",
              "      <td>10</td>\n",
              "      <td>NaN</td>\n",
              "      <td>2</td>\n",
              "      <td>...</td>\n",
              "      <td>NaN</td>\n",
              "      <td>NaN</td>\n",
              "      <td>NaN</td>\n",
              "      <td>NaN</td>\n",
              "      <td>NaN</td>\n",
              "      <td>NaN</td>\n",
              "      <td>NaN</td>\n",
              "      <td>NaN</td>\n",
              "      <td></td>\n",
              "      <td>NaN</td>\n",
              "    </tr>\n",
              "    <tr>\n",
              "      <th>3</th>\n",
              "      <td>20250417</td>\n",
              "      <td>4</td>\n",
              "      <td>2025</td>\n",
              "      <td>8173631</td>\n",
              "      <td>1</td>\n",
              "      <td>4</td>\n",
              "      <td>1</td>\n",
              "      <td>10</td>\n",
              "      <td>NaN</td>\n",
              "      <td>2</td>\n",
              "      <td>...</td>\n",
              "      <td>NaN</td>\n",
              "      <td>NaN</td>\n",
              "      <td>NaN</td>\n",
              "      <td>NaN</td>\n",
              "      <td>NaN</td>\n",
              "      <td>NaN</td>\n",
              "      <td>NaN</td>\n",
              "      <td>NaN</td>\n",
              "      <td></td>\n",
              "      <td>NaN</td>\n",
              "    </tr>\n",
              "    <tr>\n",
              "      <th>4</th>\n",
              "      <td>20250417</td>\n",
              "      <td>4</td>\n",
              "      <td>2025</td>\n",
              "      <td>8173631</td>\n",
              "      <td>1</td>\n",
              "      <td>5</td>\n",
              "      <td>1</td>\n",
              "      <td>10</td>\n",
              "      <td>NaN</td>\n",
              "      <td>2</td>\n",
              "      <td>...</td>\n",
              "      <td>NaN</td>\n",
              "      <td>NaN</td>\n",
              "      <td>NaN</td>\n",
              "      <td>NaN</td>\n",
              "      <td>NaN</td>\n",
              "      <td>NaN</td>\n",
              "      <td>NaN</td>\n",
              "      <td>NaN</td>\n",
              "      <td></td>\n",
              "      <td>NaN</td>\n",
              "    </tr>\n",
              "  </tbody>\n",
              "</table>\n",
              "<p>5 rows × 245 columns</p>\n",
              "</div>\n",
              "    <div class=\"colab-df-buttons\">\n",
              "\n",
              "  <div class=\"colab-df-container\">\n",
              "    <button class=\"colab-df-convert\" onclick=\"convertToInteractive('df-1195ed6e-3097-4bc6-b92e-99985c2c36c1')\"\n",
              "            title=\"Convert this dataframe to an interactive table.\"\n",
              "            style=\"display:none;\">\n",
              "\n",
              "  <svg xmlns=\"http://www.w3.org/2000/svg\" height=\"24px\" viewBox=\"0 -960 960 960\">\n",
              "    <path d=\"M120-120v-720h720v720H120Zm60-500h600v-160H180v160Zm220 220h160v-160H400v160Zm0 220h160v-160H400v160ZM180-400h160v-160H180v160Zm440 0h160v-160H620v160ZM180-180h160v-160H180v160Zm440 0h160v-160H620v160Z\"/>\n",
              "  </svg>\n",
              "    </button>\n",
              "\n",
              "  <style>\n",
              "    .colab-df-container {\n",
              "      display:flex;\n",
              "      gap: 12px;\n",
              "    }\n",
              "\n",
              "    .colab-df-convert {\n",
              "      background-color: #E8F0FE;\n",
              "      border: none;\n",
              "      border-radius: 50%;\n",
              "      cursor: pointer;\n",
              "      display: none;\n",
              "      fill: #1967D2;\n",
              "      height: 32px;\n",
              "      padding: 0 0 0 0;\n",
              "      width: 32px;\n",
              "    }\n",
              "\n",
              "    .colab-df-convert:hover {\n",
              "      background-color: #E2EBFA;\n",
              "      box-shadow: 0px 1px 2px rgba(60, 64, 67, 0.3), 0px 1px 3px 1px rgba(60, 64, 67, 0.15);\n",
              "      fill: #174EA6;\n",
              "    }\n",
              "\n",
              "    .colab-df-buttons div {\n",
              "      margin-bottom: 4px;\n",
              "    }\n",
              "\n",
              "    [theme=dark] .colab-df-convert {\n",
              "      background-color: #3B4455;\n",
              "      fill: #D2E3FC;\n",
              "    }\n",
              "\n",
              "    [theme=dark] .colab-df-convert:hover {\n",
              "      background-color: #434B5C;\n",
              "      box-shadow: 0px 1px 3px 1px rgba(0, 0, 0, 0.15);\n",
              "      filter: drop-shadow(0px 1px 2px rgba(0, 0, 0, 0.3));\n",
              "      fill: #FFFFFF;\n",
              "    }\n",
              "  </style>\n",
              "\n",
              "    <script>\n",
              "      const buttonEl =\n",
              "        document.querySelector('#df-1195ed6e-3097-4bc6-b92e-99985c2c36c1 button.colab-df-convert');\n",
              "      buttonEl.style.display =\n",
              "        google.colab.kernel.accessAllowed ? 'block' : 'none';\n",
              "\n",
              "      async function convertToInteractive(key) {\n",
              "        const element = document.querySelector('#df-1195ed6e-3097-4bc6-b92e-99985c2c36c1');\n",
              "        const dataTable =\n",
              "          await google.colab.kernel.invokeFunction('convertToInteractive',\n",
              "                                                    [key], {});\n",
              "        if (!dataTable) return;\n",
              "\n",
              "        const docLinkHtml = 'Like what you see? Visit the ' +\n",
              "          '<a target=\"_blank\" href=https://colab.research.google.com/notebooks/data_table.ipynb>data table notebook</a>'\n",
              "          + ' to learn more about interactive tables.';\n",
              "        element.innerHTML = '';\n",
              "        dataTable['output_type'] = 'display_data';\n",
              "        await google.colab.output.renderOutput(dataTable, element);\n",
              "        const docLink = document.createElement('div');\n",
              "        docLink.innerHTML = docLinkHtml;\n",
              "        element.appendChild(docLink);\n",
              "      }\n",
              "    </script>\n",
              "  </div>\n",
              "\n",
              "\n",
              "    <div id=\"df-6727c8d4-a1f5-4c29-a9b0-2b7b0a0e7b0a\">\n",
              "      <button class=\"colab-df-quickchart\" onclick=\"quickchart('df-6727c8d4-a1f5-4c29-a9b0-2b7b0a0e7b0a')\"\n",
              "                title=\"Suggest charts\"\n",
              "                style=\"display:none;\">\n",
              "\n",
              "<svg xmlns=\"http://www.w3.org/2000/svg\" height=\"24px\"viewBox=\"0 0 24 24\"\n",
              "     width=\"24px\">\n",
              "    <g>\n",
              "        <path d=\"M19 3H5c-1.1 0-2 .9-2 2v14c0 1.1.9 2 2 2h14c1.1 0 2-.9 2-2V5c0-1.1-.9-2-2-2zM9 17H7v-7h2v7zm4 0h-2V7h2v10zm4 0h-2v-4h2v4z\"/>\n",
              "    </g>\n",
              "</svg>\n",
              "      </button>\n",
              "\n",
              "<style>\n",
              "  .colab-df-quickchart {\n",
              "      --bg-color: #E8F0FE;\n",
              "      --fill-color: #1967D2;\n",
              "      --hover-bg-color: #E2EBFA;\n",
              "      --hover-fill-color: #174EA6;\n",
              "      --disabled-fill-color: #AAA;\n",
              "      --disabled-bg-color: #DDD;\n",
              "  }\n",
              "\n",
              "  [theme=dark] .colab-df-quickchart {\n",
              "      --bg-color: #3B4455;\n",
              "      --fill-color: #D2E3FC;\n",
              "      --hover-bg-color: #434B5C;\n",
              "      --hover-fill-color: #FFFFFF;\n",
              "      --disabled-bg-color: #3B4455;\n",
              "      --disabled-fill-color: #666;\n",
              "  }\n",
              "\n",
              "  .colab-df-quickchart {\n",
              "    background-color: var(--bg-color);\n",
              "    border: none;\n",
              "    border-radius: 50%;\n",
              "    cursor: pointer;\n",
              "    display: none;\n",
              "    fill: var(--fill-color);\n",
              "    height: 32px;\n",
              "    padding: 0;\n",
              "    width: 32px;\n",
              "  }\n",
              "\n",
              "  .colab-df-quickchart:hover {\n",
              "    background-color: var(--hover-bg-color);\n",
              "    box-shadow: 0 1px 2px rgba(60, 64, 67, 0.3), 0 1px 3px 1px rgba(60, 64, 67, 0.15);\n",
              "    fill: var(--button-hover-fill-color);\n",
              "  }\n",
              "\n",
              "  .colab-df-quickchart-complete:disabled,\n",
              "  .colab-df-quickchart-complete:disabled:hover {\n",
              "    background-color: var(--disabled-bg-color);\n",
              "    fill: var(--disabled-fill-color);\n",
              "    box-shadow: none;\n",
              "  }\n",
              "\n",
              "  .colab-df-spinner {\n",
              "    border: 2px solid var(--fill-color);\n",
              "    border-color: transparent;\n",
              "    border-bottom-color: var(--fill-color);\n",
              "    animation:\n",
              "      spin 1s steps(1) infinite;\n",
              "  }\n",
              "\n",
              "  @keyframes spin {\n",
              "    0% {\n",
              "      border-color: transparent;\n",
              "      border-bottom-color: var(--fill-color);\n",
              "      border-left-color: var(--fill-color);\n",
              "    }\n",
              "    20% {\n",
              "      border-color: transparent;\n",
              "      border-left-color: var(--fill-color);\n",
              "      border-top-color: var(--fill-color);\n",
              "    }\n",
              "    30% {\n",
              "      border-color: transparent;\n",
              "      border-left-color: var(--fill-color);\n",
              "      border-top-color: var(--fill-color);\n",
              "      border-right-color: var(--fill-color);\n",
              "    }\n",
              "    40% {\n",
              "      border-color: transparent;\n",
              "      border-right-color: var(--fill-color);\n",
              "      border-top-color: var(--fill-color);\n",
              "    }\n",
              "    60% {\n",
              "      border-color: transparent;\n",
              "      border-right-color: var(--fill-color);\n",
              "    }\n",
              "    80% {\n",
              "      border-color: transparent;\n",
              "      border-right-color: var(--fill-color);\n",
              "      border-bottom-color: var(--fill-color);\n",
              "    }\n",
              "    90% {\n",
              "      border-color: transparent;\n",
              "      border-bottom-color: var(--fill-color);\n",
              "    }\n",
              "  }\n",
              "</style>\n",
              "\n",
              "      <script>\n",
              "        async function quickchart(key) {\n",
              "          const quickchartButtonEl =\n",
              "            document.querySelector('#' + key + ' button');\n",
              "          quickchartButtonEl.disabled = true;  // To prevent multiple clicks.\n",
              "          quickchartButtonEl.classList.add('colab-df-spinner');\n",
              "          try {\n",
              "            const charts = await google.colab.kernel.invokeFunction(\n",
              "                'suggestCharts', [key], {});\n",
              "          } catch (error) {\n",
              "            console.error('Error during call to suggestCharts:', error);\n",
              "          }\n",
              "          quickchartButtonEl.classList.remove('colab-df-spinner');\n",
              "          quickchartButtonEl.classList.add('colab-df-quickchart-complete');\n",
              "        }\n",
              "        (() => {\n",
              "          let quickchartButtonEl =\n",
              "            document.querySelector('#df-6727c8d4-a1f5-4c29-a9b0-2b7b0a0e7b0a button');\n",
              "          quickchartButtonEl.style.display =\n",
              "            google.colab.kernel.accessAllowed ? 'block' : 'none';\n",
              "        })();\n",
              "      </script>\n",
              "    </div>\n",
              "\n",
              "    </div>\n",
              "  </div>\n"
            ],
            "application/vnd.google.colaboratory.intrinsic+json": {
              "type": "dataframe",
              "variable_name": "df_geih"
            }
          },
          "metadata": {},
          "execution_count": 28
        }
      ]
    },
    {
      "cell_type": "code",
      "source": [
        "# Celda de verificación (no modificar)\n",
        "assert df_geih.shape[0] == 408423, f\"Error en las filas. Se esperaban 408423, pero se encontraron {df_geih.shape[0]}.\"\n",
        "assert df_geih.shape[1] == 245, f\"Error en las columnas. Se esperaban 245, pero se encontraron {df_geih.shape[1]}.\"\n",
        "print(\"¡Las dimensiones del DataFrame son correctas! ✅\")\n",
        "assert 'index' not in df_geih.columns, \"El índice antiguo no debe ser una columna.\"\n",
        "assert df_geih.index.is_unique, \"El índice debe ser único después de reiniciarlo.\"\n",
        "print(f\"¡Punto 1 completado con éxito! ✅ El DataFrame consolidado tiene {df_geih.shape[0]} filas y {df_geih.shape[1]} columnas.\")"
      ],
      "metadata": {
        "id": "4SKESZ9HI9Sm"
      },
      "execution_count": null,
      "outputs": []
    },
    {
      "cell_type": "markdown",
      "source": [
        "# Ejercicio 2:  Seleccionar y renombrar columnas (5%)"
      ],
      "metadata": {
        "id": "vohgsAt-JIUY"
      }
    },
    {
      "cell_type": "markdown",
      "source": [
        "La GEIH contiene cientos de variables. Para nuestro análisis del mercado laboral, nos enfocaremos en un subconjunto.\n",
        "\n",
        "Adicionalmente, los nombres de las columnas en la GEIH son códigos. Para hacer el análisis más intuitivo, vamos a renombrarlas."
      ],
      "metadata": {
        "id": "d_nfXxqyJKXK"
      }
    },
    {
      "cell_type": "markdown",
      "source": [
        "1. Crea un nuevo DataFrame llamado `df_empleo` que contenga únicamente las columnas que están en la lista `columnas_interes`."
      ],
      "metadata": {
        "id": "kJKqoBs6pwp4"
      }
    },
    {
      "cell_type": "code",
      "source": [
        "columnas_interes = ['DIRECTORIO', 'SECUENCIA_P', 'ORDEN', 'MES', 'CLASE', 'DPTO', 'FEX_C18', 'PT', 'P3271', 'P6040', 'P6080', 'P3043', 'OCI', 'P6430', 'RAMA4D_R4', 'INGLABO']"
      ],
      "metadata": {
        "id": "1Dfq5ExPZ1e-"
      },
      "execution_count": 24,
      "outputs": []
    },
    {
      "cell_type": "code",
      "source": [
        "### TU CÓDIGO AQUÍ ###\n",
        "df_empleo:"
      ],
      "metadata": {
        "id": "75nC2y_4JTnR",
        "outputId": "4d989c8f-91e3-45be-9fa0-ff88b40b7c2d",
        "colab": {
          "base_uri": "https://localhost:8080/",
          "height": 547
        }
      },
      "execution_count": 25,
      "outputs": [
        {
          "output_type": "error",
          "ename": "KeyError",
          "evalue": "'FECHA_PROCESO'",
          "traceback": [
            "\u001b[0;31m---------------------------------------------------------------------------\u001b[0m",
            "\u001b[0;31mKeyError\u001b[0m                                  Traceback (most recent call last)",
            "\u001b[0;32m/usr/local/lib/python3.12/dist-packages/pandas/core/indexes/base.py\u001b[0m in \u001b[0;36mget_loc\u001b[0;34m(self, key)\u001b[0m\n\u001b[1;32m   3804\u001b[0m         \u001b[0;32mtry\u001b[0m\u001b[0;34m:\u001b[0m\u001b[0;34m\u001b[0m\u001b[0;34m\u001b[0m\u001b[0m\n\u001b[0;32m-> 3805\u001b[0;31m             \u001b[0;32mreturn\u001b[0m \u001b[0mself\u001b[0m\u001b[0;34m.\u001b[0m\u001b[0m_engine\u001b[0m\u001b[0;34m.\u001b[0m\u001b[0mget_loc\u001b[0m\u001b[0;34m(\u001b[0m\u001b[0mcasted_key\u001b[0m\u001b[0;34m)\u001b[0m\u001b[0;34m\u001b[0m\u001b[0;34m\u001b[0m\u001b[0m\n\u001b[0m\u001b[1;32m   3806\u001b[0m         \u001b[0;32mexcept\u001b[0m \u001b[0mKeyError\u001b[0m \u001b[0;32mas\u001b[0m \u001b[0merr\u001b[0m\u001b[0;34m:\u001b[0m\u001b[0;34m\u001b[0m\u001b[0;34m\u001b[0m\u001b[0m\n",
            "\u001b[0;32mindex.pyx\u001b[0m in \u001b[0;36mpandas._libs.index.IndexEngine.get_loc\u001b[0;34m()\u001b[0m\n",
            "\u001b[0;32mindex.pyx\u001b[0m in \u001b[0;36mpandas._libs.index.IndexEngine.get_loc\u001b[0;34m()\u001b[0m\n",
            "\u001b[0;32mpandas/_libs/hashtable_class_helper.pxi\u001b[0m in \u001b[0;36mpandas._libs.hashtable.PyObjectHashTable.get_item\u001b[0;34m()\u001b[0m\n",
            "\u001b[0;32mpandas/_libs/hashtable_class_helper.pxi\u001b[0m in \u001b[0;36mpandas._libs.hashtable.PyObjectHashTable.get_item\u001b[0;34m()\u001b[0m\n",
            "\u001b[0;31mKeyError\u001b[0m: 'FECHA_PROCESO'",
            "\nThe above exception was the direct cause of the following exception:\n",
            "\u001b[0;31mKeyError\u001b[0m                                  Traceback (most recent call last)",
            "\u001b[0;32m/tmp/ipython-input-766023031.py\u001b[0m in \u001b[0;36m<cell line: 0>\u001b[0;34m()\u001b[0m\n\u001b[1;32m      1\u001b[0m \u001b[0;31m### TU CÓDIGO AQUÍ ###\u001b[0m\u001b[0;34m\u001b[0m\u001b[0;34m\u001b[0m\u001b[0m\n\u001b[0;32m----> 2\u001b[0;31m \u001b[0mdf_expo\u001b[0m\u001b[0;34m[\u001b[0m\u001b[0;34m'FECHA_PROCESO'\u001b[0m\u001b[0;34m]\u001b[0m\u001b[0;34m.\u001b[0m\u001b[0mvalue_counts\u001b[0m\u001b[0;34m(\u001b[0m\u001b[0mdropna\u001b[0m\u001b[0;34m=\u001b[0m\u001b[0;32mFalse\u001b[0m\u001b[0;34m)\u001b[0m\u001b[0;34m\u001b[0m\u001b[0;34m\u001b[0m\u001b[0m\n\u001b[0m",
            "\u001b[0;32m/usr/local/lib/python3.12/dist-packages/pandas/core/frame.py\u001b[0m in \u001b[0;36m__getitem__\u001b[0;34m(self, key)\u001b[0m\n\u001b[1;32m   4100\u001b[0m             \u001b[0;32mif\u001b[0m \u001b[0mself\u001b[0m\u001b[0;34m.\u001b[0m\u001b[0mcolumns\u001b[0m\u001b[0;34m.\u001b[0m\u001b[0mnlevels\u001b[0m \u001b[0;34m>\u001b[0m \u001b[0;36m1\u001b[0m\u001b[0;34m:\u001b[0m\u001b[0;34m\u001b[0m\u001b[0;34m\u001b[0m\u001b[0m\n\u001b[1;32m   4101\u001b[0m                 \u001b[0;32mreturn\u001b[0m \u001b[0mself\u001b[0m\u001b[0;34m.\u001b[0m\u001b[0m_getitem_multilevel\u001b[0m\u001b[0;34m(\u001b[0m\u001b[0mkey\u001b[0m\u001b[0;34m)\u001b[0m\u001b[0;34m\u001b[0m\u001b[0;34m\u001b[0m\u001b[0m\n\u001b[0;32m-> 4102\u001b[0;31m             \u001b[0mindexer\u001b[0m \u001b[0;34m=\u001b[0m \u001b[0mself\u001b[0m\u001b[0;34m.\u001b[0m\u001b[0mcolumns\u001b[0m\u001b[0;34m.\u001b[0m\u001b[0mget_loc\u001b[0m\u001b[0;34m(\u001b[0m\u001b[0mkey\u001b[0m\u001b[0;34m)\u001b[0m\u001b[0;34m\u001b[0m\u001b[0;34m\u001b[0m\u001b[0m\n\u001b[0m\u001b[1;32m   4103\u001b[0m             \u001b[0;32mif\u001b[0m \u001b[0mis_integer\u001b[0m\u001b[0;34m(\u001b[0m\u001b[0mindexer\u001b[0m\u001b[0;34m)\u001b[0m\u001b[0;34m:\u001b[0m\u001b[0;34m\u001b[0m\u001b[0;34m\u001b[0m\u001b[0m\n\u001b[1;32m   4104\u001b[0m                 \u001b[0mindexer\u001b[0m \u001b[0;34m=\u001b[0m \u001b[0;34m[\u001b[0m\u001b[0mindexer\u001b[0m\u001b[0;34m]\u001b[0m\u001b[0;34m\u001b[0m\u001b[0;34m\u001b[0m\u001b[0m\n",
            "\u001b[0;32m/usr/local/lib/python3.12/dist-packages/pandas/core/indexes/base.py\u001b[0m in \u001b[0;36mget_loc\u001b[0;34m(self, key)\u001b[0m\n\u001b[1;32m   3810\u001b[0m             ):\n\u001b[1;32m   3811\u001b[0m                 \u001b[0;32mraise\u001b[0m \u001b[0mInvalidIndexError\u001b[0m\u001b[0;34m(\u001b[0m\u001b[0mkey\u001b[0m\u001b[0;34m)\u001b[0m\u001b[0;34m\u001b[0m\u001b[0;34m\u001b[0m\u001b[0m\n\u001b[0;32m-> 3812\u001b[0;31m             \u001b[0;32mraise\u001b[0m \u001b[0mKeyError\u001b[0m\u001b[0;34m(\u001b[0m\u001b[0mkey\u001b[0m\u001b[0;34m)\u001b[0m \u001b[0;32mfrom\u001b[0m \u001b[0merr\u001b[0m\u001b[0;34m\u001b[0m\u001b[0;34m\u001b[0m\u001b[0m\n\u001b[0m\u001b[1;32m   3813\u001b[0m         \u001b[0;32mexcept\u001b[0m \u001b[0mTypeError\u001b[0m\u001b[0;34m:\u001b[0m\u001b[0;34m\u001b[0m\u001b[0;34m\u001b[0m\u001b[0m\n\u001b[1;32m   3814\u001b[0m             \u001b[0;31m# If we have a listlike key, _check_indexing_error will raise\u001b[0m\u001b[0;34m\u001b[0m\u001b[0;34m\u001b[0m\u001b[0m\n",
            "\u001b[0;31mKeyError\u001b[0m: 'FECHA_PROCESO'"
          ]
        }
      ]
    },
    {
      "cell_type": "code",
      "source": [
        "# Celda de verificación (no modificar)\n",
        "assert len(df_empleo.columns) == 16, \"El número de columnas es incorrecto.\"\n",
        "assert all(col in df_empleo.columns for col in columnas_interes), \"Faltan columnas o los nombres son incorrectos.\"\n",
        "print(\"¡Selección de columnas completada con éxito! ✅\")\n",
        "print(\"Dimensiones del nuevo DataFrame:\", df_empleo.shape)"
      ],
      "metadata": {
        "id": "vp0lD3F6JXRR"
      },
      "execution_count": null,
      "outputs": []
    },
    {
      "cell_type": "markdown",
      "source": [
        "2. Renombra las columnas del DataFrame `df_empleo` utilizando el diccionario `mapa_nombres`."
      ],
      "metadata": {
        "id": "Re7IRRu7pzyM"
      }
    },
    {
      "cell_type": "code",
      "source": [
        "mapa_nombres = {\n",
        "'DIRECTORIO': 'id_vivienda',\n",
        "'SECUENCIA_P': 'id_hogar',\n",
        "'ORDEN': 'id_persona',\n",
        "'MES': 'mes',\n",
        "'CLASE': 'clase',\n",
        "'DPTO': 'departamento',\n",
        "'FEX_C18': 'factor_expansion',\n",
        "'PT': 'poblacion_total',\n",
        "'P3271': 'sexo',\n",
        "'P6040': 'edad',\n",
        "'P6080': 'grupo_etnico',\n",
        "'P3043': 'nivel_educativo',\n",
        "'OCI': 'ocupados',\n",
        "'P6430': 'categoria_ocupacional',\n",
        "'RAMA4D_R4': 'cod_ciiu',\n",
        "'INGLABO': 'ingreso_laboral'}"
      ],
      "metadata": {
        "id": "Jrc9ps_eaonH"
      },
      "execution_count": null,
      "outputs": []
    },
    {
      "cell_type": "code",
      "source": [
        "### TU CÓDIGO AQUÍ ###\n"
      ],
      "metadata": {
        "id": "zwFmLQHdbCIK"
      },
      "execution_count": null,
      "outputs": []
    },
    {
      "cell_type": "code",
      "source": [
        "# Celda de verificación (no modificar)\n",
        "nombres_nuevos_esperados = list(mapa_nombres.values())\n",
        "condicion_exitosa = all(col in df_empleo.columns for col in nombres_nuevos_esperados)\n",
        "assert condicion_exitosa, \"No todas las columnas esperadas se encuentran en el DataFrame. Revisa el diccionario o la operación de renombrado.\"\n",
        "print(\"¡Verificación exitosa! Todas las columnas fueron renombradas correctamente. ✅\")\n",
        "print(\"¡Punto 2 completado con éxito! ✅\")"
      ],
      "metadata": {
        "id": "y00VD_7vJnZp"
      },
      "execution_count": null,
      "outputs": []
    },
    {
      "cell_type": "markdown",
      "source": [
        "# Ejercicio 3: Revisión de duplicados (5%)"
      ],
      "metadata": {
        "id": "mDK3ntrqJpGb"
      }
    },
    {
      "cell_type": "markdown",
      "source": [
        "Un paso crucial en la limpieza es asegurar que no haya observaciones duplicadas que puedan sesgar nuestro análisis."
      ],
      "metadata": {
        "id": "tkSSPWkKJrOL"
      }
    },
    {
      "cell_type": "markdown",
      "source": [
        "1. Verifica si hay filas duplicadas en `df_empleo`."
      ],
      "metadata": {
        "id": "rGdi4aqTr_pF"
      }
    },
    {
      "cell_type": "code",
      "source": [
        "### TU CÓDIGO AQUÍ ###\n"
      ],
      "metadata": {
        "id": "30Rj_lGmJwBq"
      },
      "execution_count": null,
      "outputs": []
    },
    {
      "cell_type": "markdown",
      "source": [
        "2. Cuenta cuántas filas duplicadas existen."
      ],
      "metadata": {
        "id": "z0pbTsshsD7e"
      }
    },
    {
      "cell_type": "code",
      "source": [
        "### TU CÓDIGO AQUÍ ###\n"
      ],
      "metadata": {
        "id": "O4nEAlp-sJ9b"
      },
      "execution_count": null,
      "outputs": []
    },
    {
      "cell_type": "markdown",
      "source": [
        "3. Elimina las filas duplicadas, si las hay."
      ],
      "metadata": {
        "id": "e4Nq586FsGdL"
      }
    },
    {
      "cell_type": "code",
      "source": [
        "### TU CÓDIGO AQUÍ ###\n"
      ],
      "metadata": {
        "id": "U5JVNZIcsKhV"
      },
      "execution_count": null,
      "outputs": []
    },
    {
      "cell_type": "markdown",
      "source": [
        "4. Verifica si hay filas duplicadas específicamente en las columnas 'id_vivienda', 'id_hogar', 'id_persona'."
      ],
      "metadata": {
        "id": "rYgKw_2mqLMY"
      }
    },
    {
      "cell_type": "code",
      "source": [
        "### TU CÓDIGO AQUÍ ###\n"
      ],
      "metadata": {
        "id": "YLE3lJfwsLar"
      },
      "execution_count": null,
      "outputs": []
    },
    {
      "cell_type": "code",
      "source": [
        "# Celda de verificación (no modificar)\n",
        "assert df_empleo.duplicated().sum() == 0, \"Aún existen filas duplicadas.\"\n",
        "print(\"¡Punto 3 completado con éxito! ✅\")"
      ],
      "metadata": {
        "id": "FDOUnz2tJz6C"
      },
      "execution_count": null,
      "outputs": []
    },
    {
      "cell_type": "markdown",
      "source": [
        "# Ejercicio 4: Valores faltantes (5%)"
      ],
      "metadata": {
        "id": "qKsEeYQ1J75s"
      }
    },
    {
      "cell_type": "markdown",
      "source": [
        "Los datos del mundo real raramente están completos. Aquí, trataremos los valores faltantes en la columna de ingresos.\n"
      ],
      "metadata": {
        "id": "-LRknAhpJ9vb"
      }
    },
    {
      "cell_type": "markdown",
      "source": [
        "1. Calcula el número de valores nulos (`NaN`) en la columna `ingreso_laboral` **antes** de cualquier modificación."
      ],
      "metadata": {
        "id": "ZbnH8-NtsXIK"
      }
    },
    {
      "cell_type": "code",
      "source": [
        "### TU CÓDIGO AQUÍ ###\n"
      ],
      "metadata": {
        "id": "cPwJh0CpKIv9"
      },
      "execution_count": null,
      "outputs": []
    },
    {
      "cell_type": "markdown",
      "source": [
        "2. En la GEIH, un ingreso faltante a menudo significa que la persona no reportó ingresos o no aplica (ej. no trabaja). Una estrategia común es imputar estos valores con `0`. Rellena los valores `NaN` en la columna `ingreso_laboral` con `0`."
      ],
      "metadata": {
        "id": "pdR4mVkRsa8x"
      }
    },
    {
      "cell_type": "code",
      "source": [
        "### TU CÓDIGO AQUÍ ###\n"
      ],
      "metadata": {
        "id": "ZPa-0393skWB"
      },
      "execution_count": null,
      "outputs": []
    },
    {
      "cell_type": "code",
      "source": [
        "# Celda de verificación (no modificar)\n",
        "assert df_empleo['ingreso_laboral'].isnull().sum() == 0, \"La columna 'ingreso_laboral' todavía tiene valores nulos.\"\n",
        "print(\"¡Punto 4 completado con éxito! ✅\")"
      ],
      "metadata": {
        "id": "PvmNifUxKKCz"
      },
      "execution_count": null,
      "outputs": []
    },
    {
      "cell_type": "markdown",
      "source": [
        "# Ejercicio 5: Decodificar variables (20%)\n",
        "\n"
      ],
      "metadata": {
        "id": "n1H51YH_KgH0"
      }
    },
    {
      "cell_type": "markdown",
      "source": [
        "Las variables categóricas a menudo necesitan ser \"traducidas\" para hacerlas más entendibles para el análisis."
      ],
      "metadata": {
        "id": "Bn2WHfpsKiHU"
      }
    },
    {
      "cell_type": "markdown",
      "source": [
        "1. Usa los siguientes diccionarios para reemplazar los códigos numéricos por etiquetas de texto en las siguientes columnas: 'clase', 'sexo', 'grupo_etnico', 'nivel_educativo' y 'categoria_ocupacional'. Muestra los conteos de las nuevas categorías usando `.value_counts()` para verificar el cambio en cada una de las columnas."
      ],
      "metadata": {
        "id": "Y4ABVfkitFmV"
      }
    },
    {
      "cell_type": "code",
      "source": [
        "dic_clase = {1: 'Cabeceras', 2: 'Centros poblados y rural disperso'}\n",
        "dic_sexo = {1: 'Hombre', 2: 'Mujer'}\n",
        "dic_etnico = {1: 'Indígena', 2: 'Gitano (Rom)', 3: 'Raizal del archipiélago', 4: 'Palenquero',\n",
        "              5: 'Negro, mulato (afrodescendiente)', 6: 'Ninguno de los anteriores'}\n",
        "dic_nivel_educativo = {1: 'Ninguno', 2: 'Educación media', 3: 'Educación media',\n",
        "                       4: 'Educación media', 5: 'Técnica profesional', 6: 'Tecnológica',\n",
        "                       7: 'Universitaria', 8: 'Especialización', 9: 'Maestría',\n",
        "                       10: 'Doctorado', 99: 'No sabe, no informa'}\n",
        "dic_cat_ocu = {1: 'Asalariado', 2: 'Asalariado', 3: 'Asalariado',\n",
        "               8: 'Asalariado', 4: 'Independiente', 5: 'Independiente',\n",
        "               9: 'Independiente', 6: 'Trabajador sin remuneración',\n",
        "               7: 'Trabajador sin remuneración'}"
      ],
      "metadata": {
        "id": "NCmxDLKZtLis"
      },
      "execution_count": null,
      "outputs": []
    },
    {
      "cell_type": "code",
      "source": [
        "### TU CÓDIGO AQUÍ ###\n"
      ],
      "metadata": {
        "id": "TrHuaJBFKtRG"
      },
      "execution_count": null,
      "outputs": []
    },
    {
      "cell_type": "code",
      "source": [
        "# Celda de verificación (no modificar)\n",
        "mapeos_a_verificar = {\n",
        "    'clase': dic_clase,\n",
        "    'sexo': dic_sexo,\n",
        "    'grupo_etnico': dic_etnico,\n",
        "    'nivel_educativo': dic_nivel_educativo,\n",
        "    'categoria_ocupacional': dic_cat_ocu\n",
        "}\n",
        "for columna, diccionario in mapeos_a_verificar.items():\n",
        "    es_numerica = pd.api.types.is_numeric_dtype(df_empleo[columna])\n",
        "    assert not es_numerica, f\"La columna '{columna}' todavía tiene un tipo de dato numérico. El reemplazo falló.\"\n",
        "    valor_texto_ejemplo = list(diccionario.values())[0]\n",
        "    categorias_unicas = df_empleo[columna].unique()\n",
        "    assert valor_texto_ejemplo in categorias_unicas, f\"No se encontró el valor '{valor_texto_ejemplo}' en la columna '{columna}'.\"\n",
        "    valor_numerico_ejemplo = list(diccionario.keys())[0]\n",
        "    assert valor_numerico_ejemplo not in categorias_unicas, f\"El código numérico '{valor_numerico_ejemplo}' todavía existe en la columna '{columna}'.\"\n",
        "print(\"¡Verificación completada con éxito! ✅ Todas las columnas categóricas fueron transformadas correctamente.\")"
      ],
      "metadata": {
        "id": "5-AKpA0ECgDV"
      },
      "execution_count": null,
      "outputs": []
    },
    {
      "cell_type": "markdown",
      "source": [
        "2. Utiliza el archivo \"2025-01-14 Correlativa CIIU Rev4.xlsx\", hoja 'CIIU 2022', para agregar al df_empleo las descripciones de los códigos CIIU a 4 dígitos. En df_empleo la columna con los códigos CIIU se llama 'cod_ciiu'. Si se agregan nuevas columnas al dataframe, distintas a la descripción del CIIU, debes borrarlas."
      ],
      "metadata": {
        "id": "WiqtdzC4tBsS"
      }
    },
    {
      "cell_type": "code",
      "source": [
        "### TU CÓDIGO AQUÍ ###\n"
      ],
      "metadata": {
        "id": "6_oWG6QFwT78"
      },
      "execution_count": null,
      "outputs": []
    },
    {
      "cell_type": "code",
      "source": [
        "# Celda de verificación (no modificar)\n",
        "assert 'DESCRIPCION_CIIU' in df_empleo.columns, \\\n",
        "    f\"La columna '{'DESCRIPCION_CIIU'}' no se encontró. Revisa el nombre que le diste a la nueva columna.\"\n",
        "assert df_empleo['DESCRIPCION_CIIU'].notna().sum() > 0, \\\n",
        "    f\"La columna '{'DESCRIPCION_CIIU'}' está completamente vacía. Verifica las llaves del merge.\"\n",
        "print(\"✅ Verificación del merge exitosa.\")"
      ],
      "metadata": {
        "id": "C9WIAoacD0aW"
      },
      "execution_count": null,
      "outputs": []
    },
    {
      "cell_type": "markdown",
      "source": [
        "3. Utiliza el archivo \"2025-01-14 Divipola.xlsx\", hoja 'Departamentos', para agregar al df_empleo los nombres de los departamentos. En df_empleo la columna con los códigos Divipola de los departamentos se llama 'departamento'. Si se agregan nuevas columnas al dataframe, distintas al nombre del departamento, debes borrarlas."
      ],
      "metadata": {
        "id": "VyjpGIlWu-3r"
      }
    },
    {
      "cell_type": "code",
      "source": [
        "### TU CÓDIGO AQUÍ ###\n"
      ],
      "metadata": {
        "id": "EHmvrKNGwUfs"
      },
      "execution_count": null,
      "outputs": []
    },
    {
      "cell_type": "code",
      "source": [
        "# Celda de verificación (no modificar)\n",
        "assert 'Nombre' in df_empleo.columns, \\\n",
        "    f\"La columna '{'Nombre'}' no se encontró. Revisa el nombre que le diste a la nueva columna.\"\n",
        "assert df_empleo['Nombre'].notna().sum() > 0, \\\n",
        "    f\"La columna '{'Nombre'}' está completamente vacía. Verifica las llaves del merge.\"\n",
        "print(\"✅ Verificación del merge exitosa.\")\n",
        "assert df_empleo.shape[0] == 408423, f\"Error en las filas. Se esperaban 408423, pero se encontraron {df_empleo.shape[0]}.\"\n",
        "assert df_empleo.shape[1] == 18, f\"Error en las columnas. Se esperaban 18, pero se encontraron {df_empleo.shape[1]}.\"\n",
        "print(\"¡Las dimensiones del DataFrame son correctas! ✅\")\n",
        "print(\"\\n¡Punto 5 completado con éxito! ✅\")"
      ],
      "metadata": {
        "id": "KZHvI9gMKwVN"
      },
      "execution_count": null,
      "outputs": []
    },
    {
      "cell_type": "markdown",
      "source": [
        "# Ejercicio 6: Crear nuevas variables y reorganizar columnas (10%)"
      ],
      "metadata": {
        "id": "Y-ItflSvwyUp"
      }
    },
    {
      "cell_type": "markdown",
      "source": [
        "La GEIH cuenta con un factor de expansión que permite extrapolar los datos de los encuestados a totales para la población colombiana. Usar este factor de expansión, permite calcular la población total del país, la población en edad de trabajar, el número de ocupados, el número de desempleados, entre otros datos."
      ],
      "metadata": {
        "id": "iLZcL0jZ5s3a"
      }
    },
    {
      "cell_type": "markdown",
      "source": [
        "1. Crea una nueva columna llamada \"fex\", la cual corresponderá a la columna 'factor_expansion' dividida en 6 (se divide en 6, ya que estamos tomando el dato de 6 meses)."
      ],
      "metadata": {
        "id": "4Kx-Bp4_ymPr"
      }
    },
    {
      "cell_type": "code",
      "source": [
        "### TU CÓDIGO AQUÍ ###\n"
      ],
      "metadata": {
        "id": "7mrMJ9nbxSAQ"
      },
      "execution_count": null,
      "outputs": []
    },
    {
      "cell_type": "markdown",
      "source": [
        "2. Crea una nueva columna llamada 'poblacion_total_ex', la cual corresponderá a la columna 'poblacion_total' multiplicada por la columna 'fex'."
      ],
      "metadata": {
        "id": "DktrPTCoy4M1"
      }
    },
    {
      "cell_type": "code",
      "source": [
        "### TU CÓDIGO AQUÍ ###\n"
      ],
      "metadata": {
        "id": "0aepu9XDzVkk"
      },
      "execution_count": null,
      "outputs": []
    },
    {
      "cell_type": "markdown",
      "source": [
        "3. Crea una nueva columna llamada 'ocupados_ex', la cual corresponderá a la columna 'ocupados' multiplicada por la columna 'fex'."
      ],
      "metadata": {
        "id": "hX_zBVyNzIac"
      }
    },
    {
      "cell_type": "code",
      "source": [
        "### TU CÓDIGO AQUÍ ###\n"
      ],
      "metadata": {
        "id": "dvIT6DWszV70"
      },
      "execution_count": null,
      "outputs": []
    },
    {
      "cell_type": "markdown",
      "source": [
        "4. Crea una nueva columna llamada 'joven', la cual debe decir 'Población joven' si la persona encuestada tiene entre 15 y 28 años (15 y 28 incluidos). De lo contrario, debe decir 'Resto de población'."
      ],
      "metadata": {
        "id": "L8wLDKDozSV_"
      }
    },
    {
      "cell_type": "code",
      "source": [
        "### TU CÓDIGO AQUÍ ###\n"
      ],
      "metadata": {
        "id": "tf5fV4BuzWhZ"
      },
      "execution_count": null,
      "outputs": []
    },
    {
      "cell_type": "markdown",
      "source": [
        "5. Reorganiza las columnas con el siguiente orden: 'id_vivienda', 'id_hogar', 'id_persona', 'mes', 'clase', 'departamento', 'Nombre', 'factor_expansion', 'fex', 'poblacion_total', 'poblacion_total_ex', 'sexo', 'edad', 'joven', 'grupo_etnico', 'nivel_educativo', 'ocupados', 'ocupados_ex', 'categoria_ocupacional', 'cod_ciiu', 'DESCRIPCION_CIIU', 'ingreso_laboral'"
      ],
      "metadata": {
        "id": "iHWtz2x8z_ht"
      }
    },
    {
      "cell_type": "code",
      "source": [
        "### TU CÓDIGO AQUÍ ###\n"
      ],
      "metadata": {
        "id": "MbyQ3HpS0RUH"
      },
      "execution_count": null,
      "outputs": []
    },
    {
      "cell_type": "code",
      "source": [
        "# Celda de verificación (no modificar)\n",
        "orden_esperado = [\n",
        "    'id_vivienda', 'id_hogar', 'id_persona', 'mes', 'clase',\n",
        "    'departamento', 'Nombre', 'factor_expansion', 'fex',\n",
        "    'poblacion_total', 'poblacion_total_ex', 'sexo', 'edad', 'joven',\n",
        "    'grupo_etnico', 'nivel_educativo', 'ocupados', 'ocupados_ex',\n",
        "    'categoria_ocupacional', 'cod_ciiu', 'DESCRIPCION_CIIU', 'ingreso_laboral'\n",
        "]\n",
        "orden_actual = df_empleo.columns.tolist()\n",
        "assert orden_actual == orden_esperado, \\\n",
        "    f\"\"\"El orden de las columnas es incorrecto.\n",
        "    - Orden Esperado: {orden_esperado}\n",
        "    - Orden Encontrado: {orden_actual}\"\"\"\n",
        "assert df_empleo.shape[0] == 408423, f\"Error en las filas. Se esperaban 408423, pero se encontraron {df_empleo.shape[0]}.\"\n",
        "assert df_empleo.shape[1] == 22, f\"Error en las columnas. Se esperaban 22, pero se encontraron {df_empleo.shape[1]}.\"\n",
        "print(\"¡Las dimensiones del DataFrame son correctas! ✅\")\n",
        "print(\"\\n¡Punto 6 completado con éxito! ✅\")"
      ],
      "metadata": {
        "id": "ihsGB0I4DRVY"
      },
      "execution_count": null,
      "outputs": []
    },
    {
      "cell_type": "markdown",
      "source": [
        "# Ejercicio 7: Cambiar tipo de dato (5%)\n",
        "\n"
      ],
      "metadata": {
        "id": "8Gpb7yfwKFO-"
      }
    },
    {
      "cell_type": "markdown",
      "source": [
        "Para realizar cálculos y análisis correctamente, las columnas deben tener el tipo de dato adecuado (numérico, categórico, etc.)."
      ],
      "metadata": {
        "id": "hkFBRCzwKOEE"
      }
    },
    {
      "cell_type": "markdown",
      "source": [
        "1.  Muestra en pantalla los tipos de datos actuales de `df_empleo`."
      ],
      "metadata": {
        "id": "kRT7DF6s7BCL"
      }
    },
    {
      "cell_type": "code",
      "source": [
        "### TU CÓDIGO AQUÍ ###\n"
      ],
      "metadata": {
        "id": "k0_IEFNH0_UK"
      },
      "execution_count": null,
      "outputs": []
    },
    {
      "cell_type": "markdown",
      "source": [
        "2.  Las siguientes columnas representan categorías: 'clase', 'departamento', 'Nombre', 'sexo', 'joven', 'grupo_etnico', 'nivel_educativo', 'categoria_ocupacional', 'cod_ciiu', 'DESCRIPCION_CIIU'. Conviértelas al tipo `category` para optimizar el uso de memoria y facilitar análisis futuros."
      ],
      "metadata": {
        "id": "zXy988Qm1OS2"
      }
    },
    {
      "cell_type": "code",
      "source": [
        "### TU CÓDIGO AQUÍ ###\n"
      ],
      "metadata": {
        "id": "5BkR3NX802TV"
      },
      "execution_count": null,
      "outputs": []
    },
    {
      "cell_type": "code",
      "source": [
        "# Celda de verificación (no modificar)\n",
        "columnas_categoricas_esperadas = [\n",
        "    'clase', 'departamento', 'Nombre', 'sexo', 'joven', 'grupo_etnico',\n",
        "    'nivel_educativo', 'categoria_ocupacional', 'cod_ciiu',\n",
        "    'DESCRIPCION_CIIU'\n",
        "]\n",
        "for columna in columnas_categoricas_esperadas:\n",
        "    assert columna in df_empleo.columns, \\\n",
        "        f\"La columna '{columna}' no fue encontrada en el DataFrame.\"\n",
        "    es_categoria = pd.api.types.is_categorical_dtype(df_empleo[columna])\n",
        "    assert es_categoria, \\\n",
        "        f\"La columna '{columna}' no fue convertida al tipo 'category'. Su tipo actual es {df_empleo[columna].dtype}.\"\n",
        "print(\"¡Verificación completada con éxito! ✅ Todas las columnas especificadas son del tipo 'category'.\")\n",
        "print(\"\\n¡Punto 7 completado con éxito! ✅\")"
      ],
      "metadata": {
        "id": "JFzWIE9YDTif"
      },
      "execution_count": null,
      "outputs": []
    },
    {
      "cell_type": "markdown",
      "source": [
        "# Ejercicio 8: Ordenar el dataframe (5%)"
      ],
      "metadata": {
        "id": "Wb-HHqtYxCkN"
      }
    },
    {
      "cell_type": "markdown",
      "source": [
        "1. Ordena el dataframe por la columna \"edad\" de mayor a menor. Observa la columna 'edad' y escribe en una celda de markdown cuál fue la edad mínima y la edad máxima de las personas que respondieron la encuesta de la GEIH."
      ],
      "metadata": {
        "id": "TDMbWuW61amC"
      }
    },
    {
      "cell_type": "code",
      "source": [
        "### TU CÓDIGO AQUÍ ###\n"
      ],
      "metadata": {
        "id": "06mW7HzCxTkj"
      },
      "execution_count": null,
      "outputs": []
    },
    {
      "cell_type": "markdown",
      "source": [
        "Escribe tu análisis aquí:\n"
      ],
      "metadata": {
        "id": "31QU_qxs159w"
      }
    },
    {
      "cell_type": "code",
      "source": [
        "# Celda de verificación (no modificar)\n",
        "es_descendiente = df_empleo['edad'].is_monotonic_decreasing\n",
        "assert es_descendiente, \"La columna 'edad' no está ordenada correctamente de mayor a menor.\"\n",
        "print(\"\\n¡Punto 8 completado con éxito! ✅\")"
      ],
      "metadata": {
        "id": "kWZSyN2BDVR6"
      },
      "execution_count": null,
      "outputs": []
    },
    {
      "cell_type": "markdown",
      "source": [
        "# Ejercicio 9: Groupby (20%)"
      ],
      "metadata": {
        "id": "c54hCArwxGil"
      }
    },
    {
      "cell_type": "markdown",
      "source": [
        "Agrupar los datos por categorías, nos permite realizar análisis más profundos y obtener insights valiosos, que a simple vista no vemos en la base de datos."
      ],
      "metadata": {
        "id": "ySxil6P27h77"
      }
    },
    {
      "cell_type": "markdown",
      "source": [
        "1. Crea un nuevo dataframe llamado \"df_sexo\" donde se agrupe por 'sexo' y se calcule la suma de las columnas 'poblacion_total_ex' y 'ocupados_ex'. Crea una nueva columna que se llame 'porcentaje_ocupados' donde dividas las columna 'ocupados_ex' sobre 'poblacion_total_ex'. Al final usa reset_index() para convertir las categorías de sexo en una columna."
      ],
      "metadata": {
        "id": "WIHMjFV-22-u"
      }
    },
    {
      "cell_type": "code",
      "source": [
        "### TU CÓDIGO AQUÍ ###\n"
      ],
      "metadata": {
        "id": "7WYPnwy122-w"
      },
      "execution_count": null,
      "outputs": []
    },
    {
      "cell_type": "code",
      "source": [
        "# Celda de verificación (no modificar)\n",
        "import numpy as np\n",
        "dimensiones_esperadas = (2, 4)\n",
        "assert df_sexo.shape == dimensiones_esperadas, \\\n",
        "    f\"Las dimensiones son incorrectas. Se esperaba {dimensiones_esperadas}, pero se encontró {df_sexo.shape}. ¿Aplicaste .reset_index()?\"\n",
        "assert 'sexo' in df_sexo.columns, \\\n",
        "    \"La columna 'sexo' no se encontró. ¿Olvidaste usar .reset_index() al final?\"\n",
        "assert not isinstance(df_sexo.index, pd.Index) or df_sexo.index.name != 'sexo', \\\n",
        "    \"El índice del DataFrame sigue siendo 'sexo'. Asegúrate de haber aplicado .reset_index().\"\n",
        "print(\"¡Verificación completada con éxito! ✅\")"
      ],
      "metadata": {
        "id": "NMRagQ94XNGL"
      },
      "execution_count": null,
      "outputs": []
    },
    {
      "cell_type": "markdown",
      "source": [
        "2. Crea un nuevo dataframe llamado \"df_educacion\" donde se agrupe por 'nivel_educativo' y se calcule la suma de las columnas 'poblacion_total_ex' y 'ocupados_ex'. Crea una nueva columna que se llame 'porcentaje_ocupados' donde dividas las columna 'ocupados_ex' sobre 'poblacion_total_ex'. Al final usa reset_index() para convertir las categorías de nivel educativo en una columna."
      ],
      "metadata": {
        "id": "MefzseKr23UG"
      }
    },
    {
      "cell_type": "code",
      "source": [
        "### TU CÓDIGO AQUÍ ###\n"
      ],
      "metadata": {
        "id": "3NRkgzh523UH"
      },
      "execution_count": null,
      "outputs": []
    },
    {
      "cell_type": "code",
      "source": [
        "# --- Celda de Verificación (No modificar) ---\n",
        "import numpy as np\n",
        "n_niveles_educativos = df_empleo['nivel_educativo'].nunique()\n",
        "dimensiones_esperadas = (n_niveles_educativos, 4)\n",
        "assert df_educacion.shape == dimensiones_esperadas, \\\n",
        "    f\"Las dimensiones son incorrectas. Se esperaba {dimensiones_esperadas} (filas, columnas), pero se encontró {df_educacion.shape}.\"\n",
        "columnas_esperadas = {'nivel_educativo', 'poblacion_total_ex', 'ocupados_ex', 'porcentaje_ocupados'}\n",
        "assert set(df_educacion.columns) == columnas_esperadas, \\\n",
        "    f\"Los nombres de las columnas no son correctos. Se esperaban {columnas_esperadas}.\"\n",
        "assert 'nivel_educativo' in df_educacion.columns, \\\n",
        "    \"La columna 'nivel_educativo' no se encontró. ¿Olvidaste usar .reset_index() al final?\"\n",
        "print(\"¡Verificación completada con éxito! ✅\")"
      ],
      "metadata": {
        "id": "SFZFncwpfpft"
      },
      "execution_count": null,
      "outputs": []
    },
    {
      "cell_type": "markdown",
      "source": [
        "3. En una celda de Markdown escribe qué conclusiones puedes sacar de la información obtenida en df_sexo y df_educacion."
      ],
      "metadata": {
        "id": "KuEjT1Jp3aFT"
      }
    },
    {
      "cell_type": "markdown",
      "source": [
        "Escribe tu análisis aquí:"
      ],
      "metadata": {
        "id": "BY6s7ETs3o4h"
      }
    },
    {
      "cell_type": "code",
      "source": [
        "# Celda de verificación (no modificar)\n",
        "print(\"\\n¡Punto 9 completado con éxito! ✅\")"
      ],
      "metadata": {
        "id": "FCIU3wuCju-M"
      },
      "execution_count": null,
      "outputs": []
    },
    {
      "cell_type": "markdown",
      "source": [
        "# Ejercicio 10: Exportar datos (5%)"
      ],
      "metadata": {
        "id": "-GXuUA5UxKDF"
      }
    },
    {
      "cell_type": "markdown",
      "source": [
        "Muchas veces requerimos exportar los resultados de nuestros análisis a Excel para compartir la información con otras personas."
      ],
      "metadata": {
        "id": "Q54IBwLT72mm"
      }
    },
    {
      "cell_type": "markdown",
      "source": [
        "Exporta los dataframes df_sexo y df_educacion a un Excel llamado 'Analisis_ocupados.xlsx'. Cada dataframe debe quedar en una hoja diferente. La hoja de 'df_sexo' se debe llamar 'sexo' y la hoja de 'df_educacion' se debe llamar 'educacion'."
      ],
      "metadata": {
        "id": "Ka546tVp3ulL"
      }
    },
    {
      "cell_type": "code",
      "source": [
        "### TU CÓDIGO AQUÍ ###\n"
      ],
      "metadata": {
        "id": "H08btaRixUaT"
      },
      "execution_count": null,
      "outputs": []
    },
    {
      "cell_type": "code",
      "source": [
        "# Celda de verificación (no modificar)\n",
        "import os\n",
        "import pandas as pd\n",
        "nombre_archivo = 'Analisis_ocupados.xlsx'\n",
        "assert os.path.exists(nombre_archivo), \\\n",
        "    f\"No se encontró el archivo '{nombre_archivo}'. ¿Lo exportaste con el nombre correcto?\"\n",
        "try:\n",
        "    xls = pd.ExcelFile(nombre_archivo)\n",
        "    nombres_hojas_encontrados = xls.sheet_names\n",
        "    nombres_hojas_esperados = ['sexo', 'educacion']\n",
        "    assert set(nombres_hojas_encontrados) == set(nombres_hojas_esperados), \\\n",
        "        f\"Los nombres de las hojas no son correctos. Se esperaban {nombres_hojas_esperados} pero se encontraron {nombres_hojas_encontrados}.\"\n",
        "    print(\"¡Verificación completada con éxito! ✅\")\n",
        "except Exception as e:\n",
        "    print(f\"Ocurrió un error al verificar el archivo: {e}\")\n",
        "print(\"\\n¡Punto 10 completado con éxito! ✅\")"
      ],
      "metadata": {
        "id": "LE9x_SUxDfr6"
      },
      "execution_count": null,
      "outputs": []
    }
  ],
  "metadata": {
    "colab": {
      "provenance": [],
      "include_colab_link": true
    },
    "kernelspec": {
      "display_name": "myenv",
      "language": "python",
      "name": "python3"
    },
    "language_info": {
      "codemirror_mode": {
        "name": "ipython",
        "version": 3
      },
      "file_extension": ".py",
      "mimetype": "text/x-python",
      "name": "python",
      "nbconvert_exporter": "python",
      "pygments_lexer": "ipython3",
      "version": "3.11.1"
    },
    "orig_nbformat": 4
  },
  "nbformat": 4,
  "nbformat_minor": 0
}