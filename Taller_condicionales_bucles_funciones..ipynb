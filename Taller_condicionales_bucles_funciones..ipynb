{
 "cells": [
  {
   "cell_type": "code",
   "execution_count": 8,
   "id": "136db230-9849-486b-98ef-4f63bbb687b7",
   "metadata": {},
   "outputs": [
    {
     "name": "stdin",
     "output_type": "stream",
     "text": [
      "Por favor, ingrese el porcentaje de inflación:  18\n"
     ]
    },
    {
     "name": "stdout",
     "output_type": "stream",
     "text": [
      "Con una inflación del 18.0%, el aumento salarial aprobado es del 12%\n"
     ]
    }
   ],
   "source": [
    "\n",
    "# # INTELIGENCIA ARTIFICIAL \n",
    "\n",
    "# ## TALLER CONDICIONALES, BUCLES Y FUNCIONES\n",
    "\n",
    "# Estudiante: Yuli Esquivel Martinez \n",
    "\n",
    "#Ejercicio 1 \n",
    "def calcular_aumento_salarial():\n",
    "    \"\"\"\n",
    "    Calcula el porcentaje de aumento salarial según el nivel de inflación.\n",
    "    \n",
    "    Esta función solicita al usuario el porcentaje de inflación y determina\n",
    "    el aumento salarial correspondiente según lo establecido:\n",
    "    - Inflación > 10% → Aumento 12%\n",
    "    - Inflación entre 6% y 10% → Aumento 8%\n",
    "    - Inflación < 6% → Aumento 5%\n",
    "    \"\"\"\n",
    "    try:\n",
    "     \n",
    "        inflacion = float(input(\"Por favor, ingrese el porcentaje de inflación: \"))\n",
    "        \n",
    "        if inflacion > 10:\n",
    "            aumento = 12\n",
    "            print(f\"Con una inflación del {inflacion}%, el aumento salarial aprobado es del {aumento}%\")\n",
    "        elif inflacion >= 6:\n",
    "            aumento = 8\n",
    "            print(f\"Con una inflación del {inflacion}%, el aumento salarial aprobado es del {aumento}%\")\n",
    "        else:\n",
    "            aumento = 5\n",
    "            print(f\"Con una inflación del {inflacion}%, el aumento salarial aprobado es del {aumento}%\")\n",
    "            \n",
    "    except ValueError:\n",
    "        print(\"Error: Debe ingresar un valor numérico válido.\")\n",
    "\n",
    "\n",
    "calcular_aumento_salarial()"
   ]
  },
  {
   "cell_type": "code",
   "execution_count": 9,
   "id": "7000bcd9-bae6-402f-8005-0d44f7456053",
   "metadata": {},
   "outputs": [
    {
     "name": "stdout",
     "output_type": "stream",
     "text": [
      "Número de ciudades con más de 100 empresas: 3\n"
     ]
    }
   ],
   "source": [
    "# Ejercicio 2 \n",
    "def contar_empresas():\n",
    "    \"\"\"\n",
    "    Cuenta cuántas ciudades tienen más de 100 empresas.\n",
    "    \n",
    "    Esta función toma una lista predefinida de números de empresas por ciudad\n",
    "    y utiliza un ciclo for para contar cuántas de estas ciudades tienen\n",
    "    más de 100 empresas registradas.\n",
    "    \"\"\"\n",
    "    empresas = [120, 85, 346, 210, 95]\n",
    "    contador = 0\n",
    "    \n",
    "    \n",
    "    for cantidad in empresas:\n",
    "        if cantidad > 100:\n",
    "            contador += 1\n",
    "    \n",
    "\n",
    "    print(f\"Número de ciudades con más de 100 empresas: {contador}\")\n",
    "\n",
    "contar_empresas()"
   ]
  },
  {
   "cell_type": "code",
   "execution_count": 10,
   "id": "5bff0592-1d68-483c-893a-ef4a1248569b",
   "metadata": {},
   "outputs": [
    {
     "name": "stdout",
     "output_type": "stream",
     "text": [
      "Múltiplos de 5 entre 1 y 50:\n",
      "5\n",
      "10\n",
      "15\n",
      "20\n",
      "25\n",
      "30\n",
      "35\n",
      "40\n",
      "45\n",
      "50\n"
     ]
    }
   ],
   "source": [
    "# Ejercicio 3\n",
    "def multiplos_de_5():\n",
    "    \"\"\"\n",
    "    Imprime todos los múltiplos de 5 entre 1 y 50 usando range()\n",
    "    \"\"\"\n",
    "    print(\"Múltiplos de 5 entre 1 y 50:\")\n",
    "    for numero in range(1, 51):\n",
    "        if numero % 5 == 0:\n",
    "            print(numero)\n",
    "\n",
    "\n",
    "multiplos_de_5()"
   ]
  },
  {
   "cell_type": "code",
   "execution_count": 11,
   "id": "e7c25fa1-5b9b-466b-831f-8026920c0210",
   "metadata": {},
   "outputs": [
    {
     "name": "stdout",
     "output_type": "stream",
     "text": [
      "Saldo inicial: $500,000\n"
     ]
    },
    {
     "name": "stdin",
     "output_type": "stream",
     "text": [
      "\n",
      "¿Cuánto desea retirar? (0 para salir):  40000\n"
     ]
    },
    {
     "name": "stdout",
     "output_type": "stream",
     "text": [
      "Retiro exitoso. Nuevo saldo: $460,000.0\n"
     ]
    },
    {
     "name": "stdin",
     "output_type": "stream",
     "text": [
      "\n",
      "¿Cuánto desea retirar? (0 para salir):  300000\n"
     ]
    },
    {
     "name": "stdout",
     "output_type": "stream",
     "text": [
      "Retiro exitoso. Nuevo saldo: $160,000.0\n"
     ]
    },
    {
     "name": "stdin",
     "output_type": "stream",
     "text": [
      "\n",
      "¿Cuánto desea retirar? (0 para salir):  160000\n"
     ]
    },
    {
     "name": "stdout",
     "output_type": "stream",
     "text": [
      "Retiro exitoso. Nuevo saldo: $0.0\n",
      "El cajero se ha quedado sin fondos.\n"
     ]
    }
   ],
   "source": [
    "# Ejercicio 4\n",
    "def cajero_automatico():\n",
    "    \"\"\"\n",
    "    Simula un cajero automático con saldo inicial de 500.000 pesos.\n",
    "    Permite retirar dinero hasta que el saldo sea 0 o el usuario ingrese 0.\n",
    "    \"\"\"\n",
    "    saldo = 500000\n",
    "    print(f\"Saldo inicial: ${saldo:,}\")\n",
    "    \n",
    "    while saldo > 0:\n",
    "        try:\n",
    "            retiro = float(input(\"\\n¿Cuánto desea retirar? (0 para salir): \"))\n",
    "            \n",
    "            if retiro == 0:\n",
    "                print(\"Gracias por usar nuestro cajero.\")\n",
    "                \n",
    "            elif retiro > saldo:\n",
    "                print(f\"Fondos insuficientes. Saldo disponible: ${saldo:,}\")\n",
    "            elif retiro < 0:\n",
    "                print(\"Error: No puede retirar cantidades negativas.\")\n",
    "            else:\n",
    "                saldo -= retiro\n",
    "                print(f\"Retiro exitoso. Nuevo saldo: ${saldo:,}\")\n",
    "                \n",
    "                if saldo == 0:\n",
    "                    print(\"El cajero se ha quedado sin fondos.\")\n",
    "                    \n",
    "                    \n",
    "        except ValueError:\n",
    "            print(\"Error: Ingrese una cantidad válida.\")\n",
    "\n",
    "\n",
    "cajero_automatico()"
   ]
  },
  {
   "cell_type": "code",
   "execution_count": 12,
   "id": "b383ab86-b718-42e7-aba2-d87b62c28289",
   "metadata": {},
   "outputs": [
    {
     "name": "stdout",
     "output_type": "stream",
     "text": [
      "4.0\n",
      "Error: no se puede calcular la raiz cuadrada de un número negativo.\n",
      "Error: el valor debe ser numérico.\n"
     ]
    }
   ],
   "source": [
    "# Ejercicio 5\n",
    "import math\n",
    "\n",
    "def raiz_cuadrada(num):\n",
    "    \"\"\"\n",
    "    Calcula la raíz cuadrada de un número.\n",
    "    \n",
    "    La condicion: \n",
    "    num: número del cual calcular la raíz cuadrada\n",
    "    \n",
    "    Devuelve:\n",
    "    - Raíz cuadrada si el número es positivo\n",
    "    - Mensaje da error si es negativo o no numérico\n",
    "    \"\"\"\n",
    "    try:\n",
    "        numero = float(num)\n",
    "        if numero < 0:\n",
    "            return \"Error: no se puede calcular la raiz cuadrada de un número negativo.\"\n",
    "        else:\n",
    "            return math.sqrt(numero)\n",
    "    except ValueError:\n",
    "        return \"Error: el valor debe ser numérico.\"\n",
    "\n",
    "\n",
    "print(raiz_cuadrada(16))    \n",
    "print(raiz_cuadrada(-9)) \n",
    "print(raiz_cuadrada(\"abc\")) "
   ]
  },
  {
   "cell_type": "code",
   "execution_count": 13,
   "id": "792d8405-c479-40b5-b7ea-1aef97cf5ebf",
   "metadata": {},
   "outputs": [
    {
     "name": "stdout",
     "output_type": "stream",
     "text": [
      "True\n",
      "False\n",
      "True\n"
     ]
    }
   ],
   "source": [
    "# Ejercicio 6\n",
    "def es_par(numero):\n",
    "    \"\"\"\n",
    "    Determina si un número entero es par o impar.\n",
    "    \n",
    "    La condicion: numero: verificar el número entero \n",
    "    \n",
    "    Devuelve: True si el número es par, False si es impar\n",
    "    \"\"\"\n",
    "    if numero % 2 == 0:\n",
    "        return True\n",
    "    else:\n",
    "        return False\n",
    "\n",
    "print(es_par(10))  # True\n",
    "print(es_par(7))   # False\n",
    "print(es_par(0))   # True\n"
   ]
  },
  {
   "cell_type": "code",
   "execution_count": 14,
   "id": "ac519f00-8889-441f-9871-f360f1c675b5",
   "metadata": {},
   "outputs": [
    {
     "name": "stdin",
     "output_type": "stream",
     "text": [
      "Crea una contraseña:  Yuliwwwh264.\n"
     ]
    },
    {
     "name": "stdout",
     "output_type": "stream",
     "text": [
      "Contraseña válida\n"
     ]
    }
   ],
   "source": [
    "# Ejercicio 7\n",
    "def validar_contrasena():\n",
    "    \"\"\"\n",
    "    Valida que una contraseña cumpla con:\n",
    "    - Al menos 8 caracteres\n",
    "    - Al menos una mayúscula\n",
    "    - Al menos una minúscula  \n",
    "    - Al menos un número\n",
    "    \"\"\"\n",
    "    contrasena = input(\"Crea una contraseña: \")\n",
    "    \n",
    "\n",
    "    if len(contrasena) < 8:\n",
    "        print(\"La contraseña debe tener al menos 8 caracteres.\")\n",
    "        return\n",
    "    \n",
    "\n",
    "    tiene_mayuscula = False\n",
    "    for caracter in contrasena:\n",
    "        if caracter.isupper():\n",
    "            tiene_mayuscula = True\n",
    "         \n",
    "\n",
    "    tiene_minuscula = False\n",
    "    for caracter in contrasena:\n",
    "        if caracter.islower():\n",
    "            tiene_minuscula = True\n",
    "    \n",
    "    tiene_numero = False\n",
    "    for caracter in contrasena:\n",
    "        if caracter.isdigit():\n",
    "            tiene_numero = True\n",
    "        \n",
    "    \n",
    " \n",
    "    if not tiene_mayuscula:\n",
    "        print(\"La contraseña debe contener al menos una letra mayúscula.\")\n",
    "    \n",
    "    if not tiene_minuscula:\n",
    "        print(\"La contraseña debe contener al menos una letra minúscula.\")\n",
    "    \n",
    "    if not tiene_numero:\n",
    "        print(\"La contraseña debe contener al menos un número.\")\n",
    "    \n",
    "    # Si cumple todo\n",
    "    if len(contrasena) >= 8 and tiene_mayuscula and tiene_minuscula and tiene_numero:\n",
    "        print(\"Contraseña válida\")\n",
    "\n",
    "validar_contrasena()"
   ]
  },
  {
   "cell_type": "code",
   "execution_count": 22,
   "id": "58acfc0e-8214-452b-a217-bbce55695469",
   "metadata": {},
   "outputs": [
    {
     "name": "stdout",
     "output_type": "stream",
     "text": [
      "gmail.com\n",
      "hotmail.com\n",
      "gmail.com\n"
     ]
    }
   ],
   "source": [
    "# Ejercicio 8\n",
    "def extraer_dominio(email):\n",
    "    \"\"\"\n",
    "    Extrae el dominio de una dirección de email.\n",
    "    \n",
    "    La condición: email: cadena con la dirección de email\n",
    "    \n",
    "    Devuelve: El dominio del email (parte después del @)\n",
    "    \"\"\"\n",
    "  \n",
    "    posicion_arroba = email.find('@')\n",
    "    \n",
    "    if posicion_arroba != -1:\n",
    "        dominio = email[posicion_arroba + 1:]\n",
    "        return dominio\n",
    "    else:\n",
    "        return \"Email no válido\"\n",
    "\n",
    "\n",
    "print(extraer_dominio('juanit@gmail.com'))           # gmail.com\n",
    "print(extraer_dominio('juanita.perez@hotmail.com'))  # hotmail.com\n",
    "print(extraer_dominio('lincastroco@gmail.com'))      # gmail.com"
   ]
  },
  {
   "cell_type": "code",
   "execution_count": 18,
   "id": "b4b00f13-53ed-4711-a9bb-2f07d8acba08",
   "metadata": {},
   "outputs": [
    {
     "name": "stdout",
     "output_type": "stream",
     "text": [
      "2\n",
      "1\n",
      "0\n"
     ]
    }
   ],
   "source": [
    "# Ejercicio 9\n",
    "def contar_desempleo(cadena):\n",
    "    \"\"\"\n",
    "    Cuenta cuántas veces aparece la palabra \"desempleo\" en un texto.\n",
    "    Ignora mayúsculas o minúsculas.\n",
    "    \n",
    "    La condicion:cadena: texto donde buscar la palabra\n",
    "    \n",
    "    Devuelve:Número de veces que aparece \"desempleo\"\n",
    "    \"\"\"\n",
    "    texto_minusculas = cadena.lower()\n",
    "    \n",
    "    cantidad = texto_minusculas.count(\"desempleo\")\n",
    "    \n",
    "    return cantidad\n",
    "\n",
    "# Pruebas del ejercicio 9\n",
    "print(contar_desempleo(\"El desempleo es un problema. El DESEMPLEO afecta a muchas personas.\"))  \n",
    "print(contar_desempleo(\"El desempleo aumentó en enero.\")) \n",
    "print(contar_desempleo(\"El gobierno tiene como meta reducir el número de personas desocupadas un 10%.\"))  \n"
   ]
  },
  {
   "cell_type": "code",
   "execution_count": 21,
   "id": "42639f69-a663-43df-9861-064f3a609a04",
   "metadata": {},
   "outputs": [
    {
     "name": "stdout",
     "output_type": "stream",
     "text": [
      "Sin cumpleaños:\n",
      "65 Km/h: Multa pequeña\n",
      "60 Km/h: Sin multa\n",
      "85 Km/h: Multa grande\n",
      "\n",
      "Con cumpleaños:\n",
      "65 Km/h: Sin multa\n",
      "70 Km/h: Multa pequeña\n",
      "86 Km/h: Multa grande\n"
     ]
    }
   ],
   "source": [
    "# Ejercicio 10\n",
    "def multa(velocidad, cumpleaños):\n",
    "    \"\"\"\n",
    "    Calcula el tipo de multa según la velocidad y si es el día de cumpleaños.\n",
    "    \n",
    "    La condicion: velocidad: velocidad en Km/h (número)\n",
    "    cumpleaños: True si es el día de cumpleaños, False si no (booleano)\n",
    "    \n",
    "    Devuelve: Tipo de multa: \"Sin multa\", \"Multa pequeña\" o \"Multa grande\"\n",
    "    \"\"\"\n",
    "    if cumpleaños:\n",
    "        velocidad_aj = velocidad - 5\n",
    "    else:\n",
    "        velocidad_aj = velocidad\n",
    "    \n",
    "    # Determinar tipo de multa\n",
    "    if velocidad_aj <= 60:\n",
    "        return \"Sin multa\"\n",
    "    elif velocidad_aj <= 80:\n",
    "        return \"Multa pequeña\"\n",
    "    else:\n",
    "        return \"Multa grande\"\n",
    "\n",
    "\n",
    "\n",
    "\n",
    "print(\"Sin cumpleaños:\")\n",
    "print(f\"65 Km/h: {multa(65, False)}\")    \n",
    "print(f\"60 Km/h: {multa(60, False)}\")    \n",
    "   \n",
    "print(f\"85 Km/h: {multa(85, False)}\")    \n",
    "\n",
    "print(\"\\nCon cumpleaños:\")\n",
    "# Pruebas CON cumpleaños\n",
    "print(f\"65 Km/h: {multa(65, True)}\")     \n",
    "print(f\"70 Km/h: {multa(70, True)}\")     \n",
    "     \n",
    "print(f\"86 Km/h: {multa(86, True)}\")     "
   ]
  },
  {
   "cell_type": "code",
   "execution_count": null,
   "id": "c8ebc1bb-716c-431a-a63e-c042b9999818",
   "metadata": {},
   "outputs": [],
   "source": []
  }
 ],
 "metadata": {
  "kernelspec": {
   "display_name": "Python 3 (ipykernel)",
   "language": "python",
   "name": "python3"
  },
  "language_info": {
   "codemirror_mode": {
    "name": "ipython",
    "version": 3
   },
   "file_extension": ".py",
   "mimetype": "text/x-python",
   "name": "python",
   "nbconvert_exporter": "python",
   "pygments_lexer": "ipython3",
   "version": "3.13.5"
  }
 },
 "nbformat": 4,
 "nbformat_minor": 5
}
